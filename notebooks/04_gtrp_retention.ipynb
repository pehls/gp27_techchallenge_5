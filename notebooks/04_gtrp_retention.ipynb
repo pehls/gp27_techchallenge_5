{
  "cells": [
    {
      "cell_type": "markdown",
      "metadata": {
        "id": "VW7xr-Zt9ezu"
      },
      "source": [
        "# **Análise de retenção**\n"
      ]
    },
    {
      "cell_type": "markdown",
      "metadata": {
        "id": "Hfl6Ybsb5-rh"
      },
      "source": [
        "## **Descrição do problema**\n",
        "\n",
        "#### Baseado nos dados da Pesquisa Etensiva do Desenvolvimento Educacional PEDE 2022, identificamos o termo \"evasão\" como a diferença entre o número de estudantes de uma dada idade em um ano, e o número de estudantes veteranos dessa mesma idade +1 ano no ano seguinte.\n",
        "\n",
        "#### Segundo os elaboradores da pesquisa, os dados apresentados indicam que existe uma rotatividade na Associação, que se expressa por meio de uma taxa de evasão média de 28,5% entre 2020 e 2022. Abaixo, é possível ver o gráfico de frequência da evasão entre 2021 e 2022\n",
        "\n",
        "## **Objetivo da Análise**\n",
        "\n",
        "#### Fazer uma análise do perfil dos alunos que evadiram, entender características que potencialmente tem mais correlação com essa prática e identificar quais outros alunos podem evadir, para que a Passos Mágicos consiga direcionar ações mais específicas para reter por mais tempo esses alunos ao longo do tempo.\n",
        "\n"
      ]
    },
    {
      "cell_type": "code",
      "execution_count": 1,
      "metadata": {
        "id": "CBeeKHWH10HB"
      },
      "outputs": [],
      "source": [
        "# Bibliotecas\n",
        "import pandas as pd\n",
        "import matplotlib.pyplot as plt\n",
        "import numpy as np"
      ]
    },
    {
      "cell_type": "code",
      "execution_count": 2,
      "metadata": {
        "id": "BUno5h211hOc"
      },
      "outputs": [],
      "source": [
        "df = pd.read_csv('../data/raw/PEDE_PASSOS_DATASET_FIAP.csv', sep=';')"
      ]
    },
    {
      "cell_type": "code",
      "execution_count": 3,
      "metadata": {
        "colab": {
          "base_uri": "https://localhost:8080/",
          "height": 412
        },
        "id": "QSDTfxCT2cKM",
        "outputId": "7db70028-3ac3-4bb3-883e-f835a2d02501"
      },
      "outputs": [
        {
          "data": {
            "text/html": [
              "<div>\n",
              "<style scoped>\n",
              "    .dataframe tbody tr th:only-of-type {\n",
              "        vertical-align: middle;\n",
              "    }\n",
              "\n",
              "    .dataframe tbody tr th {\n",
              "        vertical-align: top;\n",
              "    }\n",
              "\n",
              "    .dataframe thead th {\n",
              "        text-align: right;\n",
              "    }\n",
              "</style>\n",
              "<table border=\"1\" class=\"dataframe\">\n",
              "  <thead>\n",
              "    <tr style=\"text-align: right;\">\n",
              "      <th></th>\n",
              "      <th>INSTITUICAO_ENSINO_ALUNO_2020</th>\n",
              "      <th>NOME</th>\n",
              "      <th>IDADE_ALUNO_2020</th>\n",
              "      <th>ANOS_PM_2020</th>\n",
              "      <th>FASE_TURMA_2020</th>\n",
              "      <th>PONTO_VIRADA_2020</th>\n",
              "      <th>INDE_2020</th>\n",
              "      <th>INDE_CONCEITO_2020</th>\n",
              "      <th>PEDRA_2020</th>\n",
              "      <th>DESTAQUE_IEG_2020</th>\n",
              "      <th>...</th>\n",
              "      <th>IPP_2022</th>\n",
              "      <th>REC_AVA_1_2022</th>\n",
              "      <th>REC_AVA_2_2022</th>\n",
              "      <th>REC_AVA_3_2022</th>\n",
              "      <th>REC_AVA_4_2022</th>\n",
              "      <th>INDICADO_BOLSA_2022</th>\n",
              "      <th>PONTO_VIRADA_2022</th>\n",
              "      <th>IPV_2022</th>\n",
              "      <th>IAN_2022</th>\n",
              "      <th>NIVEL_IDEAL_2022</th>\n",
              "    </tr>\n",
              "  </thead>\n",
              "  <tbody>\n",
              "    <tr>\n",
              "      <th>0</th>\n",
              "      <td>Escola Pública</td>\n",
              "      <td>ALUNO-1</td>\n",
              "      <td>11</td>\n",
              "      <td>2</td>\n",
              "      <td>2H</td>\n",
              "      <td>Não</td>\n",
              "      <td>7.883752</td>\n",
              "      <td>B</td>\n",
              "      <td>Ametista</td>\n",
              "      <td>Seu destaque em 2020: A sua boa entrega das li...</td>\n",
              "      <td>...</td>\n",
              "      <td>NaN</td>\n",
              "      <td>NaN</td>\n",
              "      <td>NaN</td>\n",
              "      <td>NaN</td>\n",
              "      <td>NaN</td>\n",
              "      <td>NaN</td>\n",
              "      <td>NaN</td>\n",
              "      <td>NaN</td>\n",
              "      <td>NaN</td>\n",
              "      <td>NaN</td>\n",
              "    </tr>\n",
              "    <tr>\n",
              "      <th>1</th>\n",
              "      <td>NaN</td>\n",
              "      <td>ALUNO-2</td>\n",
              "      <td>NaN</td>\n",
              "      <td>NaN</td>\n",
              "      <td>NaN</td>\n",
              "      <td>NaN</td>\n",
              "      <td>NaN</td>\n",
              "      <td>NaN</td>\n",
              "      <td>NaN</td>\n",
              "      <td>NaN</td>\n",
              "      <td>...</td>\n",
              "      <td>5.625000</td>\n",
              "      <td>Mantido na Fase + Bolsa</td>\n",
              "      <td>Mantido na Fase atual</td>\n",
              "      <td>NaN</td>\n",
              "      <td>NaN</td>\n",
              "      <td>Sim</td>\n",
              "      <td>Não</td>\n",
              "      <td>7.916665</td>\n",
              "      <td>5.0</td>\n",
              "      <td>Fase 2 (5º e 6º ano)</td>\n",
              "    </tr>\n",
              "    <tr>\n",
              "      <th>2</th>\n",
              "      <td>Escola Pública</td>\n",
              "      <td>ALUNO-3</td>\n",
              "      <td>12</td>\n",
              "      <td>2</td>\n",
              "      <td>3H</td>\n",
              "      <td>Não</td>\n",
              "      <td>7.856389666666666</td>\n",
              "      <td>B</td>\n",
              "      <td>Ametista</td>\n",
              "      <td>Seu destaque em 2020: A sua boa entrega das li...</td>\n",
              "      <td>...</td>\n",
              "      <td>NaN</td>\n",
              "      <td>NaN</td>\n",
              "      <td>NaN</td>\n",
              "      <td>NaN</td>\n",
              "      <td>NaN</td>\n",
              "      <td>NaN</td>\n",
              "      <td>NaN</td>\n",
              "      <td>NaN</td>\n",
              "      <td>NaN</td>\n",
              "      <td>NaN</td>\n",
              "    </tr>\n",
              "    <tr>\n",
              "      <th>3</th>\n",
              "      <td>Escola Pública</td>\n",
              "      <td>ALUNO-4</td>\n",
              "      <td>10</td>\n",
              "      <td>2</td>\n",
              "      <td>1D</td>\n",
              "      <td>Não</td>\n",
              "      <td>5.076252</td>\n",
              "      <td>D</td>\n",
              "      <td>Quartzo</td>\n",
              "      <td>Ponto a melhorar em 2021: Melhorar a sua entre...</td>\n",
              "      <td>...</td>\n",
              "      <td>6.250000</td>\n",
              "      <td>Promovido de Fase</td>\n",
              "      <td>Mantido na Fase atual</td>\n",
              "      <td>Promovido de Fase</td>\n",
              "      <td>NaN</td>\n",
              "      <td>Não</td>\n",
              "      <td>Não</td>\n",
              "      <td>8.055553</td>\n",
              "      <td>5.0</td>\n",
              "      <td>Fase 3 (7º e 8º ano)</td>\n",
              "    </tr>\n",
              "    <tr>\n",
              "      <th>4</th>\n",
              "      <td>Escola Pública</td>\n",
              "      <td>ALUNO-5</td>\n",
              "      <td>10</td>\n",
              "      <td>1</td>\n",
              "      <td>2M</td>\n",
              "      <td>Não</td>\n",
              "      <td>8.077085</td>\n",
              "      <td>B</td>\n",
              "      <td>Ametista</td>\n",
              "      <td>Seu destaque em 2020: A sua boa entrega das li...</td>\n",
              "      <td>...</td>\n",
              "      <td>6.458333</td>\n",
              "      <td>Mantido na Fase atual</td>\n",
              "      <td>Promovido de Fase</td>\n",
              "      <td>Mantido na Fase atual</td>\n",
              "      <td>NaN</td>\n",
              "      <td>Não</td>\n",
              "      <td>Não</td>\n",
              "      <td>7.833337</td>\n",
              "      <td>5.0</td>\n",
              "      <td>Fase 3 (7º e 8º ano)</td>\n",
              "    </tr>\n",
              "  </tbody>\n",
              "</table>\n",
              "<p>5 rows × 69 columns</p>\n",
              "</div>"
            ],
            "text/plain": [
              "  INSTITUICAO_ENSINO_ALUNO_2020     NOME IDADE_ALUNO_2020 ANOS_PM_2020  \\\n",
              "0                Escola Pública  ALUNO-1               11            2   \n",
              "1                           NaN  ALUNO-2              NaN          NaN   \n",
              "2                Escola Pública  ALUNO-3               12            2   \n",
              "3                Escola Pública  ALUNO-4               10            2   \n",
              "4                Escola Pública  ALUNO-5               10            1   \n",
              "\n",
              "  FASE_TURMA_2020 PONTO_VIRADA_2020          INDE_2020 INDE_CONCEITO_2020  \\\n",
              "0              2H               Não           7.883752                  B   \n",
              "1             NaN               NaN                NaN                NaN   \n",
              "2              3H               Não  7.856389666666666                  B   \n",
              "3              1D               Não           5.076252                  D   \n",
              "4              2M               Não           8.077085                  B   \n",
              "\n",
              "  PEDRA_2020                                  DESTAQUE_IEG_2020  ...  \\\n",
              "0   Ametista  Seu destaque em 2020: A sua boa entrega das li...  ...   \n",
              "1        NaN                                                NaN  ...   \n",
              "2   Ametista  Seu destaque em 2020: A sua boa entrega das li...  ...   \n",
              "3    Quartzo  Ponto a melhorar em 2021: Melhorar a sua entre...  ...   \n",
              "4   Ametista  Seu destaque em 2020: A sua boa entrega das li...  ...   \n",
              "\n",
              "   IPP_2022           REC_AVA_1_2022         REC_AVA_2_2022  \\\n",
              "0       NaN                      NaN                    NaN   \n",
              "1  5.625000  Mantido na Fase + Bolsa  Mantido na Fase atual   \n",
              "2       NaN                      NaN                    NaN   \n",
              "3  6.250000        Promovido de Fase  Mantido na Fase atual   \n",
              "4  6.458333    Mantido na Fase atual      Promovido de Fase   \n",
              "\n",
              "          REC_AVA_3_2022 REC_AVA_4_2022 INDICADO_BOLSA_2022 PONTO_VIRADA_2022  \\\n",
              "0                    NaN            NaN                 NaN               NaN   \n",
              "1                    NaN            NaN                 Sim               Não   \n",
              "2                    NaN            NaN                 NaN               NaN   \n",
              "3      Promovido de Fase            NaN                 Não               Não   \n",
              "4  Mantido na Fase atual            NaN                 Não               Não   \n",
              "\n",
              "   IPV_2022 IAN_2022      NIVEL_IDEAL_2022  \n",
              "0       NaN      NaN                   NaN  \n",
              "1  7.916665      5.0  Fase 2 (5º e 6º ano)  \n",
              "2       NaN      NaN                   NaN  \n",
              "3  8.055553      5.0  Fase 3 (7º e 8º ano)  \n",
              "4  7.833337      5.0  Fase 3 (7º e 8º ano)  \n",
              "\n",
              "[5 rows x 69 columns]"
            ]
          },
          "execution_count": 3,
          "metadata": {},
          "output_type": "execute_result"
        }
      ],
      "source": [
        "df.head()"
      ]
    },
    {
      "cell_type": "markdown",
      "metadata": {
        "id": "HdI0z_3q5SWA"
      },
      "source": [
        "## **ANÁLISE EXPLORATÓRIA**\n",
        "\n",
        "#### A primeira forma de identificar os alunos que evadiram é entender quais features temos na base.\n",
        "\n",
        "#### Verificamos que existem dois campos, \"ponto_virada\" que pode nos trazer essa informação, visto que existe durante os 3 anos de dados existentes.\n",
        "\n"
      ]
    },
    {
      "cell_type": "markdown",
      "metadata": {
        "id": "LPtUA6Y1ItPV"
      },
      "source": [
        "### Identificando alunos que evadiram"
      ]
    },
    {
      "cell_type": "code",
      "execution_count": 4,
      "metadata": {
        "colab": {
          "base_uri": "https://localhost:8080/",
          "height": 206
        },
        "id": "XMSWpVYLCw2Y",
        "outputId": "22516694-f2ae-430e-f6e1-87b7eb032bb6"
      },
      "outputs": [
        {
          "data": {
            "text/html": [
              "<div>\n",
              "<style scoped>\n",
              "    .dataframe tbody tr th:only-of-type {\n",
              "        vertical-align: middle;\n",
              "    }\n",
              "\n",
              "    .dataframe tbody tr th {\n",
              "        vertical-align: top;\n",
              "    }\n",
              "\n",
              "    .dataframe thead th {\n",
              "        text-align: right;\n",
              "    }\n",
              "</style>\n",
              "<table border=\"1\" class=\"dataframe\">\n",
              "  <thead>\n",
              "    <tr style=\"text-align: right;\">\n",
              "      <th></th>\n",
              "      <th>NOME</th>\n",
              "      <th>PONTO_VIRADA_2020</th>\n",
              "      <th>PONTO_VIRADA_2021</th>\n",
              "      <th>PONTO_VIRADA_2022</th>\n",
              "    </tr>\n",
              "  </thead>\n",
              "  <tbody>\n",
              "    <tr>\n",
              "      <th>0</th>\n",
              "      <td>ALUNO-1</td>\n",
              "      <td>Não</td>\n",
              "      <td>Não</td>\n",
              "      <td>NaN</td>\n",
              "    </tr>\n",
              "    <tr>\n",
              "      <th>1</th>\n",
              "      <td>ALUNO-2</td>\n",
              "      <td>NaN</td>\n",
              "      <td>NaN</td>\n",
              "      <td>Não</td>\n",
              "    </tr>\n",
              "    <tr>\n",
              "      <th>2</th>\n",
              "      <td>ALUNO-3</td>\n",
              "      <td>Não</td>\n",
              "      <td>Não</td>\n",
              "      <td>NaN</td>\n",
              "    </tr>\n",
              "    <tr>\n",
              "      <th>3</th>\n",
              "      <td>ALUNO-4</td>\n",
              "      <td>Não</td>\n",
              "      <td>NaN</td>\n",
              "      <td>Não</td>\n",
              "    </tr>\n",
              "    <tr>\n",
              "      <th>4</th>\n",
              "      <td>ALUNO-5</td>\n",
              "      <td>Não</td>\n",
              "      <td>Não</td>\n",
              "      <td>Não</td>\n",
              "    </tr>\n",
              "  </tbody>\n",
              "</table>\n",
              "</div>"
            ],
            "text/plain": [
              "      NOME PONTO_VIRADA_2020 PONTO_VIRADA_2021 PONTO_VIRADA_2022\n",
              "0  ALUNO-1               Não               Não               NaN\n",
              "1  ALUNO-2               NaN               NaN               Não\n",
              "2  ALUNO-3               Não               Não               NaN\n",
              "3  ALUNO-4               Não               NaN               Não\n",
              "4  ALUNO-5               Não               Não               Não"
            ]
          },
          "execution_count": 4,
          "metadata": {},
          "output_type": "execute_result"
        }
      ],
      "source": [
        "indicacao_evasao = ['NOME', 'PONTO_VIRADA_2020', 'PONTO_VIRADA_2021', 'PONTO_VIRADA_2022']\n",
        "df_evasao = df[indicacao_evasao]\n",
        "\n",
        "df_evasao.head()"
      ]
    },
    {
      "cell_type": "code",
      "execution_count": 5,
      "metadata": {
        "id": "V3ia-4_HFpKw"
      },
      "outputs": [],
      "source": [
        "# Verificando quais alunos evadiram\n",
        "def verifica_evadidos(row):\n",
        "    if pd.isna(row['PONTO_VIRADA_2022']):  # Se PONTO_VIRADA_2022 for NaN\n",
        "        return True  # O aluno evadiu\n",
        "    elif pd.isna(row['PONTO_VIRADA_2020']):  # Se PONTO_VIRADA_2020 for NaN\n",
        "        return False  # O aluno não evadiu\n",
        "    elif pd.isna(row['PONTO_VIRADA_2021']):  # Se PONTO_VIRADA_2021 for NaN\n",
        "        return True  # O aluno evadiu\n",
        "    else:\n",
        "        return False  # O aluno não evadiu"
      ]
    },
    {
      "cell_type": "code",
      "execution_count": 6,
      "metadata": {
        "colab": {
          "base_uri": "https://localhost:8080/",
          "height": 781
        },
        "id": "DSehrqryF6my",
        "outputId": "92e3c96e-c882-40d7-ceab-1c8b5c138d8c"
      },
      "outputs": [
        {
          "name": "stderr",
          "output_type": "stream",
          "text": [
            "C:\\Users\\Pehls\\AppData\\Local\\Temp\\ipykernel_24396\\3149641427.py:1: SettingWithCopyWarning: \n",
            "A value is trying to be set on a copy of a slice from a DataFrame.\n",
            "Try using .loc[row_indexer,col_indexer] = value instead\n",
            "\n",
            "See the caveats in the documentation: https://pandas.pydata.org/pandas-docs/stable/user_guide/indexing.html#returning-a-view-versus-a-copy\n",
            "  df_evasao['EVADIU'] = df_evasao.apply(verifica_evadidos, axis=1)\n"
          ]
        },
        {
          "data": {
            "text/html": [
              "<div>\n",
              "<style scoped>\n",
              "    .dataframe tbody tr th:only-of-type {\n",
              "        vertical-align: middle;\n",
              "    }\n",
              "\n",
              "    .dataframe tbody tr th {\n",
              "        vertical-align: top;\n",
              "    }\n",
              "\n",
              "    .dataframe thead th {\n",
              "        text-align: right;\n",
              "    }\n",
              "</style>\n",
              "<table border=\"1\" class=\"dataframe\">\n",
              "  <thead>\n",
              "    <tr style=\"text-align: right;\">\n",
              "      <th></th>\n",
              "      <th>NOME</th>\n",
              "      <th>PONTO_VIRADA_2020</th>\n",
              "      <th>PONTO_VIRADA_2021</th>\n",
              "      <th>PONTO_VIRADA_2022</th>\n",
              "      <th>EVADIU</th>\n",
              "    </tr>\n",
              "  </thead>\n",
              "  <tbody>\n",
              "    <tr>\n",
              "      <th>0</th>\n",
              "      <td>ALUNO-1</td>\n",
              "      <td>Não</td>\n",
              "      <td>Não</td>\n",
              "      <td>NaN</td>\n",
              "      <td>True</td>\n",
              "    </tr>\n",
              "    <tr>\n",
              "      <th>1</th>\n",
              "      <td>ALUNO-2</td>\n",
              "      <td>NaN</td>\n",
              "      <td>NaN</td>\n",
              "      <td>Não</td>\n",
              "      <td>False</td>\n",
              "    </tr>\n",
              "    <tr>\n",
              "      <th>2</th>\n",
              "      <td>ALUNO-3</td>\n",
              "      <td>Não</td>\n",
              "      <td>Não</td>\n",
              "      <td>NaN</td>\n",
              "      <td>True</td>\n",
              "    </tr>\n",
              "    <tr>\n",
              "      <th>3</th>\n",
              "      <td>ALUNO-4</td>\n",
              "      <td>Não</td>\n",
              "      <td>NaN</td>\n",
              "      <td>Não</td>\n",
              "      <td>True</td>\n",
              "    </tr>\n",
              "    <tr>\n",
              "      <th>4</th>\n",
              "      <td>ALUNO-5</td>\n",
              "      <td>Não</td>\n",
              "      <td>Não</td>\n",
              "      <td>Não</td>\n",
              "      <td>False</td>\n",
              "    </tr>\n",
              "    <tr>\n",
              "      <th>5</th>\n",
              "      <td>ALUNO-6</td>\n",
              "      <td>NaN</td>\n",
              "      <td>NaN</td>\n",
              "      <td>Não</td>\n",
              "      <td>False</td>\n",
              "    </tr>\n",
              "    <tr>\n",
              "      <th>6</th>\n",
              "      <td>ALUNO-7</td>\n",
              "      <td>NaN</td>\n",
              "      <td>NaN</td>\n",
              "      <td>Não</td>\n",
              "      <td>False</td>\n",
              "    </tr>\n",
              "    <tr>\n",
              "      <th>7</th>\n",
              "      <td>ALUNO-8</td>\n",
              "      <td>Sim</td>\n",
              "      <td>Não</td>\n",
              "      <td>Não</td>\n",
              "      <td>False</td>\n",
              "    </tr>\n",
              "    <tr>\n",
              "      <th>8</th>\n",
              "      <td>ALUNO-9</td>\n",
              "      <td>NaN</td>\n",
              "      <td>NaN</td>\n",
              "      <td>Não</td>\n",
              "      <td>False</td>\n",
              "    </tr>\n",
              "    <tr>\n",
              "      <th>9</th>\n",
              "      <td>ALUNO-10</td>\n",
              "      <td>Não</td>\n",
              "      <td>NaN</td>\n",
              "      <td>NaN</td>\n",
              "      <td>True</td>\n",
              "    </tr>\n",
              "    <tr>\n",
              "      <th>10</th>\n",
              "      <td>ALUNO-11</td>\n",
              "      <td>Sim</td>\n",
              "      <td>Sim</td>\n",
              "      <td>Sim</td>\n",
              "      <td>False</td>\n",
              "    </tr>\n",
              "    <tr>\n",
              "      <th>11</th>\n",
              "      <td>ALUNO-12</td>\n",
              "      <td>Não</td>\n",
              "      <td>NaN</td>\n",
              "      <td>NaN</td>\n",
              "      <td>True</td>\n",
              "    </tr>\n",
              "    <tr>\n",
              "      <th>12</th>\n",
              "      <td>ALUNO-13</td>\n",
              "      <td>NaN</td>\n",
              "      <td>Não</td>\n",
              "      <td>NaN</td>\n",
              "      <td>True</td>\n",
              "    </tr>\n",
              "    <tr>\n",
              "      <th>13</th>\n",
              "      <td>ALUNO-14</td>\n",
              "      <td>Não</td>\n",
              "      <td>NaN</td>\n",
              "      <td>NaN</td>\n",
              "      <td>True</td>\n",
              "    </tr>\n",
              "    <tr>\n",
              "      <th>14</th>\n",
              "      <td>ALUNO-15</td>\n",
              "      <td>Não</td>\n",
              "      <td>NaN</td>\n",
              "      <td>NaN</td>\n",
              "      <td>True</td>\n",
              "    </tr>\n",
              "    <tr>\n",
              "      <th>15</th>\n",
              "      <td>ALUNO-16</td>\n",
              "      <td>NaN</td>\n",
              "      <td>NaN</td>\n",
              "      <td>Não</td>\n",
              "      <td>False</td>\n",
              "    </tr>\n",
              "    <tr>\n",
              "      <th>16</th>\n",
              "      <td>ALUNO-17</td>\n",
              "      <td>Não</td>\n",
              "      <td>Não</td>\n",
              "      <td>Não</td>\n",
              "      <td>False</td>\n",
              "    </tr>\n",
              "    <tr>\n",
              "      <th>17</th>\n",
              "      <td>ALUNO-18</td>\n",
              "      <td>Não</td>\n",
              "      <td>Não</td>\n",
              "      <td>Não</td>\n",
              "      <td>False</td>\n",
              "    </tr>\n",
              "    <tr>\n",
              "      <th>18</th>\n",
              "      <td>ALUNO-19</td>\n",
              "      <td>NaN</td>\n",
              "      <td>Não</td>\n",
              "      <td>Não</td>\n",
              "      <td>False</td>\n",
              "    </tr>\n",
              "    <tr>\n",
              "      <th>19</th>\n",
              "      <td>ALUNO-20</td>\n",
              "      <td>NaN</td>\n",
              "      <td>NaN</td>\n",
              "      <td>Sim</td>\n",
              "      <td>False</td>\n",
              "    </tr>\n",
              "  </tbody>\n",
              "</table>\n",
              "</div>"
            ],
            "text/plain": [
              "        NOME PONTO_VIRADA_2020 PONTO_VIRADA_2021 PONTO_VIRADA_2022  EVADIU\n",
              "0    ALUNO-1               Não               Não               NaN    True\n",
              "1    ALUNO-2               NaN               NaN               Não   False\n",
              "2    ALUNO-3               Não               Não               NaN    True\n",
              "3    ALUNO-4               Não               NaN               Não    True\n",
              "4    ALUNO-5               Não               Não               Não   False\n",
              "5    ALUNO-6               NaN               NaN               Não   False\n",
              "6    ALUNO-7               NaN               NaN               Não   False\n",
              "7    ALUNO-8               Sim               Não               Não   False\n",
              "8    ALUNO-9               NaN               NaN               Não   False\n",
              "9   ALUNO-10               Não               NaN               NaN    True\n",
              "10  ALUNO-11               Sim               Sim               Sim   False\n",
              "11  ALUNO-12               Não               NaN               NaN    True\n",
              "12  ALUNO-13               NaN               Não               NaN    True\n",
              "13  ALUNO-14               Não               NaN               NaN    True\n",
              "14  ALUNO-15               Não               NaN               NaN    True\n",
              "15  ALUNO-16               NaN               NaN               Não   False\n",
              "16  ALUNO-17               Não               Não               Não   False\n",
              "17  ALUNO-18               Não               Não               Não   False\n",
              "18  ALUNO-19               NaN               Não               Não   False\n",
              "19  ALUNO-20               NaN               NaN               Sim   False"
            ]
          },
          "execution_count": 6,
          "metadata": {},
          "output_type": "execute_result"
        }
      ],
      "source": [
        "df_evasao['EVADIU'] = df_evasao.apply(verifica_evadidos, axis=1)\n",
        "\n",
        "df_evasao.head(20)"
      ]
    },
    {
      "cell_type": "code",
      "execution_count": 7,
      "metadata": {
        "id": "nmL3js_yz63E"
      },
      "outputs": [],
      "source": [
        "# Função para identificar o último ano de ponto de virada antes de NaN\n",
        "def ultimo_ano(row):\n",
        "    if row['EVADIU']:  # Verifica se EVADIU é verdadeiro\n",
        "        if row['PONTO_VIRADA_2020'] in ['Sim', 'Não'] and pd.isna(row['PONTO_VIRADA_2021']):\n",
        "            return 2020\n",
        "        elif row['PONTO_VIRADA_2021'] in ['Sim', 'Não'] and pd.isna(row['PONTO_VIRADA_2022']):\n",
        "            return 2021\n",
        "        elif row['PONTO_VIRADA_2022'] in ['Sim', 'Não']:\n",
        "            return 2022\n",
        "    return pd.NA"
      ]
    },
    {
      "cell_type": "code",
      "execution_count": 8,
      "metadata": {
        "colab": {
          "base_uri": "https://localhost:8080/",
          "height": 781
        },
        "id": "KTaXG41ez8Vs",
        "outputId": "acc0f803-ef15-408b-ad31-93f6bf851e86"
      },
      "outputs": [
        {
          "name": "stderr",
          "output_type": "stream",
          "text": [
            "C:\\Users\\Pehls\\AppData\\Local\\Temp\\ipykernel_24396\\2470220789.py:2: SettingWithCopyWarning: \n",
            "A value is trying to be set on a copy of a slice from a DataFrame.\n",
            "Try using .loc[row_indexer,col_indexer] = value instead\n",
            "\n",
            "See the caveats in the documentation: https://pandas.pydata.org/pandas-docs/stable/user_guide/indexing.html#returning-a-view-versus-a-copy\n",
            "  df_evasao['ULTIMO_ANO'] = df_evasao.apply(ultimo_ano, axis=1)\n"
          ]
        },
        {
          "data": {
            "text/html": [
              "<div>\n",
              "<style scoped>\n",
              "    .dataframe tbody tr th:only-of-type {\n",
              "        vertical-align: middle;\n",
              "    }\n",
              "\n",
              "    .dataframe tbody tr th {\n",
              "        vertical-align: top;\n",
              "    }\n",
              "\n",
              "    .dataframe thead th {\n",
              "        text-align: right;\n",
              "    }\n",
              "</style>\n",
              "<table border=\"1\" class=\"dataframe\">\n",
              "  <thead>\n",
              "    <tr style=\"text-align: right;\">\n",
              "      <th></th>\n",
              "      <th>NOME</th>\n",
              "      <th>PONTO_VIRADA_2020</th>\n",
              "      <th>PONTO_VIRADA_2021</th>\n",
              "      <th>PONTO_VIRADA_2022</th>\n",
              "      <th>EVADIU</th>\n",
              "      <th>ULTIMO_ANO</th>\n",
              "    </tr>\n",
              "  </thead>\n",
              "  <tbody>\n",
              "    <tr>\n",
              "      <th>0</th>\n",
              "      <td>ALUNO-1</td>\n",
              "      <td>Não</td>\n",
              "      <td>Não</td>\n",
              "      <td>NaN</td>\n",
              "      <td>True</td>\n",
              "      <td>2021</td>\n",
              "    </tr>\n",
              "    <tr>\n",
              "      <th>1</th>\n",
              "      <td>ALUNO-2</td>\n",
              "      <td>NaN</td>\n",
              "      <td>NaN</td>\n",
              "      <td>Não</td>\n",
              "      <td>False</td>\n",
              "      <td>&lt;NA&gt;</td>\n",
              "    </tr>\n",
              "    <tr>\n",
              "      <th>2</th>\n",
              "      <td>ALUNO-3</td>\n",
              "      <td>Não</td>\n",
              "      <td>Não</td>\n",
              "      <td>NaN</td>\n",
              "      <td>True</td>\n",
              "      <td>2021</td>\n",
              "    </tr>\n",
              "    <tr>\n",
              "      <th>3</th>\n",
              "      <td>ALUNO-4</td>\n",
              "      <td>Não</td>\n",
              "      <td>NaN</td>\n",
              "      <td>Não</td>\n",
              "      <td>True</td>\n",
              "      <td>2020</td>\n",
              "    </tr>\n",
              "    <tr>\n",
              "      <th>4</th>\n",
              "      <td>ALUNO-5</td>\n",
              "      <td>Não</td>\n",
              "      <td>Não</td>\n",
              "      <td>Não</td>\n",
              "      <td>False</td>\n",
              "      <td>&lt;NA&gt;</td>\n",
              "    </tr>\n",
              "    <tr>\n",
              "      <th>5</th>\n",
              "      <td>ALUNO-6</td>\n",
              "      <td>NaN</td>\n",
              "      <td>NaN</td>\n",
              "      <td>Não</td>\n",
              "      <td>False</td>\n",
              "      <td>&lt;NA&gt;</td>\n",
              "    </tr>\n",
              "    <tr>\n",
              "      <th>6</th>\n",
              "      <td>ALUNO-7</td>\n",
              "      <td>NaN</td>\n",
              "      <td>NaN</td>\n",
              "      <td>Não</td>\n",
              "      <td>False</td>\n",
              "      <td>&lt;NA&gt;</td>\n",
              "    </tr>\n",
              "    <tr>\n",
              "      <th>7</th>\n",
              "      <td>ALUNO-8</td>\n",
              "      <td>Sim</td>\n",
              "      <td>Não</td>\n",
              "      <td>Não</td>\n",
              "      <td>False</td>\n",
              "      <td>&lt;NA&gt;</td>\n",
              "    </tr>\n",
              "    <tr>\n",
              "      <th>8</th>\n",
              "      <td>ALUNO-9</td>\n",
              "      <td>NaN</td>\n",
              "      <td>NaN</td>\n",
              "      <td>Não</td>\n",
              "      <td>False</td>\n",
              "      <td>&lt;NA&gt;</td>\n",
              "    </tr>\n",
              "    <tr>\n",
              "      <th>9</th>\n",
              "      <td>ALUNO-10</td>\n",
              "      <td>Não</td>\n",
              "      <td>NaN</td>\n",
              "      <td>NaN</td>\n",
              "      <td>True</td>\n",
              "      <td>2020</td>\n",
              "    </tr>\n",
              "    <tr>\n",
              "      <th>10</th>\n",
              "      <td>ALUNO-11</td>\n",
              "      <td>Sim</td>\n",
              "      <td>Sim</td>\n",
              "      <td>Sim</td>\n",
              "      <td>False</td>\n",
              "      <td>&lt;NA&gt;</td>\n",
              "    </tr>\n",
              "    <tr>\n",
              "      <th>11</th>\n",
              "      <td>ALUNO-12</td>\n",
              "      <td>Não</td>\n",
              "      <td>NaN</td>\n",
              "      <td>NaN</td>\n",
              "      <td>True</td>\n",
              "      <td>2020</td>\n",
              "    </tr>\n",
              "    <tr>\n",
              "      <th>12</th>\n",
              "      <td>ALUNO-13</td>\n",
              "      <td>NaN</td>\n",
              "      <td>Não</td>\n",
              "      <td>NaN</td>\n",
              "      <td>True</td>\n",
              "      <td>2021</td>\n",
              "    </tr>\n",
              "    <tr>\n",
              "      <th>13</th>\n",
              "      <td>ALUNO-14</td>\n",
              "      <td>Não</td>\n",
              "      <td>NaN</td>\n",
              "      <td>NaN</td>\n",
              "      <td>True</td>\n",
              "      <td>2020</td>\n",
              "    </tr>\n",
              "    <tr>\n",
              "      <th>14</th>\n",
              "      <td>ALUNO-15</td>\n",
              "      <td>Não</td>\n",
              "      <td>NaN</td>\n",
              "      <td>NaN</td>\n",
              "      <td>True</td>\n",
              "      <td>2020</td>\n",
              "    </tr>\n",
              "    <tr>\n",
              "      <th>15</th>\n",
              "      <td>ALUNO-16</td>\n",
              "      <td>NaN</td>\n",
              "      <td>NaN</td>\n",
              "      <td>Não</td>\n",
              "      <td>False</td>\n",
              "      <td>&lt;NA&gt;</td>\n",
              "    </tr>\n",
              "    <tr>\n",
              "      <th>16</th>\n",
              "      <td>ALUNO-17</td>\n",
              "      <td>Não</td>\n",
              "      <td>Não</td>\n",
              "      <td>Não</td>\n",
              "      <td>False</td>\n",
              "      <td>&lt;NA&gt;</td>\n",
              "    </tr>\n",
              "    <tr>\n",
              "      <th>17</th>\n",
              "      <td>ALUNO-18</td>\n",
              "      <td>Não</td>\n",
              "      <td>Não</td>\n",
              "      <td>Não</td>\n",
              "      <td>False</td>\n",
              "      <td>&lt;NA&gt;</td>\n",
              "    </tr>\n",
              "    <tr>\n",
              "      <th>18</th>\n",
              "      <td>ALUNO-19</td>\n",
              "      <td>NaN</td>\n",
              "      <td>Não</td>\n",
              "      <td>Não</td>\n",
              "      <td>False</td>\n",
              "      <td>&lt;NA&gt;</td>\n",
              "    </tr>\n",
              "    <tr>\n",
              "      <th>19</th>\n",
              "      <td>ALUNO-20</td>\n",
              "      <td>NaN</td>\n",
              "      <td>NaN</td>\n",
              "      <td>Sim</td>\n",
              "      <td>False</td>\n",
              "      <td>&lt;NA&gt;</td>\n",
              "    </tr>\n",
              "  </tbody>\n",
              "</table>\n",
              "</div>"
            ],
            "text/plain": [
              "        NOME PONTO_VIRADA_2020 PONTO_VIRADA_2021 PONTO_VIRADA_2022  EVADIU  \\\n",
              "0    ALUNO-1               Não               Não               NaN    True   \n",
              "1    ALUNO-2               NaN               NaN               Não   False   \n",
              "2    ALUNO-3               Não               Não               NaN    True   \n",
              "3    ALUNO-4               Não               NaN               Não    True   \n",
              "4    ALUNO-5               Não               Não               Não   False   \n",
              "5    ALUNO-6               NaN               NaN               Não   False   \n",
              "6    ALUNO-7               NaN               NaN               Não   False   \n",
              "7    ALUNO-8               Sim               Não               Não   False   \n",
              "8    ALUNO-9               NaN               NaN               Não   False   \n",
              "9   ALUNO-10               Não               NaN               NaN    True   \n",
              "10  ALUNO-11               Sim               Sim               Sim   False   \n",
              "11  ALUNO-12               Não               NaN               NaN    True   \n",
              "12  ALUNO-13               NaN               Não               NaN    True   \n",
              "13  ALUNO-14               Não               NaN               NaN    True   \n",
              "14  ALUNO-15               Não               NaN               NaN    True   \n",
              "15  ALUNO-16               NaN               NaN               Não   False   \n",
              "16  ALUNO-17               Não               Não               Não   False   \n",
              "17  ALUNO-18               Não               Não               Não   False   \n",
              "18  ALUNO-19               NaN               Não               Não   False   \n",
              "19  ALUNO-20               NaN               NaN               Sim   False   \n",
              "\n",
              "   ULTIMO_ANO  \n",
              "0        2021  \n",
              "1        <NA>  \n",
              "2        2021  \n",
              "3        2020  \n",
              "4        <NA>  \n",
              "5        <NA>  \n",
              "6        <NA>  \n",
              "7        <NA>  \n",
              "8        <NA>  \n",
              "9        2020  \n",
              "10       <NA>  \n",
              "11       2020  \n",
              "12       2021  \n",
              "13       2020  \n",
              "14       2020  \n",
              "15       <NA>  \n",
              "16       <NA>  \n",
              "17       <NA>  \n",
              "18       <NA>  \n",
              "19       <NA>  "
            ]
          },
          "execution_count": 8,
          "metadata": {},
          "output_type": "execute_result"
        }
      ],
      "source": [
        "# Aplicar a função para cada linha do DataFrame\n",
        "df_evasao['ULTIMO_ANO'] = df_evasao.apply(ultimo_ano, axis=1)\n",
        "\n",
        "df_evasao.head(20)"
      ]
    },
    {
      "cell_type": "code",
      "execution_count": 9,
      "metadata": {
        "colab": {
          "base_uri": "https://localhost:8080/",
          "height": 521
        },
        "id": "ct7AFnuPJhV7",
        "outputId": "8ba686db-4e87-457b-f52e-bf517ea8e440"
      },
      "outputs": [
        {
          "data": {
            "image/png": "[encoded data removed]",
            "text/plain": [
              "<Figure size 800x600 with 1 Axes>"
            ]
          },
          "metadata": {},
          "output_type": "display_data"
        }
      ],
      "source": [
        "# Contando o número de alunos que evadiram e não evadiram\n",
        "evadiu_count = df_evasao['EVADIU'].sum()\n",
        "nao_evadiu_count = len(df_evasao) - evadiu_count\n",
        "\n",
        "# Criando os rótulos e os valores para o gráfico de pizza\n",
        "labels = ['Evadiu', 'Não Evadiu']\n",
        "sizes = [evadiu_count, nao_evadiu_count]\n",
        "colors = ['lightcoral', 'lightskyblue']\n",
        "explode = (0.1, 0)  # explode 1st slice\n",
        "\n",
        "# Criando o gráfico de setores\n",
        "plt.figure(figsize=(8, 6))\n",
        "plt.pie(sizes, explode=explode, labels=labels, colors=colors, autopct='%1.1f%%', shadow=True, startangle=140)\n",
        "plt.title('Percentual de alunos que evadiram x alunos que não evadiram')\n",
        "plt.axis('equal')\n",
        "plt.show()"
      ]
    },
    {
      "cell_type": "markdown",
      "metadata": {
        "id": "KWDtOkiBLOAc"
      },
      "source": [
        "### **Estudo sobre os alunos evadidos**\n",
        "\n",
        "#### Agora que identificamos quais alunos evadiram, vamos agrupá-los e fazer uma análise exploratória"
      ]
    },
    {
      "cell_type": "code",
      "execution_count": 10,
      "metadata": {
        "colab": {
          "base_uri": "https://localhost:8080/"
        },
        "id": "VIsXsFtjLjHa",
        "outputId": "b90df61a-a6e3-4e6b-87dd-18532dbf717d"
      },
      "outputs": [
        {
          "name": "stdout",
          "output_type": "stream",
          "text": [
            "     INSTITUICAO_ENSINO_ALUNO_2020        NOME IDADE_ALUNO_2020 ANOS_PM_2020  \\\n",
            "0                   Escola Pública     ALUNO-1               11            2   \n",
            "1                              NaN     ALUNO-2              NaN          NaN   \n",
            "2                   Escola Pública     ALUNO-3               12            2   \n",
            "3                   Escola Pública     ALUNO-4               10            2   \n",
            "4                   Escola Pública     ALUNO-5               10            1   \n",
            "...                            ...         ...              ...          ...   \n",
            "1344                           NaN  ALUNO-1345              NaN          NaN   \n",
            "1345                           NaN  ALUNO-1346              NaN          NaN   \n",
            "1346                Escola Pública  ALUNO-1347               17            1   \n",
            "1347                Escola Pública  ALUNO-1348               13            2   \n",
            "1348                           NaN  ALUNO-1349              NaN          NaN   \n",
            "\n",
            "     FASE_TURMA_2020 PONTO_VIRADA_2020          INDE_2020 INDE_CONCEITO_2020  \\\n",
            "0                 2H               Não           7.883752                  B   \n",
            "1                NaN               NaN                NaN                NaN   \n",
            "2                 3H               Não  7.856389666666666                  B   \n",
            "3                 1D               Não           5.076252                  D   \n",
            "4                 2M               Não           8.077085                  B   \n",
            "...              ...               ...                ...                ...   \n",
            "1344             NaN               NaN                NaN                NaN   \n",
            "1345             NaN               NaN                NaN                NaN   \n",
            "1346              7B               Não  7.158543333333334                  C   \n",
            "1347              3R               Sim  7.842224333333333                  B   \n",
            "1348             NaN               NaN                NaN                NaN   \n",
            "\n",
            "     PEDRA_2020                                  DESTAQUE_IEG_2020  ...  \\\n",
            "0      Ametista  Seu destaque em 2020: A sua boa entrega das li...  ...   \n",
            "1           NaN                                                NaN  ...   \n",
            "2      Ametista  Seu destaque em 2020: A sua boa entrega das li...  ...   \n",
            "3       Quartzo  Ponto a melhorar em 2021: Melhorar a sua entre...  ...   \n",
            "4      Ametista  Seu destaque em 2020: A sua boa entrega das li...  ...   \n",
            "...         ...                                                ...  ...   \n",
            "1344        NaN                                                NaN  ...   \n",
            "1345        NaN                                                NaN  ...   \n",
            "1346      Ágata  Seu destaque em 2020: A sua boa entrega das li...  ...   \n",
            "1347   Ametista  Ponto a melhorar em 2021: Melhorar a sua entre...  ...   \n",
            "1348        NaN                                                NaN  ...   \n",
            "\n",
            "             REC_AVA_2_2022         REC_AVA_3_2022           REC_AVA_4_2022  \\\n",
            "0                       NaN                    NaN                      NaN   \n",
            "1     Mantido na Fase atual                    NaN                      NaN   \n",
            "2                       NaN                    NaN                      NaN   \n",
            "3     Mantido na Fase atual      Promovido de Fase                      NaN   \n",
            "4         Promovido de Fase  Mantido na Fase atual                      NaN   \n",
            "...                     ...                    ...                      ...   \n",
            "1344                    NaN                    NaN                      NaN   \n",
            "1345      Promovido de Fase                    NaN                      NaN   \n",
            "1346                    NaN                    NaN                      NaN   \n",
            "1347  Mantido na Fase atual      Promovido de Fase        Promovido de Fase   \n",
            "1348  Mantido na Fase atual      Promovido de Fase  Mantido na Fase + Bolsa   \n",
            "\n",
            "     INDICADO_BOLSA_2022 PONTO_VIRADA_2022  IPV_2022 IAN_2022  \\\n",
            "0                    NaN               NaN       NaN      NaN   \n",
            "1                    Sim               Não  7.916665      5.0   \n",
            "2                    NaN               NaN       NaN      NaN   \n",
            "3                    Não               Não  8.055553      5.0   \n",
            "4                    Não               Não  7.833337      5.0   \n",
            "...                  ...               ...       ...      ...   \n",
            "1344                 NaN               NaN       NaN      NaN   \n",
            "1345                 Não               Sim  9.083340      5.0   \n",
            "1346                 NaN               NaN       NaN      NaN   \n",
            "1347                 Não               Não  5.833328      5.0   \n",
            "1348                 Sim               Não  5.999993      5.0   \n",
            "\n",
            "          NIVEL_IDEAL_2022 EVADIU  ULTIMO_ANO  \n",
            "0                      NaN   True        2021  \n",
            "1     Fase 2 (5º e 6º ano)  False        <NA>  \n",
            "2                      NaN   True        2021  \n",
            "3     Fase 3 (7º e 8º ano)   True        2020  \n",
            "4     Fase 3 (7º e 8º ano)  False        <NA>  \n",
            "...                    ...    ...         ...  \n",
            "1344                   NaN   True        2021  \n",
            "1345       Fase 1 (4º ano)  False        <NA>  \n",
            "1346                   NaN   True        2020  \n",
            "1347        Fase 5 (1º EM)  False        <NA>  \n",
            "1348        Fase 5 (1º EM)  False        <NA>  \n",
            "\n",
            "[1349 rows x 71 columns]\n"
          ]
        }
      ],
      "source": [
        "# Mesclar os DataFrames com base na coluna 'NOME'\n",
        "df = df.merge(df_evasao[['NOME', 'EVADIU', 'ULTIMO_ANO']], on='NOME', how='left')\n",
        "\n",
        "# Visualizar o DataFrame combinado\n",
        "print(df)"
      ]
    },
    {
      "cell_type": "code",
      "execution_count": 11,
      "metadata": {},
      "outputs": [
        {
          "data": {
            "text/plain": [
              "Index(['INSTITUICAO_ENSINO_ALUNO_2020', 'NOME', 'IDADE_ALUNO_2020',\n",
              "       'ANOS_PM_2020', 'FASE_TURMA_2020', 'PONTO_VIRADA_2020', 'INDE_2020',\n",
              "       'INDE_CONCEITO_2020', 'PEDRA_2020', 'DESTAQUE_IEG_2020',\n",
              "       'DESTAQUE_IDA_2020', 'DESTAQUE_IPV_2020', 'IAA_2020', 'IEG_2020',\n",
              "       'IPS_2020', 'IDA_2020', 'IPP_2020', 'IPV_2020', 'IAN_2020', 'FASE_2021',\n",
              "       'TURMA_2021', 'INSTITUICAO_ENSINO_ALUNO_2021',\n",
              "       'SINALIZADOR_INGRESSANTE_2021', 'PEDRA_2021', 'INDE_2021', 'IAA_2021',\n",
              "       'IEG_2021', 'IPS_2021', 'IDA_2021', 'IPP_2021', 'REC_EQUIPE_1_2021',\n",
              "       'REC_EQUIPE_2_2021', 'REC_EQUIPE_3_2021', 'REC_EQUIPE_4_2021',\n",
              "       'PONTO_VIRADA_2021', 'IPV_2021', 'IAN_2021', 'NIVEL_IDEAL_2021',\n",
              "       'DEFASAGEM_2021', 'FASE_2022', 'TURMA_2022', 'ANO_INGRESSO_2022',\n",
              "       'BOLSISTA_2022', 'INDE_2022', 'CG_2022', 'CF_2022', 'CT_2022',\n",
              "       'PEDRA_2022', 'DESTAQUE_IEG_2022', 'DESTAQUE_IDA_2022',\n",
              "       'DESTAQUE_IPV_2022', 'IAA_2022', 'IEG_2022', 'IPS_2022', 'IDA_2022',\n",
              "       'NOTA_PORT_2022', 'NOTA_MAT_2022', 'NOTA_ING_2022', 'QTD_AVAL_2022',\n",
              "       'IPP_2022', 'REC_AVA_1_2022', 'REC_AVA_2_2022', 'REC_AVA_3_2022',\n",
              "       'REC_AVA_4_2022', 'INDICADO_BOLSA_2022', 'PONTO_VIRADA_2022',\n",
              "       'IPV_2022', 'IAN_2022', 'NIVEL_IDEAL_2022', 'EVADIU', 'ULTIMO_ANO'],\n",
              "      dtype='object')"
            ]
          },
          "execution_count": 11,
          "metadata": {},
          "output_type": "execute_result"
        }
      ],
      "source": [
        "cols = ['INDE_2020','IAA_2020', 'IEG_2020','IPS_2020', 'IDA_2020', 'IPP_2020', 'IPV_2020', 'IAN_2020',\n",
        "         'INDE_2021', 'IAA_2021','IEG_2021', 'IPS_2021', 'IDA_2021', 'IPP_2021','IPV_2021', 'IAN_2021','DEFASAGEM_2021',\n",
        "         'INDE_2022', 'CG_2022', 'CF_2022', 'CT_2022','IAA_2022', 'IEG_2022', 'IPS_2022', 'IDA_2022','IPP_2022', 'IPV_2022', 'IAN_2022']\n",
        "df.columns"
      ]
    },
    {
      "cell_type": "code",
      "execution_count": 12,
      "metadata": {},
      "outputs": [],
      "source": [
        "# removendo linha problematica\n",
        "df = df.loc[~(df['INDE_2020'] == 'D980')]"
      ]
    },
    {
      "cell_type": "code",
      "execution_count": 13,
      "metadata": {},
      "outputs": [],
      "source": [
        "df.loc[(df['INDE_2021'] == '#NULO!'),['INDE_2021']] = np.nan"
      ]
    },
    {
      "cell_type": "code",
      "execution_count": 14,
      "metadata": {
        "colab": {
          "base_uri": "https://localhost:8080/",
          "height": 350
        },
        "id": "N0-v6ZUcNBUG",
        "outputId": "5c647f36-8158-4f0f-e297-094a744b0f73"
      },
      "outputs": [
        {
          "name": "stdout",
          "output_type": "stream",
          "text": [
            "-=-=-=-=-=-=-=-=-=-=-=-=-=-=-=-=-=-=-=-=\n",
            "INDE_2020\n",
            "        count  unique       top  freq\n",
            "EVADIU                               \n",
            "False   314.0   314.0  8.077085   1.0\n",
            "True    413.0   413.0  7.883752   1.0\n",
            "-=-=-=-=-=-=-=-=-=-=-=-=-=-=-=-=-=-=-=-=\n",
            "IAA_2020\n",
            "        count  unique      top  freq\n",
            "EVADIU                              \n",
            "False   314.0    35.0  9.00002  71.0\n",
            "True    413.0    35.0  9.00002  52.0\n",
            "-=-=-=-=-=-=-=-=-=-=-=-=-=-=-=-=-=-=-=-=\n",
            "IEG_2020\n",
            "        count  unique   top  freq\n",
            "EVADIU                           \n",
            "False   314.0    58.0  10.0  41.0\n",
            "True    413.0    84.0  10.0  46.0\n",
            "-=-=-=-=-=-=-=-=-=-=-=-=-=-=-=-=-=-=-=-=\n",
            "IPS_2020\n",
            "        count  unique  top   freq\n",
            "EVADIU                           \n",
            "False   314.0    13.0  7.5  166.0\n",
            "True    413.0    13.0  7.5  230.0\n",
            "-=-=-=-=-=-=-=-=-=-=-=-=-=-=-=-=-=-=-=-=\n",
            "IDA_2020\n",
            "        count  unique   top  freq\n",
            "EVADIU                           \n",
            "False   314.0    44.0  10.0  44.0\n",
            "True    413.0    67.0   0.0  59.0\n",
            "-=-=-=-=-=-=-=-=-=-=-=-=-=-=-=-=-=-=-=-=\n",
            "IPP_2020\n",
            "        count  unique    top  freq\n",
            "EVADIU                            \n",
            "False   314.0    53.0  8.125  35.0\n",
            "True    413.0    60.0  8.125  38.0\n",
            "-=-=-=-=-=-=-=-=-=-=-=-=-=-=-=-=-=-=-=-=\n",
            "IPV_2020\n",
            "        count  unique  top  freq\n",
            "EVADIU                          \n",
            "False   314.0   187.0  7.5  14.0\n",
            "True    413.0   252.0  0.0  26.0\n",
            "-=-=-=-=-=-=-=-=-=-=-=-=-=-=-=-=-=-=-=-=\n",
            "IAN_2020\n",
            "        count  unique   top   freq\n",
            "EVADIU                            \n",
            "False   314.0     3.0  10.0  160.0\n",
            "True    413.0     3.0   5.0  206.0\n",
            "-=-=-=-=-=-=-=-=-=-=-=-=-=-=-=-=-=-=-=-=\n",
            "INDE_2021\n",
            "        count  unique    top  freq\n",
            "EVADIU                            \n",
            "False   457.0   429.0  7.196   4.0\n",
            "True    227.0   223.0  8.040   3.0\n",
            "-=-=-=-=-=-=-=-=-=-=-=-=-=-=-=-=-=-=-=-=\n",
            "IAA_2021\n",
            "        count      mean       std  min  25%  50%  75%   max\n",
            "EVADIU                                                     \n",
            "False   457.0  8.318381  2.032329  0.0  8.0  8.8  9.5  10.0\n",
            "True    229.0  7.824454  2.456251  0.0  7.5  8.5  9.0  10.0\n",
            "-=-=-=-=-=-=-=-=-=-=-=-=-=-=-=-=-=-=-=-=\n",
            "IEG_2021\n",
            "        count      mean       std  min  25%  50%  75%   max\n",
            "EVADIU                                                     \n",
            "False   457.0  7.154267  2.389228  0.0  5.8  7.5  9.2  10.0\n",
            "True    229.0  6.160699  2.466518  0.0  4.4  6.3  8.1  10.0\n",
            "-=-=-=-=-=-=-=-=-=-=-=-=-=-=-=-=-=-=-=-=\n",
            "IPS_2021\n",
            "        count      mean       std  min  25%  50%  75%  max\n",
            "EVADIU                                                    \n",
            "False   457.0  6.891685  1.337735  0.0  6.9  7.5  7.5  8.8\n",
            "True    229.0  6.747598  1.669188  0.0  6.9  7.5  7.5  8.8\n",
            "-=-=-=-=-=-=-=-=-=-=-=-=-=-=-=-=-=-=-=-=\n",
            "IDA_2021\n",
            "        count      mean       std  min  25%  50%  75%  max\n",
            "EVADIU                                                    \n",
            "False   457.0  5.709628  2.014888  0.0  4.6  6.0  7.1  9.5\n",
            "True    229.0  4.859825  2.275143  0.0  3.2  5.1  6.6  9.0\n",
            "-=-=-=-=-=-=-=-=-=-=-=-=-=-=-=-=-=-=-=-=\n",
            "IPP_2021\n",
            "        count      mean       std  min  25%  50%  75%   max\n",
            "EVADIU                                                     \n",
            "False   457.0  7.668490  0.934695  2.5  7.5  7.7  8.1  10.0\n",
            "True    229.0  7.392576  1.287009  0.0  7.2  7.5  8.1   9.4\n",
            "-=-=-=-=-=-=-=-=-=-=-=-=-=-=-=-=-=-=-=-=\n",
            "IPV_2021\n",
            "        count      mean       std  min  25%  50%  75%   max\n",
            "EVADIU                                                     \n",
            "False   457.0  7.610284  1.552122  2.5  6.7  7.9  8.7  10.0\n",
            "True    229.0  7.003057  1.699675  0.0  6.1  7.2  8.2  10.0\n",
            "-=-=-=-=-=-=-=-=-=-=-=-=-=-=-=-=-=-=-=-=\n",
            "IAN_2021\n",
            "        count      mean       std  min  25%  50%   75%   max\n",
            "EVADIU                                                      \n",
            "False   457.0  6.974836  2.488553  2.5  5.0  5.0  10.0  10.0\n",
            "True    229.0  6.757642  2.476910  2.5  5.0  5.0  10.0  10.0\n",
            "-=-=-=-=-=-=-=-=-=-=-=-=-=-=-=-=-=-=-=-=\n",
            "DEFASAGEM_2021\n",
            "        count      mean       std  min  25%  50%  75%  max\n",
            "EVADIU                                                    \n",
            "False   457.0 -0.706783  0.773334 -3.0 -1.0 -1.0  0.0  3.0\n",
            "True    229.0 -0.842795  0.822759 -4.0 -1.0 -1.0  0.0  1.0\n",
            "-=-=-=-=-=-=-=-=-=-=-=-=-=-=-=-=-=-=-=-=\n",
            "INDE_2022\n",
            "        count      mean       std       min       25%       50%       75%  \\\n",
            "EVADIU                                                                      \n",
            "False   849.0  7.027589  1.031707  3.031806  6.464253  7.202978  7.747224   \n",
            "True     13.0  7.077252  0.940704  5.538561  6.580093  7.039505  7.958056   \n",
            "\n",
            "             max  \n",
            "EVADIU            \n",
            "False   9.441522  \n",
            "True    8.676670  \n",
            "-=-=-=-=-=-=-=-=-=-=-=-=-=-=-=-=-=-=-=-=\n",
            "CG_2022\n",
            "        count        mean         std   min    25%    50%    75%    max\n",
            "EVADIU                                                                 \n",
            "False   849.0  431.356890  248.948337   1.0  217.0  429.0  648.0  862.0\n",
            "True     13.0  440.846154  261.258125  17.0  152.0  475.0  633.0  786.0\n",
            "-=-=-=-=-=-=-=-=-=-=-=-=-=-=-=-=-=-=-=-=\n",
            "CF_2022\n",
            "        count       mean        std  min   25%   50%    75%    max\n",
            "EVADIU                                                            \n",
            "False   849.0  75.448763  52.356498  1.0  30.0  66.0  118.0  192.0\n",
            "True     13.0  72.000000  51.372820  3.0  29.0  69.0  110.0  181.0\n",
            "-=-=-=-=-=-=-=-=-=-=-=-=-=-=-=-=-=-=-=-=\n",
            "CT_2022\n",
            "        count      mean      std  min  25%  50%   75%   max\n",
            "EVADIU                                                     \n",
            "False   849.0  6.621908  3.98577  1.0  3.0  6.0  10.0  18.0\n",
            "True     13.0  6.307692  4.38529  1.0  3.0  5.0   9.0  16.0\n",
            "-=-=-=-=-=-=-=-=-=-=-=-=-=-=-=-=-=-=-=-=\n",
            "IAA_2022\n",
            "        count      mean       std      min      25%      50%      75%  \\\n",
            "EVADIU                                                                  \n",
            "False   849.0  8.256689  2.091637  0.00000  7.91667  8.75001  9.50002   \n",
            "True     13.0  8.679502  1.069817  6.66667  8.33334  9.00002  9.50002   \n",
            "\n",
            "             max  \n",
            "EVADIU            \n",
            "False   10.00002  \n",
            "True    10.00002  \n",
            "-=-=-=-=-=-=-=-=-=-=-=-=-=-=-=-=-=-=-=-=\n",
            "IEG_2022\n",
            "        count      mean       std       min       25%       50%       75%  \\\n",
            "EVADIU                                                                      \n",
            "False   849.0  7.873799  1.653865  0.000000  6.992521  8.301236  9.099410   \n",
            "True     13.0  8.333235  1.261132  5.095109  8.071429  8.575000  9.166667   \n",
            "\n",
            "              max  \n",
            "EVADIU             \n",
            "False   10.000000  \n",
            "True     9.691651  \n",
            "-=-=-=-=-=-=-=-=-=-=-=-=-=-=-=-=-=-=-=-=\n",
            "IPS_2022\n",
            "        count      mean       std  min    25%  50%  75%   max\n",
            "EVADIU                                                       \n",
            "False   849.0  6.901502  1.066773  2.5  6.250  7.5  7.5  10.0\n",
            "True     13.0  6.875000  1.325825  5.0  5.625  7.5  7.5  10.0\n",
            "-=-=-=-=-=-=-=-=-=-=-=-=-=-=-=-=-=-=-=-=\n",
            "IDA_2022\n",
            "        count      mean       std  min   25%       50%       75%       max\n",
            "EVADIU                                                                    \n",
            "False   849.0  6.075043  2.065212  0.0  4.75  6.333333  7.583333  9.916667\n",
            "True     13.0  5.786325  1.671974  3.0  5.00  5.500000  6.677778  9.100000\n",
            "-=-=-=-=-=-=-=-=-=-=-=-=-=-=-=-=-=-=-=-=\n",
            "IPP_2022\n",
            "        count      mean       std    min    25%   50%      75%      max\n",
            "EVADIU                                                                 \n",
            "False   849.0  6.295274  1.133664  0.000  5.625  6.25  7.03125  9.21875\n",
            "True     13.0  6.566506  1.270531  4.375  6.250  6.25  7.81250  8.75000\n",
            "-=-=-=-=-=-=-=-=-=-=-=-=-=-=-=-=-=-=-=-=\n",
            "IPV_2022\n",
            "        count      mean       std       min       25%       50%       75%  \\\n",
            "EVADIU                                                                      \n",
            "False   849.0  7.248297  1.094068  2.500010  6.722220  7.333335  7.916665   \n",
            "True     13.0  7.225428  1.414558  4.500005  6.777773  7.500000  8.000005   \n",
            "\n",
            "             max  \n",
            "EVADIU            \n",
            "False   10.00001  \n",
            "True    10.00001  \n",
            "-=-=-=-=-=-=-=-=-=-=-=-=-=-=-=-=-=-=-=-=\n",
            "IAN_2022\n",
            "        count      mean       std  min  25%  50%   75%   max\n",
            "EVADIU                                                      \n",
            "False   849.0  6.428151  2.388336  2.5  5.0  5.0  10.0  10.0\n",
            "True     13.0  5.961538  2.401922  2.5  5.0  5.0   5.0  10.0\n"
          ]
        }
      ],
      "source": [
        "for col in cols:\n",
        "    print('-='*20)\n",
        "    print(col)\n",
        "    df.loc[:, [col]] = df[col].astype(float)\n",
        "    print(df.groupby('EVADIU')[col].describe())"
      ]
    },
    {
      "cell_type": "markdown",
      "metadata": {
        "id": "Tq55eosA2SAv"
      },
      "source": [
        "## ❗❗ **EM CONSTRUÇÃO** ❗❗\n",
        "\n",
        "#### Próximos passos mapeados:\n",
        "\n",
        "* Entender quais são as features existentes para cada ano (utilizar mesmos dados para fazer as análises de cada ano);\n",
        "\n",
        "* Verificar a diferença de Evadiu // Último Ano;\n",
        "\n",
        "* Análise descritiva dos dados\n",
        "\n",
        "* Identificar a correlação da feature EVADIU com as demais em estudo;"
      ]
    },
    {
      "cell_type": "code",
      "execution_count": 15,
      "metadata": {},
      "outputs": [
        {
          "data": {
            "text/html": [
              "<div>\n",
              "<style scoped>\n",
              "    .dataframe tbody tr th:only-of-type {\n",
              "        vertical-align: middle;\n",
              "    }\n",
              "\n",
              "    .dataframe tbody tr th {\n",
              "        vertical-align: top;\n",
              "    }\n",
              "\n",
              "    .dataframe thead th {\n",
              "        text-align: right;\n",
              "    }\n",
              "</style>\n",
              "<table border=\"1\" class=\"dataframe\">\n",
              "  <thead>\n",
              "    <tr style=\"text-align: right;\">\n",
              "      <th></th>\n",
              "      <th>INDE_2020</th>\n",
              "      <th>IAA_2020</th>\n",
              "      <th>IEG_2020</th>\n",
              "      <th>IPS_2020</th>\n",
              "      <th>IDA_2020</th>\n",
              "      <th>IPP_2020</th>\n",
              "      <th>IPV_2020</th>\n",
              "      <th>IAN_2020</th>\n",
              "      <th>INDE_2021</th>\n",
              "      <th>IAA_2021</th>\n",
              "      <th>...</th>\n",
              "      <th>CF_2022</th>\n",
              "      <th>CT_2022</th>\n",
              "      <th>IAA_2022</th>\n",
              "      <th>IEG_2022</th>\n",
              "      <th>IPS_2022</th>\n",
              "      <th>IDA_2022</th>\n",
              "      <th>IPP_2022</th>\n",
              "      <th>IPV_2022</th>\n",
              "      <th>IAN_2022</th>\n",
              "      <th>EVADIU</th>\n",
              "    </tr>\n",
              "  </thead>\n",
              "  <tbody>\n",
              "    <tr>\n",
              "      <th>0</th>\n",
              "      <td>7.883752</td>\n",
              "      <td>8.50002</td>\n",
              "      <td>8.7</td>\n",
              "      <td>7.5</td>\n",
              "      <td>7.0</td>\n",
              "      <td>5.9375</td>\n",
              "      <td>7.75</td>\n",
              "      <td>10.0</td>\n",
              "      <td>7.319</td>\n",
              "      <td>7.5</td>\n",
              "      <td>...</td>\n",
              "      <td>NaN</td>\n",
              "      <td>NaN</td>\n",
              "      <td>NaN</td>\n",
              "      <td>NaN</td>\n",
              "      <td>NaN</td>\n",
              "      <td>NaN</td>\n",
              "      <td>NaN</td>\n",
              "      <td>NaN</td>\n",
              "      <td>NaN</td>\n",
              "      <td>True</td>\n",
              "    </tr>\n",
              "    <tr>\n",
              "      <th>1</th>\n",
              "      <td>NaN</td>\n",
              "      <td>NaN</td>\n",
              "      <td>NaN</td>\n",
              "      <td>NaN</td>\n",
              "      <td>NaN</td>\n",
              "      <td>NaN</td>\n",
              "      <td>NaN</td>\n",
              "      <td>NaN</td>\n",
              "      <td>NaN</td>\n",
              "      <td>NaN</td>\n",
              "      <td>...</td>\n",
              "      <td>66.0</td>\n",
              "      <td>6.0</td>\n",
              "      <td>10.00002</td>\n",
              "      <td>7.581705</td>\n",
              "      <td>7.500</td>\n",
              "      <td>8.816667</td>\n",
              "      <td>5.625000</td>\n",
              "      <td>7.916665</td>\n",
              "      <td>5.0</td>\n",
              "      <td>False</td>\n",
              "    </tr>\n",
              "    <tr>\n",
              "      <th>2</th>\n",
              "      <td>7.85639</td>\n",
              "      <td>7.91667</td>\n",
              "      <td>8.9</td>\n",
              "      <td>7.5</td>\n",
              "      <td>5.5</td>\n",
              "      <td>8.125</td>\n",
              "      <td>8.111113</td>\n",
              "      <td>10.0</td>\n",
              "      <td>7.021</td>\n",
              "      <td>7.1</td>\n",
              "      <td>...</td>\n",
              "      <td>NaN</td>\n",
              "      <td>NaN</td>\n",
              "      <td>NaN</td>\n",
              "      <td>NaN</td>\n",
              "      <td>NaN</td>\n",
              "      <td>NaN</td>\n",
              "      <td>NaN</td>\n",
              "      <td>NaN</td>\n",
              "      <td>NaN</td>\n",
              "      <td>True</td>\n",
              "    </tr>\n",
              "    <tr>\n",
              "      <th>3</th>\n",
              "      <td>5.076252</td>\n",
              "      <td>8.00002</td>\n",
              "      <td>4.1</td>\n",
              "      <td>6.875</td>\n",
              "      <td>0.0</td>\n",
              "      <td>7.1875</td>\n",
              "      <td>7.75</td>\n",
              "      <td>5.0</td>\n",
              "      <td>NaN</td>\n",
              "      <td>NaN</td>\n",
              "      <td>...</td>\n",
              "      <td>69.0</td>\n",
              "      <td>3.0</td>\n",
              "      <td>10.00002</td>\n",
              "      <td>8.071429</td>\n",
              "      <td>7.500</td>\n",
              "      <td>5.083333</td>\n",
              "      <td>6.250000</td>\n",
              "      <td>8.055553</td>\n",
              "      <td>5.0</td>\n",
              "      <td>True</td>\n",
              "    </tr>\n",
              "    <tr>\n",
              "      <th>4</th>\n",
              "      <td>8.077085</td>\n",
              "      <td>7.50002</td>\n",
              "      <td>8.0</td>\n",
              "      <td>7.5</td>\n",
              "      <td>7.5</td>\n",
              "      <td>8.4375</td>\n",
              "      <td>8.166665</td>\n",
              "      <td>10.0</td>\n",
              "      <td>7.399</td>\n",
              "      <td>7.4</td>\n",
              "      <td>...</td>\n",
              "      <td>61.0</td>\n",
              "      <td>12.0</td>\n",
              "      <td>6.41668</td>\n",
              "      <td>8.557505</td>\n",
              "      <td>7.500</td>\n",
              "      <td>7.083333</td>\n",
              "      <td>6.458333</td>\n",
              "      <td>7.833337</td>\n",
              "      <td>5.0</td>\n",
              "      <td>False</td>\n",
              "    </tr>\n",
              "    <tr>\n",
              "      <th>...</th>\n",
              "      <td>...</td>\n",
              "      <td>...</td>\n",
              "      <td>...</td>\n",
              "      <td>...</td>\n",
              "      <td>...</td>\n",
              "      <td>...</td>\n",
              "      <td>...</td>\n",
              "      <td>...</td>\n",
              "      <td>...</td>\n",
              "      <td>...</td>\n",
              "      <td>...</td>\n",
              "      <td>...</td>\n",
              "      <td>...</td>\n",
              "      <td>...</td>\n",
              "      <td>...</td>\n",
              "      <td>...</td>\n",
              "      <td>...</td>\n",
              "      <td>...</td>\n",
              "      <td>...</td>\n",
              "      <td>...</td>\n",
              "      <td>...</td>\n",
              "    </tr>\n",
              "    <tr>\n",
              "      <th>1344</th>\n",
              "      <td>NaN</td>\n",
              "      <td>NaN</td>\n",
              "      <td>NaN</td>\n",
              "      <td>NaN</td>\n",
              "      <td>NaN</td>\n",
              "      <td>NaN</td>\n",
              "      <td>NaN</td>\n",
              "      <td>NaN</td>\n",
              "      <td>6.606</td>\n",
              "      <td>9.0</td>\n",
              "      <td>...</td>\n",
              "      <td>NaN</td>\n",
              "      <td>NaN</td>\n",
              "      <td>NaN</td>\n",
              "      <td>NaN</td>\n",
              "      <td>NaN</td>\n",
              "      <td>NaN</td>\n",
              "      <td>NaN</td>\n",
              "      <td>NaN</td>\n",
              "      <td>NaN</td>\n",
              "      <td>True</td>\n",
              "    </tr>\n",
              "    <tr>\n",
              "      <th>1345</th>\n",
              "      <td>NaN</td>\n",
              "      <td>NaN</td>\n",
              "      <td>NaN</td>\n",
              "      <td>NaN</td>\n",
              "      <td>NaN</td>\n",
              "      <td>NaN</td>\n",
              "      <td>NaN</td>\n",
              "      <td>NaN</td>\n",
              "      <td>NaN</td>\n",
              "      <td>NaN</td>\n",
              "      <td>...</td>\n",
              "      <td>30.0</td>\n",
              "      <td>2.0</td>\n",
              "      <td>9.00002</td>\n",
              "      <td>9.031839</td>\n",
              "      <td>7.500</td>\n",
              "      <td>9.000000</td>\n",
              "      <td>5.625000</td>\n",
              "      <td>9.083340</td>\n",
              "      <td>5.0</td>\n",
              "      <td>False</td>\n",
              "    </tr>\n",
              "    <tr>\n",
              "      <th>1346</th>\n",
              "      <td>7.158543</td>\n",
              "      <td>9.16668</td>\n",
              "      <td>8.1</td>\n",
              "      <td>6.875</td>\n",
              "      <td>4.666667</td>\n",
              "      <td>7.34375</td>\n",
              "      <td>6.333335</td>\n",
              "      <td>10.0</td>\n",
              "      <td>NaN</td>\n",
              "      <td>NaN</td>\n",
              "      <td>...</td>\n",
              "      <td>NaN</td>\n",
              "      <td>NaN</td>\n",
              "      <td>NaN</td>\n",
              "      <td>NaN</td>\n",
              "      <td>NaN</td>\n",
              "      <td>NaN</td>\n",
              "      <td>NaN</td>\n",
              "      <td>NaN</td>\n",
              "      <td>NaN</td>\n",
              "      <td>True</td>\n",
              "    </tr>\n",
              "    <tr>\n",
              "      <th>1347</th>\n",
              "      <td>7.842224</td>\n",
              "      <td>7.91667</td>\n",
              "      <td>7.1</td>\n",
              "      <td>6.875</td>\n",
              "      <td>6.333333</td>\n",
              "      <td>8.541667</td>\n",
              "      <td>9.11112</td>\n",
              "      <td>10.0</td>\n",
              "      <td>7.422</td>\n",
              "      <td>7.5</td>\n",
              "      <td>...</td>\n",
              "      <td>51.0</td>\n",
              "      <td>6.0</td>\n",
              "      <td>8.33334</td>\n",
              "      <td>9.178030</td>\n",
              "      <td>5.625</td>\n",
              "      <td>5.900000</td>\n",
              "      <td>6.718750</td>\n",
              "      <td>5.833328</td>\n",
              "      <td>5.0</td>\n",
              "      <td>False</td>\n",
              "    </tr>\n",
              "    <tr>\n",
              "      <th>1348</th>\n",
              "      <td>NaN</td>\n",
              "      <td>NaN</td>\n",
              "      <td>NaN</td>\n",
              "      <td>NaN</td>\n",
              "      <td>NaN</td>\n",
              "      <td>NaN</td>\n",
              "      <td>NaN</td>\n",
              "      <td>NaN</td>\n",
              "      <td>NaN</td>\n",
              "      <td>NaN</td>\n",
              "      <td>...</td>\n",
              "      <td>87.0</td>\n",
              "      <td>8.0</td>\n",
              "      <td>7.91667</td>\n",
              "      <td>7.540114</td>\n",
              "      <td>7.500</td>\n",
              "      <td>4.500000</td>\n",
              "      <td>7.500000</td>\n",
              "      <td>5.999993</td>\n",
              "      <td>5.0</td>\n",
              "      <td>False</td>\n",
              "    </tr>\n",
              "  </tbody>\n",
              "</table>\n",
              "<p>1348 rows × 29 columns</p>\n",
              "</div>"
            ],
            "text/plain": [
              "     INDE_2020 IAA_2020 IEG_2020 IPS_2020  IDA_2020  IPP_2020  IPV_2020  \\\n",
              "0     7.883752  8.50002      8.7      7.5       7.0    5.9375      7.75   \n",
              "1          NaN      NaN      NaN      NaN       NaN       NaN       NaN   \n",
              "2      7.85639  7.91667      8.9      7.5       5.5     8.125  8.111113   \n",
              "3     5.076252  8.00002      4.1    6.875       0.0    7.1875      7.75   \n",
              "4     8.077085  7.50002      8.0      7.5       7.5    8.4375  8.166665   \n",
              "...        ...      ...      ...      ...       ...       ...       ...   \n",
              "1344       NaN      NaN      NaN      NaN       NaN       NaN       NaN   \n",
              "1345       NaN      NaN      NaN      NaN       NaN       NaN       NaN   \n",
              "1346  7.158543  9.16668      8.1    6.875  4.666667   7.34375  6.333335   \n",
              "1347  7.842224  7.91667      7.1    6.875  6.333333  8.541667   9.11112   \n",
              "1348       NaN      NaN      NaN      NaN       NaN       NaN       NaN   \n",
              "\n",
              "     IAN_2020 INDE_2021  IAA_2021  ...  CF_2022  CT_2022  IAA_2022  IEG_2022  \\\n",
              "0        10.0     7.319       7.5  ...      NaN      NaN       NaN       NaN   \n",
              "1         NaN       NaN       NaN  ...     66.0      6.0  10.00002  7.581705   \n",
              "2        10.0     7.021       7.1  ...      NaN      NaN       NaN       NaN   \n",
              "3         5.0       NaN       NaN  ...     69.0      3.0  10.00002  8.071429   \n",
              "4        10.0     7.399       7.4  ...     61.0     12.0   6.41668  8.557505   \n",
              "...       ...       ...       ...  ...      ...      ...       ...       ...   \n",
              "1344      NaN     6.606       9.0  ...      NaN      NaN       NaN       NaN   \n",
              "1345      NaN       NaN       NaN  ...     30.0      2.0   9.00002  9.031839   \n",
              "1346     10.0       NaN       NaN  ...      NaN      NaN       NaN       NaN   \n",
              "1347     10.0     7.422       7.5  ...     51.0      6.0   8.33334  9.178030   \n",
              "1348      NaN       NaN       NaN  ...     87.0      8.0   7.91667  7.540114   \n",
              "\n",
              "      IPS_2022  IDA_2022  IPP_2022  IPV_2022  IAN_2022  EVADIU  \n",
              "0          NaN       NaN       NaN       NaN       NaN    True  \n",
              "1        7.500  8.816667  5.625000  7.916665       5.0   False  \n",
              "2          NaN       NaN       NaN       NaN       NaN    True  \n",
              "3        7.500  5.083333  6.250000  8.055553       5.0    True  \n",
              "4        7.500  7.083333  6.458333  7.833337       5.0   False  \n",
              "...        ...       ...       ...       ...       ...     ...  \n",
              "1344       NaN       NaN       NaN       NaN       NaN    True  \n",
              "1345     7.500  9.000000  5.625000  9.083340       5.0   False  \n",
              "1346       NaN       NaN       NaN       NaN       NaN    True  \n",
              "1347     5.625  5.900000  6.718750  5.833328       5.0   False  \n",
              "1348     7.500  4.500000  7.500000  5.999993       5.0   False  \n",
              "\n",
              "[1348 rows x 29 columns]"
            ]
          },
          "execution_count": 15,
          "metadata": {},
          "output_type": "execute_result"
        }
      ],
      "source": [
        "df[cols + ['EVADIU']]"
      ]
    },
    {
      "cell_type": "markdown",
      "metadata": {},
      "source": [
        "## análise das variáveis envolvidas\n",
        "vamos executar uma regressão lasso para identificar quais features tem uma importância/coeficiente/beta com relação á evasão;\n",
        "para tal, vamos plotar a correlação, remover a multicolinearidade com o Variance Inflaction Factor, e executar a regressão:"
      ]
    },
    {
      "cell_type": "code",
      "execution_count": 16,
      "metadata": {},
      "outputs": [],
      "source": [
        "import plotly.express as px\n",
        "import plotly.graph_objs as go\n",
        "import plotly.figure_factory as ff\n",
        "from plotly.subplots import make_subplots\n",
        "\n",
        "from sklearn.linear_model import Lasso\n",
        "from sklearn.pipeline import Pipeline\n",
        "from sklearn.model_selection import train_test_split, GridSearchCV, TimeSeriesSplit\n",
        "from sklearn.preprocessing import FunctionTransformer, StandardScaler, OneHotEncoder\n",
        "from sklearn.feature_selection import SelectPercentile\n",
        "from sklearn.compose import ColumnTransformer\n",
        "from sklearn.impute import SimpleImputer\n",
        "from sklearn.metrics import r2_score\n",
        "from sklearn import linear_model\n",
        "from sklearn.ensemble import RandomForestClassifier, GradientBoostingClassifier\n",
        "\n",
        "def calculate_lr(X, y):\n",
        "        \"\"\"\n",
        "        Function to calculate r2_score through linear regression.\n",
        "        Parameters: X = predictor variables\n",
        "                    y = Target variable\n",
        "        This function returns VIF metric (Variance inflation factor) through 1 / (1 - r2_score(y, y_predict))\n",
        "        \"\"\"\n",
        "        reg = linear_model.LinearRegression()\n",
        "\n",
        "        reg.fit(X.values.reshape(-1, 1), y)\n",
        "\n",
        "        y_predict = reg.predict(X.values.reshape(-1, 1))\n",
        "\n",
        "        r2 = r2_score(y, y_predict)\n",
        "        var_inflation_factor = 1 / (1 - r2)\n",
        "\n",
        "        return var_inflation_factor\n",
        "\n",
        "def _calculate_vif_(X, y,quartil: float = 0.75):\n",
        "        \"\"\"\n",
        "        Function to calculate VIF for all predictor variables. At the end of the function, all variables that present VIF greater than Q3 are excluded.\n",
        "        Parameters: X = predictor variables\n",
        "                    y = Target variable\n",
        "        This function create a dataframe (X_lasso) with the predictor variables with VIF less than Q3.\n",
        "        \"\"\"\n",
        "        feature_list = X.columns\n",
        "        vif_df = pd.Series(\n",
        "            [calculate_lr(X[feature], y) for feature in feature_list],\n",
        "            index=feature_list,\n",
        "        ).to_frame()\n",
        "\n",
        "        vif_df = vif_df.sort_values(by=0, ascending=False).rename(columns={0: \"VIF\"})\n",
        "\n",
        "        Q3 = np.quantile(vif_df[\"VIF\"], quartil)\n",
        "\n",
        "        vif_df = vif_df[vif_df[\"VIF\"] > Q3]\n",
        "\n",
        "        col_to_drop = list(vif_df.index)\n",
        "\n",
        "        for i in col_to_drop:\n",
        "            X_lasso = X.drop(columns=i)\n",
        "        return X_lasso, y\n",
        "\n",
        "def lassoRegression(X, y):\n",
        "    \"\"\"\n",
        "    Linear Model trained with L1 prior as regularizer (aka the Lasso)\n",
        "    \"\"\"\n",
        "    # X_lasso, y = _calculate_vif_(X, y)\n",
        "    X_lasso_train, y_lasso_train = X, y\n",
        "    feature_list = X.columns\n",
        "\n",
        "    # X_lasso_train, X_lasso_test, y_lasso_train, y_lasso_test = train_test_split(\n",
        "    #     X_lasso, y, test_size=0.2, random_state=42, shuffle=False\n",
        "    # )\n",
        "\n",
        "    # numerical pipeline:\n",
        "    numeric_transformer = Pipeline(\n",
        "        steps=[\n",
        "            (\n",
        "                \"converter\",\n",
        "                FunctionTransformer(lambda df: df.apply(pd.to_numeric, errors=\"coerce\")),\n",
        "            ),\n",
        "            (\"imputer\", SimpleImputer(strategy=\"median\")),\n",
        "            (\"scaler\", StandardScaler()),\n",
        "        ]\n",
        "    )\n",
        "\n",
        "    preprocessor = ColumnTransformer(\n",
        "        transformers=[\n",
        "            (\n",
        "                \"num\",\n",
        "                numeric_transformer,\n",
        "                np.intersect1d(feature_list, X.columns).tolist(),\n",
        "            )\n",
        "        ]\n",
        "    )\n",
        "\n",
        "    pipeline = Pipeline(\n",
        "        [(\"preprocessor\", preprocessor), (\"model\", Lasso(max_iter=10000, tol=0.001))]\n",
        "    )\n",
        "\n",
        "    # search = GridSearchCV(\n",
        "    #     pipeline, {\"model__alpha\": np.arange(0.1, 20, 0.5)}, cv=TimeSeriesSplit(n_splits = 2), scoring=\"r2\", verbose=1\n",
        "    # )\n",
        "\n",
        "    # search.fit(X_lasso_train, y_lasso_train)\n",
        "    pipeline.fit(X_lasso_train, y_lasso_train)\n",
        "\n",
        "    # Pegamos o absoluto dos coeficientes das features\n",
        "    abs_lasso_coef = np.abs(pipeline.named_steps['model'].coef_) # search.best_estimator_.named_steps com gridsearch\n",
        "    _features = pipeline.named_steps[\"preprocessor\"].transformers_[0][2]\n",
        "    lasso_accepted = np.array(_features)[abs_lasso_coef > 0]\n",
        "\n",
        "    return pd.DataFrame([_features, abs_lasso_coef], index=['Feature', \"Beta\"]).T"
      ]
    },
    {
      "cell_type": "code",
      "execution_count": 17,
      "metadata": {},
      "outputs": [],
      "source": [
        "df = df[cols + ['EVADIU']]"
      ]
    },
    {
      "cell_type": "code",
      "execution_count": 18,
      "metadata": {},
      "outputs": [
        {
          "data": {
            "application/vnd.plotly.v1+json": {
              "config": {
                "plotlyServerURL": "https://plot.ly"
              },
              "data": [
                {
                  "coloraxis": "coloraxis",
                  "hovertemplate": "x: %{x}<br>y: %{y}<br>color: %{z}<extra></extra>",
                  "name": "0",
                  "texttemplate": "%{z}",
                  "type": "heatmap",
                  "x": [
                    "INDE_2020",
                    "IAA_2020",
                    "IEG_2020",
                    "IPS_2020",
                    "IDA_2020",
                    "IPP_2020",
                    "IPV_2020",
                    "IAN_2020",
                    "INDE_2021",
                    "IAA_2021",
                    "IEG_2021",
                    "IPS_2021",
                    "IDA_2021",
                    "IPP_2021",
                    "IPV_2021",
                    "IAN_2021",
                    "DEFASAGEM_2021",
                    "INDE_2022",
                    "CG_2022",
                    "CF_2022",
                    "CT_2022",
                    "IAA_2022",
                    "IEG_2022",
                    "IPS_2022",
                    "IDA_2022",
                    "IPP_2022",
                    "IPV_2022",
                    "IAN_2022",
                    "EVADIU"
                  ],
                  "xaxis": "x",
                  "y": [
                    "INDE_2020",
                    "IAA_2020",
                    "IEG_2020",
                    "IPS_2020",
                    "IDA_2020",
                    "IPP_2020",
                    "IPV_2020",
                    "IAN_2020",
                    "INDE_2021",
                    "IAA_2021",
                    "IEG_2021",
                    "IPS_2021",
                    "IDA_2021",
                    "IPP_2021",
                    "IPV_2021",
                    "IAN_2021",
                    "DEFASAGEM_2021",
                    "INDE_2022",
                    "CG_2022",
                    "CF_2022",
                    "CT_2022",
                    "IAA_2022",
                    "IEG_2022",
                    "IPS_2022",
                    "IDA_2022",
                    "IPP_2022",
                    "IPV_2022",
                    "IAN_2022",
                    "EVADIU"
                  ],
                  "yaxis": "y",
                  "z": [
                    [
                      1,
                      0.4286085511082156,
                      0.7475729861400623,
                      0.39429255074153235,
                      0.8016854575034219,
                      0.13429568078814974,
                      0.29294534623289115,
                      0.2859227928547265,
                      0.6125243249520997,
                      0.31284683394389173,
                      0.45081328091744716,
                      0.25370870488701636,
                      0.4949959417049882,
                      0.34561907979356665,
                      0.5123146825189053,
                      0.30395354253443463,
                      0.32704983711453206,
                      0.5940945668938,
                      -0.588243557361257,
                      -0.44002786562876295,
                      -0.4347003571884082,
                      0.0825647404750669,
                      0.4642576245876164,
                      0.26375883948517254,
                      0.5119073735833078,
                      0.29706159128340487,
                      0.5071778666793298,
                      0.3319350518103228,
                      -0.30577412256718023
                    ],
                    [
                      0.4286085511082156,
                      1,
                      0.2722659864184485,
                      0.13603873394951135,
                      0.27705536704336264,
                      0.021359870698272432,
                      0.07760008363411407,
                      -0.030816331116608094,
                      0.1635987995672756,
                      0.23051870632317922,
                      0.11188843599109197,
                      0.21036302917095967,
                      0.09757342870584687,
                      0.04671188273484204,
                      0.1055670362082857,
                      0.027749235914840402,
                      0.03300440324824763,
                      0.24923860165207312,
                      -0.25010116687197664,
                      -0.162469480803808,
                      -0.1538464359655126,
                      0.09733658082973547,
                      0.2036601393516757,
                      0.17896701103493043,
                      0.1893023812255298,
                      0.13048624779396262,
                      0.16075212100077058,
                      0.1280683016306303,
                      -0.17409502959972806
                    ],
                    [
                      0.7475729861400623,
                      0.2722659864184485,
                      1,
                      0.15141676386408917,
                      0.47430312564034394,
                      0.11030282838094431,
                      0.349243073187443,
                      0.02613227685628325,
                      0.438186744334335,
                      0.22046650481087454,
                      0.3686317675660883,
                      0.12246083943207099,
                      0.3707651848419727,
                      0.11877165571316557,
                      0.3786449811555489,
                      0.12180210086413075,
                      0.1289610819962567,
                      0.44293210360232316,
                      -0.4118972638662515,
                      -0.1727496947544194,
                      -0.344463305345552,
                      0.07690920943640278,
                      0.4300229588344095,
                      0.07498954884126095,
                      0.4007437245981309,
                      0.08751651201654874,
                      0.3531649426966102,
                      0.22913630231168752,
                      -0.30028424198389747
                    ],
                    [
                      0.39429255074153235,
                      0.13603873394951135,
                      0.15141676386408917,
                      1,
                      0.1819292496682534,
                      0.2225698506639074,
                      0.15415957533338653,
                      0.06530139451214902,
                      0.2933498999740086,
                      0.17703189503861094,
                      0.168221550110222,
                      0.380217527392711,
                      0.18513856125637337,
                      0.2863369584453923,
                      0.2868379001291883,
                      0.11284147881787651,
                      0.18275441254404345,
                      0.2871385367815292,
                      -0.28364770945145856,
                      -0.1859460162405507,
                      -0.1587130189834944,
                      0.044827259028496325,
                      0.1743975825475106,
                      0.451699566240544,
                      0.222496100532692,
                      0.15276237535902445,
                      0.27647942399729075,
                      0.0696414349730599,
                      -0.019093954974606787
                    ],
                    [
                      0.8016854575034219,
                      0.27705536704336264,
                      0.47430312564034394,
                      0.1819292496682534,
                      1,
                      -0.12525938224897595,
                      0.03655926760184617,
                      0.05553410087847984,
                      0.4346111464877333,
                      0.3013112694271037,
                      0.37752234387115313,
                      0.1414814090912484,
                      0.3453838588114783,
                      0.14245443438450636,
                      0.3523570370480994,
                      0.05977271814607868,
                      0.051922510453394875,
                      0.3201309035036063,
                      -0.3199753262792796,
                      -0.13744682391927476,
                      -0.1999046463022294,
                      0.10788464390828757,
                      0.28874379174294973,
                      0.14621788345091372,
                      0.3049525468011188,
                      0.017425623193184973,
                      0.2816240261492494,
                      0.07405656123402617,
                      -0.27104651746800823
                    ],
                    [
                      0.13429568078814974,
                      0.021359870698272432,
                      0.11030282838094431,
                      0.2225698506639074,
                      -0.12525938224897595,
                      1,
                      0.769857224527355,
                      -0.06227063873754519,
                      0.23290416206517198,
                      0.025212537465635506,
                      0.07257811569575544,
                      0.19219314890874098,
                      0.19350640233093655,
                      0.4339215018188682,
                      0.2518853221903364,
                      0.2531498384784394,
                      0.2773553276693612,
                      0.1686471100998878,
                      -0.1678879871147909,
                      -0.4014914135542415,
                      -0.15641677368889323,
                      -0.09432353710613985,
                      -0.0017763973339067025,
                      0.2084878686109303,
                      0.08654105047099249,
                      0.41451756681809626,
                      0.19256770195734496,
                      0.21975062690969535,
                      -0.10528972605736793
                    ],
                    [
                      0.29294534623289115,
                      0.07760008363411407,
                      0.349243073187443,
                      0.15415957533338653,
                      0.03655926760184617,
                      0.769857224527355,
                      1,
                      -0.10185386428162697,
                      0.3795995783754221,
                      0.07033731642442195,
                      0.22545665283998226,
                      0.11537868479746738,
                      0.34330835919507935,
                      0.430875704269339,
                      0.376454416052155,
                      0.23848137093357427,
                      0.24113565502457202,
                      0.4116405239662226,
                      -0.40102571514352453,
                      -0.5166925623437403,
                      -0.35633743622324776,
                      -0.030040894788839003,
                      0.2712360744323992,
                      0.16008457284899053,
                      0.3288959863321765,
                      0.49117036884403137,
                      0.40442380363103037,
                      0.24623980184301267,
                      -0.21710278860499502
                    ],
                    [
                      0.2859227928547265,
                      -0.030816331116608094,
                      0.02613227685628325,
                      0.06530139451214902,
                      0.05553410087847984,
                      -0.06227063873754519,
                      -0.10185386428162697,
                      1,
                      0.20834501258993285,
                      0.027277104385738864,
                      0.11230713184385716,
                      0.004150846920322645,
                      0.16698602349130856,
                      0.07995483927637796,
                      0.08509061360850237,
                      0.4587228531066514,
                      0.49559293122384385,
                      0.31077656222743405,
                      -0.3408611820642898,
                      -0.2898985624066636,
                      -0.24143834389600768,
                      0.019714356575339403,
                      0.21304010720889,
                      0.003519310620371432,
                      0.27214123736447976,
                      0.1394182557922259,
                      0.208614519225036,
                      0.3664128195278488,
                      -0.03162023589309672
                    ],
                    [
                      0.6125243249520997,
                      0.1635987995672756,
                      0.438186744334335,
                      0.2933498999740086,
                      0.4346111464877333,
                      0.23290416206517198,
                      0.3795995783754221,
                      0.20834501258993285,
                      1,
                      0.5257526269907675,
                      0.8716373148981272,
                      0.30733090899530313,
                      0.8527151060371347,
                      0.5544565329196772,
                      0.8580204346135176,
                      0.3134474922702125,
                      0.33418875896683276,
                      0.6150372695506393,
                      -0.6355727896072676,
                      -0.4871422532867946,
                      -0.45741899543252806,
                      0.14016758476584618,
                      0.4901086967883875,
                      0.23014701892224343,
                      0.5191792197162597,
                      0.22870225186903592,
                      0.48968824960221263,
                      0.3847418790433835,
                      -0.19866261444571204
                    ],
                    [
                      0.31284683394389173,
                      0.23051870632317922,
                      0.22046650481087454,
                      0.17703189503861094,
                      0.3013112694271037,
                      0.025212537465635506,
                      0.07033731642442195,
                      0.027277104385738864,
                      0.5257526269907675,
                      1,
                      0.3921292540810025,
                      0.11036923474818419,
                      0.3254069869700885,
                      0.14529649292905378,
                      0.32471229268293245,
                      0.1039588848329874,
                      0.12643685232919613,
                      0.22786621386811243,
                      -0.2498139829187954,
                      -0.14256481993082992,
                      -0.16292405717598166,
                      0.055927078433504494,
                      0.17382307684560522,
                      0.20266457914784103,
                      0.18727833973455338,
                      0.0507201147668485,
                      0.1850399370722525,
                      0.11404314640463384,
                      -0.10625947470907716
                    ],
                    [
                      0.45081328091744716,
                      0.11188843599109197,
                      0.3686317675660883,
                      0.168221550110222,
                      0.37752234387115313,
                      0.07257811569575544,
                      0.22545665283998226,
                      0.11230713184385716,
                      0.8716373148981272,
                      0.3921292540810025,
                      1,
                      0.15234875557989233,
                      0.6833481348708963,
                      0.4228824030690445,
                      0.7299094037973626,
                      0.09157817759805804,
                      0.12911428411400214,
                      0.49452657457853766,
                      -0.5196447413175014,
                      -0.3149622141854609,
                      -0.37197975895077867,
                      0.1589417698818007,
                      0.4736032183759025,
                      0.14154315876058804,
                      0.43336612427702104,
                      0.04454500648116816,
                      0.37930966032944324,
                      0.22491483080374314,
                      -0.19071004815905054
                    ],
                    [
                      0.25370870488701636,
                      0.21036302917095967,
                      0.12246083943207099,
                      0.380217527392711,
                      0.1414814090912484,
                      0.19219314890874098,
                      0.11537868479746738,
                      0.004150846920322645,
                      0.30733090899530313,
                      0.11036923474818419,
                      0.15234875557989233,
                      1,
                      0.13789517677301547,
                      0.2519187083128648,
                      0.27683239142283106,
                      0.03804681501545174,
                      0.10584179097107212,
                      0.1865466373389335,
                      -0.17784579596483166,
                      -0.02776332310869648,
                      -0.12425831050641462,
                      0.0751726415336737,
                      0.11685465565866235,
                      0.27045091211006317,
                      0.14181971123233542,
                      0.08142980186738955,
                      0.12498952937224643,
                      0.07766492893036629,
                      -0.046664713655833155
                    ],
                    [
                      0.4949959417049882,
                      0.09757342870584687,
                      0.3707651848419727,
                      0.18513856125637337,
                      0.3453838588114783,
                      0.19350640233093655,
                      0.34330835919507935,
                      0.16698602349130856,
                      0.8527151060371347,
                      0.3254069869700885,
                      0.6833481348708963,
                      0.13789517677301547,
                      1,
                      0.4225205650168688,
                      0.6866052851139671,
                      0.14727853392746887,
                      0.1832782286535136,
                      0.5249613798334534,
                      -0.5440825723767222,
                      -0.5467058559328158,
                      -0.39912675703788786,
                      0.030264581389424873,
                      0.37543372149167437,
                      0.122821274391509,
                      0.4914712885003415,
                      0.35147946501014615,
                      0.44176883081386176,
                      0.32866658367663987,
                      -0.18726438248219351
                    ],
                    [
                      0.34561907979356665,
                      0.04671188273484204,
                      0.11877165571316557,
                      0.2863369584453923,
                      0.14245443438450636,
                      0.4339215018188682,
                      0.430875704269339,
                      0.07995483927637796,
                      0.5544565329196772,
                      0.14529649292905378,
                      0.4228824030690445,
                      0.2519187083128648,
                      0.4225205650168688,
                      1,
                      0.6141172545301808,
                      0.052493979440018344,
                      0.12290129241578907,
                      0.39314664865060867,
                      -0.3974634120452792,
                      -0.4006378709767908,
                      -0.2766696266512166,
                      0.07535464578292003,
                      0.23211133980992082,
                      0.3349035869509301,
                      0.2544921020657829,
                      0.3553377102866116,
                      0.36450019981677534,
                      0.2629547923429697,
                      -0.12142788025458254
                    ],
                    [
                      0.5123146825189053,
                      0.1055670362082857,
                      0.3786449811555489,
                      0.2868379001291883,
                      0.3523570370480994,
                      0.2518853221903364,
                      0.376454416052155,
                      0.08509061360850237,
                      0.8580204346135176,
                      0.32471229268293245,
                      0.7299094037973626,
                      0.27683239142283106,
                      0.6866052851139671,
                      0.6141172545301808,
                      1,
                      0.09445583874668008,
                      0.13615138070073132,
                      0.5475162833580992,
                      -0.5518867864626681,
                      -0.39394320056731047,
                      -0.3991570389479842,
                      0.16337881269661997,
                      0.46035577016521423,
                      0.20639129312707052,
                      0.4397508000069693,
                      0.18954115438059474,
                      0.46924042685111494,
                      0.2804770641666477,
                      -0.1761210615595612
                    ],
                    [
                      0.30395354253443463,
                      0.027749235914840402,
                      0.12180210086413075,
                      0.11284147881787651,
                      0.05977271814607868,
                      0.2531498384784394,
                      0.23848137093357427,
                      0.4587228531066514,
                      0.3134474922702125,
                      0.1039588848329874,
                      0.09157817759805804,
                      0.03804681501545174,
                      0.14727853392746887,
                      0.052493979440018344,
                      0.09445583874668008,
                      1,
                      0.8577231370857874,
                      0.2658512541876256,
                      -0.27217963884195623,
                      -0.25589637165277757,
                      -0.20442167125585894,
                      0.05358969319952022,
                      0.1545863277523138,
                      0.023108956095690077,
                      0.18552351081785493,
                      0.07392027218495567,
                      0.15056578681195656,
                      0.4393362460585848,
                      -0.041247116940602284
                    ],
                    [
                      0.32704983711453206,
                      0.03300440324824763,
                      0.1289610819962567,
                      0.18275441254404345,
                      0.051922510453394875,
                      0.2773553276693612,
                      0.24113565502457202,
                      0.49559293122384385,
                      0.33418875896683276,
                      0.12643685232919613,
                      0.12911428411400214,
                      0.10584179097107212,
                      0.1832782286535136,
                      0.12290129241578907,
                      0.13615138070073132,
                      0.8577231370857874,
                      1,
                      0.280486230065516,
                      -0.2853773543257462,
                      -0.26383189267725765,
                      -0.21083072558022603,
                      0.03161387412111226,
                      0.15330894487076888,
                      0.07987954468146574,
                      0.17422865739750587,
                      0.1188346792809957,
                      0.16738450613247738,
                      0.4821380425511316,
                      -0.08102510916439083
                    ],
                    [
                      0.5940945668938,
                      0.24923860165207312,
                      0.44293210360232316,
                      0.2871385367815292,
                      0.3201309035036063,
                      0.1686471100998878,
                      0.4116405239662226,
                      0.31077656222743405,
                      0.6150372695506393,
                      0.22786621386811243,
                      0.49452657457853766,
                      0.1865466373389335,
                      0.5249613798334534,
                      0.39314664865060867,
                      0.5475162833580992,
                      0.2658512541876256,
                      0.280486230065516,
                      1,
                      -0.9563121843894978,
                      -0.6439745023766169,
                      -0.7274986409038589,
                      0.4633634324026931,
                      0.8052815211838483,
                      0.27422019737025916,
                      0.8207098181295217,
                      0.2852396757624775,
                      0.7916339718950947,
                      0.3946843541543322,
                      0.005880340887519028
                    ],
                    [
                      -0.588243557361257,
                      -0.25010116687197664,
                      -0.4118972638662515,
                      -0.28364770945145856,
                      -0.3199753262792796,
                      -0.1678879871147909,
                      -0.40102571514352453,
                      -0.3408611820642898,
                      -0.6355727896072676,
                      -0.2498139829187954,
                      -0.5196447413175014,
                      -0.17784579596483166,
                      -0.5440825723767222,
                      -0.3974634120452792,
                      -0.5518867864626681,
                      -0.27217963884195623,
                      -0.2853773543257462,
                      -0.9563121843894978,
                      1,
                      0.7061002783434177,
                      0.765668652111787,
                      -0.3965688890318074,
                      -0.7412941139382623,
                      -0.27692269924930807,
                      -0.8079162343537999,
                      -0.25166227443228695,
                      -0.7572193600521632,
                      -0.42131035355814156,
                      0.004647660603649712
                    ],
                    [
                      -0.44002786562876295,
                      -0.162469480803808,
                      -0.1727496947544194,
                      -0.1859460162405507,
                      -0.13744682391927476,
                      -0.4014914135542415,
                      -0.5166925623437403,
                      -0.2898985624066636,
                      -0.4871422532867946,
                      -0.14256481993082992,
                      -0.3149622141854609,
                      -0.02776332310869648,
                      -0.5467058559328158,
                      -0.4006378709767908,
                      -0.39394320056731047,
                      -0.25589637165277757,
                      -0.26383189267725765,
                      -0.6439745023766169,
                      0.7061002783434177,
                      1,
                      0.5583746768538578,
                      -0.1350191171616044,
                      -0.419955917081271,
                      -0.18134011694622323,
                      -0.5307956190596843,
                      -0.5302365992111114,
                      -0.5092178739276556,
                      -0.3623881145739405,
                      -0.008039225978555699
                    ],
                    [
                      -0.4347003571884082,
                      -0.1538464359655126,
                      -0.344463305345552,
                      -0.1587130189834944,
                      -0.1999046463022294,
                      -0.15641677368889323,
                      -0.35633743622324776,
                      -0.24143834389600768,
                      -0.45741899543252806,
                      -0.16292405717598166,
                      -0.37197975895077867,
                      -0.12425831050641462,
                      -0.39912675703788786,
                      -0.2766696266512166,
                      -0.3991570389479842,
                      -0.20442167125585894,
                      -0.21083072558022603,
                      -0.7274986409038589,
                      0.765668652111787,
                      0.5583746768538578,
                      1,
                      -0.3243186411309879,
                      -0.5251973584414943,
                      -0.1867165555629908,
                      -0.6282491214065896,
                      -0.1815408926271214,
                      -0.568882530159799,
                      -0.35278284748870115,
                      -0.00960465022787878
                    ],
                    [
                      0.0825647404750669,
                      0.09733658082973547,
                      0.07690920943640278,
                      0.044827259028496325,
                      0.10788464390828757,
                      -0.09432353710613985,
                      -0.030040894788839003,
                      0.019714356575339403,
                      0.14016758476584618,
                      0.055927078433504494,
                      0.1589417698818007,
                      0.0751726415336737,
                      0.030264581389424873,
                      0.07535464578292003,
                      0.16337881269661997,
                      0.05358969319952022,
                      0.03161387412111226,
                      0.4633634324026931,
                      -0.3965688890318074,
                      -0.1350191171616044,
                      -0.3243186411309879,
                      1,
                      0.3307328437586567,
                      0.11880362234663656,
                      0.21798931402204666,
                      -0.10610433171199864,
                      0.2639901182674048,
                      0.0488708549705516,
                      0.024785629581060366
                    ],
                    [
                      0.4642576245876164,
                      0.2036601393516757,
                      0.4300229588344095,
                      0.1743975825475106,
                      0.28874379174294973,
                      -0.0017763973339067025,
                      0.2712360744323992,
                      0.21304010720889,
                      0.4901086967883875,
                      0.17382307684560522,
                      0.4736032183759025,
                      0.11685465565866235,
                      0.37543372149167437,
                      0.23211133980992082,
                      0.46035577016521423,
                      0.1545863277523138,
                      0.15330894487076888,
                      0.8052815211838483,
                      -0.7412941139382623,
                      -0.419955917081271,
                      -0.5251973584414943,
                      0.3307328437586567,
                      1,
                      0.09845988751009692,
                      0.5701412075418516,
                      0.1361324946125318,
                      0.5953152101861138,
                      0.1639486727161063,
                      0.03397574527086979
                    ],
                    [
                      0.26375883948517254,
                      0.17896701103493043,
                      0.07498954884126095,
                      0.451699566240544,
                      0.14621788345091372,
                      0.2084878686109303,
                      0.16008457284899053,
                      0.003519310620371432,
                      0.23014701892224343,
                      0.20266457914784103,
                      0.14154315876058804,
                      0.27045091211006317,
                      0.122821274391509,
                      0.3349035869509301,
                      0.20639129312707052,
                      0.023108956095690077,
                      0.07987954468146574,
                      0.27422019737025916,
                      -0.27692269924930807,
                      -0.18134011694622323,
                      -0.1867165555629908,
                      0.11880362234663656,
                      0.09845988751009692,
                      1,
                      0.137055501705133,
                      0.05864115832859338,
                      0.21181802572803815,
                      0.035888114795425176,
                      -0.0030198078569402273
                    ],
                    [
                      0.5119073735833078,
                      0.1893023812255298,
                      0.4007437245981309,
                      0.222496100532692,
                      0.3049525468011188,
                      0.08654105047099249,
                      0.3288959863321765,
                      0.27214123736447976,
                      0.5191792197162597,
                      0.18727833973455338,
                      0.43336612427702104,
                      0.14181971123233542,
                      0.4914712885003415,
                      0.2544921020657829,
                      0.4397508000069693,
                      0.18552351081785493,
                      0.17422865739750587,
                      0.8207098181295217,
                      -0.8079162343537999,
                      -0.5307956190596843,
                      -0.6282491214065896,
                      0.21798931402204666,
                      0.5701412075418516,
                      0.137055501705133,
                      1,
                      0.1169164929725627,
                      0.6221895087018379,
                      0.14809381184676787,
                      -0.017096785768272962
                    ],
                    [
                      0.29706159128340487,
                      0.13048624779396262,
                      0.08751651201654874,
                      0.15276237535902445,
                      0.017425623193184973,
                      0.41451756681809626,
                      0.49117036884403137,
                      0.1394182557922259,
                      0.22870225186903592,
                      0.0507201147668485,
                      0.04454500648116816,
                      0.08142980186738955,
                      0.35147946501014615,
                      0.3553377102866116,
                      0.18954115438059474,
                      0.07392027218495567,
                      0.1188346792809957,
                      0.2852396757624775,
                      -0.25166227443228695,
                      -0.5302365992111114,
                      -0.1815408926271214,
                      -0.10610433171199864,
                      0.1361324946125318,
                      0.05864115832859338,
                      0.1169164929725627,
                      1,
                      0.3374958300392222,
                      0.12067486678432943,
                      0.02912871388963557
                    ],
                    [
                      0.5071778666793298,
                      0.16075212100077058,
                      0.3531649426966102,
                      0.27647942399729075,
                      0.2816240261492494,
                      0.19256770195734496,
                      0.40442380363103037,
                      0.208614519225036,
                      0.48968824960221263,
                      0.1850399370722525,
                      0.37930966032944324,
                      0.12498952937224643,
                      0.44176883081386176,
                      0.36450019981677534,
                      0.46924042685111494,
                      0.15056578681195656,
                      0.16738450613247738,
                      0.7916339718950947,
                      -0.7572193600521632,
                      -0.5092178739276556,
                      -0.568882530159799,
                      0.2639901182674048,
                      0.5953152101861138,
                      0.21181802572803815,
                      0.6221895087018379,
                      0.3374958300392222,
                      1,
                      0.11347791457404341,
                      -0.0025386944884346857
                    ],
                    [
                      0.3319350518103228,
                      0.1280683016306303,
                      0.22913630231168752,
                      0.0696414349730599,
                      0.07405656123402617,
                      0.21975062690969535,
                      0.24623980184301267,
                      0.3664128195278488,
                      0.3847418790433835,
                      0.11404314640463384,
                      0.22491483080374314,
                      0.07766492893036629,
                      0.32866658367663987,
                      0.2629547923429697,
                      0.2804770641666477,
                      0.4393362460585848,
                      0.4821380425511316,
                      0.3946843541543322,
                      -0.42131035355814156,
                      -0.3623881145739405,
                      -0.35278284748870115,
                      0.0488708549705516,
                      0.1639486727161063,
                      0.035888114795425176,
                      0.14809381184676787,
                      0.12067486678432943,
                      0.11347791457404341,
                      1,
                      -0.02383008299473891
                    ],
                    [
                      -0.30577412256718023,
                      -0.17409502959972806,
                      -0.30028424198389747,
                      -0.019093954974606787,
                      -0.27104651746800823,
                      -0.10528972605736793,
                      -0.21710278860499502,
                      -0.03162023589309672,
                      -0.19866261444571204,
                      -0.10625947470907716,
                      -0.19071004815905054,
                      -0.046664713655833155,
                      -0.18726438248219351,
                      -0.12142788025458254,
                      -0.1761210615595612,
                      -0.041247116940602284,
                      -0.08102510916439083,
                      0.005880340887519028,
                      0.004647660603649712,
                      -0.008039225978555699,
                      -0.00960465022787878,
                      0.024785629581060366,
                      0.03397574527086979,
                      -0.0030198078569402273,
                      -0.017096785768272962,
                      0.02912871388963557,
                      -0.0025386944884346857,
                      -0.02383008299473891,
                      1
                    ]
                  ]
                }
              ],
              "layout": {
                "coloraxis": {
                  "colorscale": [
                    [
                      0,
                      "#0d0887"
                    ],
                    [
                      0.1111111111111111,
                      "#46039f"
                    ],
                    [
                      0.2222222222222222,
                      "#7201a8"
                    ],
                    [
                      0.3333333333333333,
                      "#9c179e"
                    ],
                    [
                      0.4444444444444444,
                      "#bd3786"
                    ],
                    [
                      0.5555555555555556,
                      "#d8576b"
                    ],
                    [
                      0.6666666666666666,
                      "#ed7953"
                    ],
                    [
                      0.7777777777777778,
                      "#fb9f3a"
                    ],
                    [
                      0.8888888888888888,
                      "#fdca26"
                    ],
                    [
                      1,
                      "#f0f921"
                    ]
                  ]
                },
                "height": 1800,
                "margin": {
                  "t": 60
                },
                "template": {
                  "data": {
                    "bar": [
                      {
                        "error_x": {
                          "color": "#2a3f5f"
                        },
                        "error_y": {
                          "color": "#2a3f5f"
                        },
                        "marker": {
                          "line": {
                            "color": "#E5ECF6",
                            "width": 0.5
                          },
                          "pattern": {
                            "fillmode": "overlay",
                            "size": 10,
                            "solidity": 0.2
                          }
                        },
                        "type": "bar"
                      }
                    ],
                    "barpolar": [
                      {
                        "marker": {
                          "line": {
                            "color": "#E5ECF6",
                            "width": 0.5
                          },
                          "pattern": {
                            "fillmode": "overlay",
                            "size": 10,
                            "solidity": 0.2
                          }
                        },
                        "type": "barpolar"
                      }
                    ],
                    "carpet": [
                      {
                        "aaxis": {
                          "endlinecolor": "#2a3f5f",
                          "gridcolor": "white",
                          "linecolor": "white",
                          "minorgridcolor": "white",
                          "startlinecolor": "#2a3f5f"
                        },
                        "baxis": {
                          "endlinecolor": "#2a3f5f",
                          "gridcolor": "white",
                          "linecolor": "white",
                          "minorgridcolor": "white",
                          "startlinecolor": "#2a3f5f"
                        },
                        "type": "carpet"
                      }
                    ],
                    "choropleth": [
                      {
                        "colorbar": {
                          "outlinewidth": 0,
                          "ticks": ""
                        },
                        "type": "choropleth"
                      }
                    ],
                    "contour": [
                      {
                        "colorbar": {
                          "outlinewidth": 0,
                          "ticks": ""
                        },
                        "colorscale": [
                          [
                            0,
                            "#0d0887"
                          ],
                          [
                            0.1111111111111111,
                            "#46039f"
                          ],
                          [
                            0.2222222222222222,
                            "#7201a8"
                          ],
                          [
                            0.3333333333333333,
                            "#9c179e"
                          ],
                          [
                            0.4444444444444444,
                            "#bd3786"
                          ],
                          [
                            0.5555555555555556,
                            "#d8576b"
                          ],
                          [
                            0.6666666666666666,
                            "#ed7953"
                          ],
                          [
                            0.7777777777777778,
                            "#fb9f3a"
                          ],
                          [
                            0.8888888888888888,
                            "#fdca26"
                          ],
                          [
                            1,
                            "#f0f921"
                          ]
                        ],
                        "type": "contour"
                      }
                    ],
                    "contourcarpet": [
                      {
                        "colorbar": {
                          "outlinewidth": 0,
                          "ticks": ""
                        },
                        "type": "contourcarpet"
                      }
                    ],
                    "heatmap": [
                      {
                        "colorbar": {
                          "outlinewidth": 0,
                          "ticks": ""
                        },
                        "colorscale": [
                          [
                            0,
                            "#0d0887"
                          ],
                          [
                            0.1111111111111111,
                            "#46039f"
                          ],
                          [
                            0.2222222222222222,
                            "#7201a8"
                          ],
                          [
                            0.3333333333333333,
                            "#9c179e"
                          ],
                          [
                            0.4444444444444444,
                            "#bd3786"
                          ],
                          [
                            0.5555555555555556,
                            "#d8576b"
                          ],
                          [
                            0.6666666666666666,
                            "#ed7953"
                          ],
                          [
                            0.7777777777777778,
                            "#fb9f3a"
                          ],
                          [
                            0.8888888888888888,
                            "#fdca26"
                          ],
                          [
                            1,
                            "#f0f921"
                          ]
                        ],
                        "type": "heatmap"
                      }
                    ],
                    "heatmapgl": [
                      {
                        "colorbar": {
                          "outlinewidth": 0,
                          "ticks": ""
                        },
                        "colorscale": [
                          [
                            0,
                            "#0d0887"
                          ],
                          [
                            0.1111111111111111,
                            "#46039f"
                          ],
                          [
                            0.2222222222222222,
                            "#7201a8"
                          ],
                          [
                            0.3333333333333333,
                            "#9c179e"
                          ],
                          [
                            0.4444444444444444,
                            "#bd3786"
                          ],
                          [
                            0.5555555555555556,
                            "#d8576b"
                          ],
                          [
                            0.6666666666666666,
                            "#ed7953"
                          ],
                          [
                            0.7777777777777778,
                            "#fb9f3a"
                          ],
                          [
                            0.8888888888888888,
                            "#fdca26"
                          ],
                          [
                            1,
                            "#f0f921"
                          ]
                        ],
                        "type": "heatmapgl"
                      }
                    ],
                    "histogram": [
                      {
                        "marker": {
                          "pattern": {
                            "fillmode": "overlay",
                            "size": 10,
                            "solidity": 0.2
                          }
                        },
                        "type": "histogram"
                      }
                    ],
                    "histogram2d": [
                      {
                        "colorbar": {
                          "outlinewidth": 0,
                          "ticks": ""
                        },
                        "colorscale": [
                          [
                            0,
                            "#0d0887"
                          ],
                          [
                            0.1111111111111111,
                            "#46039f"
                          ],
                          [
                            0.2222222222222222,
                            "#7201a8"
                          ],
                          [
                            0.3333333333333333,
                            "#9c179e"
                          ],
                          [
                            0.4444444444444444,
                            "#bd3786"
                          ],
                          [
                            0.5555555555555556,
                            "#d8576b"
                          ],
                          [
                            0.6666666666666666,
                            "#ed7953"
                          ],
                          [
                            0.7777777777777778,
                            "#fb9f3a"
                          ],
                          [
                            0.8888888888888888,
                            "#fdca26"
                          ],
                          [
                            1,
                            "#f0f921"
                          ]
                        ],
                        "type": "histogram2d"
                      }
                    ],
                    "histogram2dcontour": [
                      {
                        "colorbar": {
                          "outlinewidth": 0,
                          "ticks": ""
                        },
                        "colorscale": [
                          [
                            0,
                            "#0d0887"
                          ],
                          [
                            0.1111111111111111,
                            "#46039f"
                          ],
                          [
                            0.2222222222222222,
                            "#7201a8"
                          ],
                          [
                            0.3333333333333333,
                            "#9c179e"
                          ],
                          [
                            0.4444444444444444,
                            "#bd3786"
                          ],
                          [
                            0.5555555555555556,
                            "#d8576b"
                          ],
                          [
                            0.6666666666666666,
                            "#ed7953"
                          ],
                          [
                            0.7777777777777778,
                            "#fb9f3a"
                          ],
                          [
                            0.8888888888888888,
                            "#fdca26"
                          ],
                          [
                            1,
                            "#f0f921"
                          ]
                        ],
                        "type": "histogram2dcontour"
                      }
                    ],
                    "mesh3d": [
                      {
                        "colorbar": {
                          "outlinewidth": 0,
                          "ticks": ""
                        },
                        "type": "mesh3d"
                      }
                    ],
                    "parcoords": [
                      {
                        "line": {
                          "colorbar": {
                            "outlinewidth": 0,
                            "ticks": ""
                          }
                        },
                        "type": "parcoords"
                      }
                    ],
                    "pie": [
                      {
                        "automargin": true,
                        "type": "pie"
                      }
                    ],
                    "scatter": [
                      {
                        "fillpattern": {
                          "fillmode": "overlay",
                          "size": 10,
                          "solidity": 0.2
                        },
                        "type": "scatter"
                      }
                    ],
                    "scatter3d": [
                      {
                        "line": {
                          "colorbar": {
                            "outlinewidth": 0,
                            "ticks": ""
                          }
                        },
                        "marker": {
                          "colorbar": {
                            "outlinewidth": 0,
                            "ticks": ""
                          }
                        },
                        "type": "scatter3d"
                      }
                    ],
                    "scattercarpet": [
                      {
                        "marker": {
                          "colorbar": {
                            "outlinewidth": 0,
                            "ticks": ""
                          }
                        },
                        "type": "scattercarpet"
                      }
                    ],
                    "scattergeo": [
                      {
                        "marker": {
                          "colorbar": {
                            "outlinewidth": 0,
                            "ticks": ""
                          }
                        },
                        "type": "scattergeo"
                      }
                    ],
                    "scattergl": [
                      {
                        "marker": {
                          "colorbar": {
                            "outlinewidth": 0,
                            "ticks": ""
                          }
                        },
                        "type": "scattergl"
                      }
                    ],
                    "scattermapbox": [
                      {
                        "marker": {
                          "colorbar": {
                            "outlinewidth": 0,
                            "ticks": ""
                          }
                        },
                        "type": "scattermapbox"
                      }
                    ],
                    "scatterpolar": [
                      {
                        "marker": {
                          "colorbar": {
                            "outlinewidth": 0,
                            "ticks": ""
                          }
                        },
                        "type": "scatterpolar"
                      }
                    ],
                    "scatterpolargl": [
                      {
                        "marker": {
                          "colorbar": {
                            "outlinewidth": 0,
                            "ticks": ""
                          }
                        },
                        "type": "scatterpolargl"
                      }
                    ],
                    "scatterternary": [
                      {
                        "marker": {
                          "colorbar": {
                            "outlinewidth": 0,
                            "ticks": ""
                          }
                        },
                        "type": "scatterternary"
                      }
                    ],
                    "surface": [
                      {
                        "colorbar": {
                          "outlinewidth": 0,
                          "ticks": ""
                        },
                        "colorscale": [
                          [
                            0,
                            "#0d0887"
                          ],
                          [
                            0.1111111111111111,
                            "#46039f"
                          ],
                          [
                            0.2222222222222222,
                            "#7201a8"
                          ],
                          [
                            0.3333333333333333,
                            "#9c179e"
                          ],
                          [
                            0.4444444444444444,
                            "#bd3786"
                          ],
                          [
                            0.5555555555555556,
                            "#d8576b"
                          ],
                          [
                            0.6666666666666666,
                            "#ed7953"
                          ],
                          [
                            0.7777777777777778,
                            "#fb9f3a"
                          ],
                          [
                            0.8888888888888888,
                            "#fdca26"
                          ],
                          [
                            1,
                            "#f0f921"
                          ]
                        ],
                        "type": "surface"
                      }
                    ],
                    "table": [
                      {
                        "cells": {
                          "fill": {
                            "color": "#EBF0F8"
                          },
                          "line": {
                            "color": "white"
                          }
                        },
                        "header": {
                          "fill": {
                            "color": "#C8D4E3"
                          },
                          "line": {
                            "color": "white"
                          }
                        },
                        "type": "table"
                      }
                    ]
                  },
                  "layout": {
                    "annotationdefaults": {
                      "arrowcolor": "#2a3f5f",
                      "arrowhead": 0,
                      "arrowwidth": 1
                    },
                    "autotypenumbers": "strict",
                    "coloraxis": {
                      "colorbar": {
                        "outlinewidth": 0,
                        "ticks": ""
                      }
                    },
                    "colorscale": {
                      "diverging": [
                        [
                          0,
                          "#8e0152"
                        ],
                        [
                          0.1,
                          "#c51b7d"
                        ],
                        [
                          0.2,
                          "#de77ae"
                        ],
                        [
                          0.3,
                          "#f1b6da"
                        ],
                        [
                          0.4,
                          "#fde0ef"
                        ],
                        [
                          0.5,
                          "#f7f7f7"
                        ],
                        [
                          0.6,
                          "#e6f5d0"
                        ],
                        [
                          0.7,
                          "#b8e186"
                        ],
                        [
                          0.8,
                          "#7fbc41"
                        ],
                        [
                          0.9,
                          "#4d9221"
                        ],
                        [
                          1,
                          "#276419"
                        ]
                      ],
                      "sequential": [
                        [
                          0,
                          "#0d0887"
                        ],
                        [
                          0.1111111111111111,
                          "#46039f"
                        ],
                        [
                          0.2222222222222222,
                          "#7201a8"
                        ],
                        [
                          0.3333333333333333,
                          "#9c179e"
                        ],
                        [
                          0.4444444444444444,
                          "#bd3786"
                        ],
                        [
                          0.5555555555555556,
                          "#d8576b"
                        ],
                        [
                          0.6666666666666666,
                          "#ed7953"
                        ],
                        [
                          0.7777777777777778,
                          "#fb9f3a"
                        ],
                        [
                          0.8888888888888888,
                          "#fdca26"
                        ],
                        [
                          1,
                          "#f0f921"
                        ]
                      ],
                      "sequentialminus": [
                        [
                          0,
                          "#0d0887"
                        ],
                        [
                          0.1111111111111111,
                          "#46039f"
                        ],
                        [
                          0.2222222222222222,
                          "#7201a8"
                        ],
                        [
                          0.3333333333333333,
                          "#9c179e"
                        ],
                        [
                          0.4444444444444444,
                          "#bd3786"
                        ],
                        [
                          0.5555555555555556,
                          "#d8576b"
                        ],
                        [
                          0.6666666666666666,
                          "#ed7953"
                        ],
                        [
                          0.7777777777777778,
                          "#fb9f3a"
                        ],
                        [
                          0.8888888888888888,
                          "#fdca26"
                        ],
                        [
                          1,
                          "#f0f921"
                        ]
                      ]
                    },
                    "colorway": [
                      "#636efa",
                      "#EF553B",
                      "#00cc96",
                      "#ab63fa",
                      "#FFA15A",
                      "#19d3f3",
                      "#FF6692",
                      "#B6E880",
                      "#FF97FF",
                      "#FECB52"
                    ],
                    "font": {
                      "color": "#2a3f5f"
                    },
                    "geo": {
                      "bgcolor": "white",
                      "lakecolor": "white",
                      "landcolor": "#E5ECF6",
                      "showlakes": true,
                      "showland": true,
                      "subunitcolor": "white"
                    },
                    "hoverlabel": {
                      "align": "left"
                    },
                    "hovermode": "closest",
                    "mapbox": {
                      "style": "light"
                    },
                    "paper_bgcolor": "white",
                    "plot_bgcolor": "#E5ECF6",
                    "polar": {
                      "angularaxis": {
                        "gridcolor": "white",
                        "linecolor": "white",
                        "ticks": ""
                      },
                      "bgcolor": "#E5ECF6",
                      "radialaxis": {
                        "gridcolor": "white",
                        "linecolor": "white",
                        "ticks": ""
                      }
                    },
                    "scene": {
                      "xaxis": {
                        "backgroundcolor": "#E5ECF6",
                        "gridcolor": "white",
                        "gridwidth": 2,
                        "linecolor": "white",
                        "showbackground": true,
                        "ticks": "",
                        "zerolinecolor": "white"
                      },
                      "yaxis": {
                        "backgroundcolor": "#E5ECF6",
                        "gridcolor": "white",
                        "gridwidth": 2,
                        "linecolor": "white",
                        "showbackground": true,
                        "ticks": "",
                        "zerolinecolor": "white"
                      },
                      "zaxis": {
                        "backgroundcolor": "#E5ECF6",
                        "gridcolor": "white",
                        "gridwidth": 2,
                        "linecolor": "white",
                        "showbackground": true,
                        "ticks": "",
                        "zerolinecolor": "white"
                      }
                    },
                    "shapedefaults": {
                      "line": {
                        "color": "#2a3f5f"
                      }
                    },
                    "ternary": {
                      "aaxis": {
                        "gridcolor": "white",
                        "linecolor": "white",
                        "ticks": ""
                      },
                      "baxis": {
                        "gridcolor": "white",
                        "linecolor": "white",
                        "ticks": ""
                      },
                      "bgcolor": "#E5ECF6",
                      "caxis": {
                        "gridcolor": "white",
                        "linecolor": "white",
                        "ticks": ""
                      }
                    },
                    "title": {
                      "x": 0.05
                    },
                    "xaxis": {
                      "automargin": true,
                      "gridcolor": "white",
                      "linecolor": "white",
                      "ticks": "",
                      "title": {
                        "standoff": 15
                      },
                      "zerolinecolor": "white",
                      "zerolinewidth": 2
                    },
                    "yaxis": {
                      "automargin": true,
                      "gridcolor": "white",
                      "linecolor": "white",
                      "ticks": "",
                      "title": {
                        "standoff": 15
                      },
                      "zerolinecolor": "white",
                      "zerolinewidth": 2
                    }
                  }
                },
                "width": 1800,
                "xaxis": {
                  "anchor": "y",
                  "domain": [
                    0,
                    1
                  ]
                },
                "yaxis": {
                  "anchor": "x",
                  "autorange": "reversed",
                  "domain": [
                    0,
                    1
                  ]
                }
              }
            }
          },
          "metadata": {},
          "output_type": "display_data"
        }
      ],
      "source": [
        "fig = px.imshow(df.corr(), text_auto=True, aspect='auto',)\n",
        "fig.update_layout(\n",
        "     height=1800\n",
        "    ,width=1800\n",
        ")\n",
        "fig.show()"
      ]
    },
    {
      "cell_type": "code",
      "execution_count": 19,
      "metadata": {},
      "outputs": [],
      "source": [
        "_input_missings = SimpleImputer(strategy=\"median\")\n",
        "df.loc[:, cols] = pd.DataFrame(_input_missings.fit_transform(df.loc[:, cols]), columns=cols)\n",
        "df = df.dropna(axis=0)"
      ]
    },
    {
      "cell_type": "code",
      "execution_count": 20,
      "metadata": {},
      "outputs": [],
      "source": [
        "lassoRegression(df[cols], df['EVADIU'])"
      ]
    },
    {
      "cell_type": "markdown",
      "metadata": {},
      "source": [
        "# BorutaShap´\n",
        "vamos tentar os shapley values:\n"
      ]
    },
    {
      "cell_type": "code",
      "execution_count": 24,
      "metadata": {},
      "outputs": [],
      "source": [
        "\n",
        "from BorutaShap import BorutaShap"
      ]
    },
    {
      "cell_type": "code",
      "execution_count": 26,
      "metadata": {},
      "outputs": [
        {
          "name": "stderr",
          "output_type": "stream",
          "text": [
            "100%|██████████| 50/50 [00:22<00:00,  2.26it/s]\n"
          ]
        }
      ],
      "source": [
        "X_train, X_test, y_train, y_test = train_test_split(\n",
        "       df[cols], df['EVADIU'], test_size=0.2, random_state=42, shuffle=False\n",
        "    )\n",
        "\n",
        "rf_estimator = GradientBoostingClassifier(random_state=42)\n",
        "\n",
        "rf_feature_selection = BorutaShap(\n",
        "    model=rf_estimator, importance_measure=\"shap\", classification=False, pvalue=0.1\n",
        ")\n",
        "\n",
        "rf_feature_selection.fit(\n",
        "    X=X_train,\n",
        "    y=y_train,\n",
        "    n_trials=50,\n",
        "    sample=False,\n",
        "    train_or_test=\"train\",\n",
        "    normalize=True,\n",
        "    verbose=False,\n",
        ")\n",
        "\n",
        "boruta_accepted = rf_feature_selection.accepted"
      ]
    },
    {
      "cell_type": "code",
      "execution_count": 27,
      "metadata": {},
      "outputs": [
        {
          "data": {
            "text/plain": [
              "['INDE_2020',\n",
              " 'INDE_2022',\n",
              " 'IDA_2022',\n",
              " 'IAA_2021',\n",
              " 'CF_2022',\n",
              " 'INDE_2021',\n",
              " 'IEG_2020',\n",
              " 'IPS_2022',\n",
              " 'IPV_2022',\n",
              " 'CT_2022',\n",
              " 'IAA_2020',\n",
              " 'IPP_2022',\n",
              " 'CG_2022',\n",
              " 'IAA_2022',\n",
              " 'IDA_2020',\n",
              " 'IEG_2022']"
            ]
          },
          "execution_count": 27,
          "metadata": {},
          "output_type": "execute_result"
        }
      ],
      "source": [
        "boruta_accepted"
      ]
    },
    {
      "cell_type": "code",
      "execution_count": 32,
      "metadata": {},
      "outputs": [
        {
          "data": {
            "image/png": "[encoded data removed]",
            "text/plain": [
              "<Figure size 1200x800 with 1 Axes>"
            ]
          },
          "metadata": {},
          "output_type": "display_data"
        }
      ],
      "source": [
        "rf_feature_selection.plot(which_features='all')"
      ]
    },
    {
      "cell_type": "code",
      "execution_count": null,
      "metadata": {},
      "outputs": [],
      "source": [
        "rf_feature_selection.plot()"
      ]
    }
  ],
  "metadata": {
    "colab": {
      "provenance": []
    },
    "kernelspec": {
      "display_name": "Python 3",
      "name": "python3"
    },
    "language_info": {
      "codemirror_mode": {
        "name": "ipython",
        "version": 3
      },
      "file_extension": ".py",
      "mimetype": "text/x-python",
      "name": "python",
      "nbconvert_exporter": "python",
      "pygments_lexer": "ipython3",
      "version": "3.10.4"
    }
  },
  "nbformat": 4,
  "nbformat_minor": 0
}
