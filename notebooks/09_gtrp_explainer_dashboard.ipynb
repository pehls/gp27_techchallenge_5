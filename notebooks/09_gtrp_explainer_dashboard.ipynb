{
  "cells": [
    {
      "cell_type": "markdown",
      "metadata": {
        "id": "VW7xr-Zt9ezu"
      },
      "source": [
        "# **Simulações**\n"
      ]
    },
    {
      "cell_type": "code",
      "execution_count": null,
      "metadata": {
        "id": "CBeeKHWH10HB"
      },
      "outputs": [],
      "source": [
        "# Bibliotecas\n",
        "import pandas as pd\n",
        "import matplotlib.pyplot as plt\n",
        "import numpy as np\n",
        "import joblib\n",
        "\n",
        "# Verificando quais alunos evadiram\n",
        "def verifica_evadidos(row):\n",
        "    if pd.isna(row['PONTO_VIRADA_2022']):  # Se PONTO_VIRADA_2022 for NaN\n",
        "        return True  # O aluno evadiu\n",
        "    elif pd.isna(row['PONTO_VIRADA_2020']):  # Se PONTO_VIRADA_2020 for NaN\n",
        "        return False  # O aluno não evadiu\n",
        "    elif pd.isna(row['PONTO_VIRADA_2021']):  # Se PONTO_VIRADA_2021 for NaN\n",
        "        return True  # O aluno evadiu\n",
        "    else:\n",
        "        return False  # O aluno não evadiu\n",
        "\n",
        "# Função para identificar o último ano de ponto de virada antes de NaN\n",
        "def ultimo_ano(row):\n",
        "    if row['EVADIU']:  # Verifica se EVADIU é verdadeiro\n",
        "        if row['PONTO_VIRADA_2020'] in ['Sim', 'Não'] and pd.isna(row['PONTO_VIRADA_2021']):\n",
        "            return 2020\n",
        "        elif row['PONTO_VIRADA_2021'] in ['Sim', 'Não'] and pd.isna(row['PONTO_VIRADA_2022']):\n",
        "            return 2021\n",
        "        elif row['PONTO_VIRADA_2022'] in ['Sim', 'Não']:\n",
        "            return 2022\n",
        "    return pd.NA\n",
        "\n",
        "def _generate_df_evasao(df):\n",
        "    indicacao_evasao = ['NOME', 'PONTO_VIRADA_2020', 'PONTO_VIRADA_2021', 'PONTO_VIRADA_2022']\n",
        "    df_evasao = df[indicacao_evasao]\n",
        "    df_evasao['EVADIU'] = df_evasao.apply(verifica_evadidos, axis=1)\n",
        "    # Aplicar a função para cada linha do DataFrame\n",
        "    df_evasao['ULTIMO_ANO'] = df_evasao.apply(ultimo_ano, axis=1)\n",
        "    return df_evasao\n",
        "\n",
        "def _df_passos_magicos():\n",
        "    df = pd.read_csv('data/raw/PEDE_PASSOS_DATASET_FIAP.csv', sep=';')\n",
        "    df_evasao = _generate_df_evasao(df)\n",
        "    # Mesclar os DataFrames com base na coluna 'NOME'\n",
        "    df = df.merge(df_evasao[['NOME', 'EVADIU', 'ULTIMO_ANO']], on='NOME', how='left')\n",
        "    # removendo linha problematica\n",
        "    df = df.loc[~(df['INDE_2020'] == 'D980')]\n",
        "    # substituindo null estranho\n",
        "    df.loc[(df['INDE_2021'] == '#NULO!'),['INDE_2021']] = np.nan\n",
        "\n",
        "    return df\n",
        "\n",
        "def _get_saresp():\n",
        "    return pd.read_csv('../data/processed/saresp.csv')\n",
        "\n",
        "def _rename(df, cols_not_rename=['YEAR'], posfixo='_Y-1'):\n",
        "    for col in cols_not_rename:\n",
        "        df[col] = df[col].astype(str)\n",
        "    for col in list(set(df.columns) - set(cols_not_rename)):\n",
        "        df = df.rename(columns={col:col+posfixo})\n",
        "    return df\n",
        "\n",
        "def _get_xgb_model(path='models/xgb_model.pkl'):\n",
        "    return joblib.load(path)\n"
      ]
    },
    {
      "cell_type": "code",
      "execution_count": null,
      "metadata": {},
      "outputs": [],
      "source": [
        "model = _get_xgb_model(path='../models/xgb_model.pkl')"
      ]
    },
    {
      "cell_type": "code",
      "execution_count": null,
      "metadata": {},
      "outputs": [],
      "source": [
        "def _test_df_cols(df):\n",
        "    cols_in_last_year =  ['IDADE_Y-1', 'IAA_Y-1', 'IAN_Y-1', 'IDA_Y-1', 'IEG_Y-1', 'INDE_Y-1', 'IPP_Y-1', 'IPS_Y-1', 'IPV_Y-1']\n",
        "    cols_in_current_year =  ['IDADE_Y', 'IAA_Y', 'IAN_Y', 'IDA_Y', 'IEG_Y', 'INDE_Y', 'IPP_Y', 'IPS_Y', 'IPV_Y']\n",
        "    cols_identity = ['YEAR','NOME']\n",
        "    cols_diff = set(cols_in_current_year + cols_in_last_year + cols_identity).difference(df.columns)\n",
        "    return {\n",
        "          'cols_diff':cols_diff\n",
        "        , 'status_ok':True if len(cols_diff)<1 else False\n",
        "        , 'df':df\n",
        "    }"
      ]
    },
    {
      "cell_type": "code",
      "execution_count": null,
      "metadata": {},
      "outputs": [],
      "source": [
        "def _load_new_data(file_path):\n",
        "    df = pd.read_excel(file_path)\n",
        "    cols_in =  ['IDADE', 'IAA', 'IAN', 'IDA', 'IEG', 'INDE', 'IPP', 'IPS', 'IPV']\n",
        "    if not(_test_df_cols(df)['status_ok']):\n",
        "        return _test_df_cols(df)\n",
        "    \n",
        "    # add dados da saresp em Y-1\n",
        "    df_saresp = _get_saresp()\n",
        "    df_saresp_m1 = _rename(df_saresp, posfixo='_Y-1')\n",
        "    for col in ['YEAR','IDADE_Y-1']:\n",
        "        df_saresp_m1[col] = df_saresp_m1[col].astype(int)\n",
        "        df[col] = df[col].astype(int)\n",
        "    df = df.merge(\n",
        "        df_saresp_m1\n",
        "        , on=['YEAR','IDADE_Y-1']\n",
        "        )\n",
        "    \n",
        "    # saresp no ano corrente\n",
        "    df_saresp_m = _rename(df_saresp, posfixo='_Y')\n",
        "    for col in ['YEAR','IDADE_Y']:\n",
        "        df_saresp_m[col] = df_saresp_m[col].astype(int)\n",
        "        df[col] = df[col].astype(int)\n",
        "    df = df.merge(\n",
        "        df_saresp_m\n",
        "        , on=['YEAR','IDADE_Y']\n",
        "        )\n",
        "    return {\n",
        "          'cols_diff':[]\n",
        "        , 'status_ok':True\n",
        "        , 'df':df\n",
        "    }\n"
      ]
    },
    {
      "cell_type": "code",
      "execution_count": null,
      "metadata": {},
      "outputs": [],
      "source": [
        "response_new_data = _load_new_data('../data/processed/dado_simulacao.xlsx')\n",
        "if (response_new_data['status_ok']):\n",
        "    df_new_data = response_new_data['df']\n",
        "else:\n",
        "    print(response_new_data)"
      ]
    },
    {
      "cell_type": "markdown",
      "metadata": {},
      "source": [
        "explainer dashboard"
      ]
    },
    {
      "cell_type": "code",
      "execution_count": null,
      "metadata": {},
      "outputs": [],
      "source": [
        "df_new_data.index = df_new_data['NOME']\n",
        "df_new_data = df_new_data.drop(columns={'NOME'})"
      ]
    },
    {
      "cell_type": "code",
      "execution_count": null,
      "metadata": {},
      "outputs": [],
      "source": [
        "# https://explainerdashboard.readthedocs.io/en/latest/tabs.html\n",
        "\n",
        "from explainerdashboard.custom import (\n",
        "    ExplainerComponent, dbc, html,\n",
        "    ShapDependenceComponent,\n",
        "    ShapContributionsGraphComponent,\n",
        "    ShapInteractionsComposite,\n",
        "    ClassifierPredictionSummaryComponent,\n",
        "    PdpComponent,\n",
        "    ClassifierRandomIndexComponent,\n",
        "    PosLabelSelector,\n",
        "    IndexConnector, \n",
        ")\n",
        "from explainerdashboard import ClassifierExplainer, RegressionExplainer\n",
        "from explainerdashboard import ExplainerDashboard\n",
        "\n",
        "class CustomDashboard(ExplainerComponent):\n",
        "    def __init__(self, explainer, **kwargs):\n",
        "        super().__init__(explainer, title=\"Previsões e Variáveis Decisórias\")\n",
        "        self.pos_label = 1\n",
        "        self.index = ClassifierRandomIndexComponent(explainer,\n",
        "                                                    hide_title=True, hide_index=False,\n",
        "                                                    hide_slider=True, hide_labels=True,\n",
        "                                                    hide_pred_or_perc=True,\n",
        "                                                    hide_selector=True, hide_button=False)\n",
        "        self.dependence = ShapDependenceComponent(explainer,\n",
        "                            hide_selector=True, hide_percentage=True, hide_index=True,  \n",
        "                            description=\"\"\"\n",
        "                                Este gráfico mostra a relação entre as variáveis e seu valor shap, \n",
        "                                fazendo com que consigamos investigar o relacionamento entre o valor das features e \n",
        "                                o impacto na previsão. Você pode checar se o modelo usa as features de acordo com o\n",
        "                                esperado, ou usar o mesmo para aprender as relações que o modelo aprendeu entre\n",
        "                                as features de entrada e a saída predita\n",
        "                            \"\"\" ,\n",
        "                            title=\"Dependência Shap\", subtitle=\"Relação entre o valor da variável e o valor SHAP. Em cinza, o NOME selecionado!\",             \n",
        "                            cutoff=0.75, **kwargs)\n",
        "        self.pdp = PdpComponent(explainer,\n",
        "                            hide_selector=True, hide_cats=True, hide_index=True,\n",
        "                            hide_depth=True, hide_sort=True,\n",
        "                            description=\"\"\"\n",
        "                            O gráfico de dependência parcial (pdp) mostra como seria a previsão do modelo\n",
        "                            se você alterar um recurso específico. O gráfico mostra uma amostra\n",
        "                            de observações e como essas observações mudariam com as mudanças aplicadas\n",
        "                            (linhas de grade). O efeito médio é mostrado em cinza. O efeito\n",
        "                            de alterar o recurso para um único Nome é\n",
        "                            mostrado em azul. Você pode ajustar quantas observações serão utilizadas para o\n",
        "                            calculo, quantas linhas de grade mostrar e quantos pontos ao longo do\n",
        "                            eixo x para calcular as previsões do modelo.\n",
        "                            \"\"\",\n",
        "                            title=\"Gráfico de Dependência Parcial\",\n",
        "                            subtitle=\"Como a previsão mudará se você mudar uma variável?\",\n",
        "                            **kwargs)\n",
        "        self.ind_preds = ShapContributionsGraphComponent(explainer,\n",
        "                            hide_selector=True, hide_cats=True, hide_index=True,\n",
        "                            hide_depth=True, hide_sort=True,\n",
        "                            description=\"\"\"\n",
        "                            Este gráfico mostra a contribuição que cada característica individual tem \n",
        "                            na previsão de uma observação específica. \n",
        "                            As contribuições (a partir da média da população) somam-se à previsão final.\n",
        "                            Isso permite explicar exatamente como cada previsão individual foi construída \n",
        "                            a partir de todos os ingredientes individuais do modelo.\n",
        "                            \"\"\",\n",
        "                            title=\"Gráfico das Contribuições\", subtitle=\"Como cada Variável contribuiu para a previsão?\",\n",
        "                            **kwargs)\n",
        "        self.class_preds = ClassifierPredictionSummaryComponent(explainer,\n",
        "                            hide_selector=True, hide_cats=True, hide_index=True,\n",
        "                            hide_depth=True, hide_sort=True,\n",
        "                            description=\"Mostra a probabilidade predita para cada situação, sendo False para não-evasão e True para Evasão.\",\n",
        "                            title=\"Previsões & Probabilidades\",\n",
        "                            **kwargs)\n",
        "        self.connector = IndexConnector(self.index, [self.dependence, self.pdp, self.ind_preds, self.class_preds])\n",
        "\n",
        "    def layout(self):\n",
        "        return dbc.Container([\n",
        "            dbc.Row([\n",
        "                dbc.Col([\n",
        "                    html.H3(\"Selecione um Aluno:\"),\n",
        "                    self.index.layout()\n",
        "                ])\n",
        "            ]),\n",
        "            dbc.Row([\n",
        "                dbc.Col([\n",
        "                    self.ind_preds.layout(),\n",
        "                ]),\n",
        "                dbc.Col([\n",
        "                    self.class_preds.layout(),\n",
        "                ]),\n",
        "            ]),\n",
        "            dbc.Row([\n",
        "                dbc.Col([\n",
        "                    self.dependence.layout(),\n",
        "                ]),\n",
        "                dbc.Col([\n",
        "                    self.pdp.layout(),\n",
        "                ]),\n",
        "            ])\n",
        "            \n",
        "        ])"
      ]
    },
    {
      "cell_type": "code",
      "execution_count": null,
      "metadata": {},
      "outputs": [],
      "source": [
        "import dash\n",
        "app = dash.Dash(__name__)\n",
        "server = app.server\n",
        "app.scripts.config.serve_locally=False\n",
        "app.css.config.serve_locally=False\n",
        "\n",
        "explainer = ClassifierExplainer(model, df_new_data, model.predict(df_new_data))\n",
        "exp_dash = ExplainerDashboard(explainer, \n",
        "                            CustomDashboard, mode='inline',\n",
        "                            server=server, url_base_pathname=\"/explainer_dashboard/\",\n",
        "                            header_hide_selector=True, port=8000, host='0.0.0.0',\n",
        "                            description = \"\"\"Esta área do dashboard mostra o funcionamento do modelo, explicando como ele realizou as suas predições\"\"\")\n",
        "exp_dash.run()\n",
        "# app.run()"
      ]
    },
    {
      "cell_type": "code",
      "execution_count": null,
      "metadata": {},
      "outputs": [],
      "source": [
        "ExplainerDashboard.terminate(8000)"
      ]
    },
    {
      "cell_type": "code",
      "execution_count": null,
      "metadata": {},
      "outputs": [],
      "source": [
        "print(CustomDashboard(explainer).index.description)"
      ]
    },
    {
      "cell_type": "code",
      "execution_count": null,
      "metadata": {},
      "outputs": [],
      "source": [
        "index_ = CustomDashboard(explainer).connector"
      ]
    },
    {
      "cell_type": "code",
      "execution_count": null,
      "metadata": {},
      "outputs": [],
      "source": [
        "index_.get_state_args(state_dict={'NOME'})"
      ]
    },
    {
      "cell_type": "code",
      "execution_count": null,
      "metadata": {},
      "outputs": [],
      "source": [
        "exp_dash.app.+"
      ]
    },
    {
      "cell_type": "code",
      "execution_count": null,
      "metadata": {},
      "outputs": [],
      "source": [
        "# exp_dash.terminate(8050)"
      ]
    }
  ],
  "metadata": {
    "colab": {
      "provenance": []
    },
    "kernelspec": {
      "display_name": "Python 3",
      "name": "python3"
    },
    "language_info": {
      "codemirror_mode": {
        "name": "ipython",
        "version": 3
      },
      "file_extension": ".py",
      "mimetype": "text/x-python",
      "name": "python",
      "nbconvert_exporter": "python",
      "pygments_lexer": "ipython3",
      "version": "3.10.4"
    }
  },
  "nbformat": 4,
  "nbformat_minor": 0
}
