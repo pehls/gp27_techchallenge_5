{
  "cells": [
    {
      "cell_type": "code",
      "execution_count": 1,
      "metadata": {},
      "outputs": [],
      "source": [
        "!pip install -q pandas"
      ]
    },
    {
      "cell_type": "code",
      "execution_count": 2,
      "metadata": {
        "id": "eppVtiTDde0D"
      },
      "outputs": [],
      "source": [
        "import pandas as pd"
      ]
    },
    {
      "cell_type": "code",
      "execution_count": 3,
      "metadata": {
        "id": "9ZfECL7Cdumk"
      },
      "outputs": [],
      "source": [
        "df = pd.read_csv('../data/raw/PEDE_PASSOS_DATASET_FIAP.csv', sep=';')"
      ]
    },
    {
      "cell_type": "code",
      "execution_count": 4,
      "metadata": {
        "colab": {
          "base_uri": "https://localhost:8080/",
          "height": 412
        },
        "id": "vnI2POQ8d5x-",
        "outputId": "6e05e472-224e-4c16-c01d-b66deaf95993"
      },
      "outputs": [
        {
          "data": {
            "text/html": [
              "<div>\n",
              "<style scoped>\n",
              "    .dataframe tbody tr th:only-of-type {\n",
              "        vertical-align: middle;\n",
              "    }\n",
              "\n",
              "    .dataframe tbody tr th {\n",
              "        vertical-align: top;\n",
              "    }\n",
              "\n",
              "    .dataframe thead th {\n",
              "        text-align: right;\n",
              "    }\n",
              "</style>\n",
              "<table border=\"1\" class=\"dataframe\">\n",
              "  <thead>\n",
              "    <tr style=\"text-align: right;\">\n",
              "      <th></th>\n",
              "      <th>INSTITUICAO_ENSINO_ALUNO_2020</th>\n",
              "      <th>NOME</th>\n",
              "      <th>IDADE_ALUNO_2020</th>\n",
              "      <th>ANOS_PM_2020</th>\n",
              "      <th>FASE_TURMA_2020</th>\n",
              "      <th>PONTO_VIRADA_2020</th>\n",
              "      <th>INDE_2020</th>\n",
              "      <th>INDE_CONCEITO_2020</th>\n",
              "      <th>PEDRA_2020</th>\n",
              "      <th>DESTAQUE_IEG_2020</th>\n",
              "      <th>...</th>\n",
              "      <th>IPP_2022</th>\n",
              "      <th>REC_AVA_1_2022</th>\n",
              "      <th>REC_AVA_2_2022</th>\n",
              "      <th>REC_AVA_3_2022</th>\n",
              "      <th>REC_AVA_4_2022</th>\n",
              "      <th>INDICADO_BOLSA_2022</th>\n",
              "      <th>PONTO_VIRADA_2022</th>\n",
              "      <th>IPV_2022</th>\n",
              "      <th>IAN_2022</th>\n",
              "      <th>NIVEL_IDEAL_2022</th>\n",
              "    </tr>\n",
              "  </thead>\n",
              "  <tbody>\n",
              "    <tr>\n",
              "      <th>0</th>\n",
              "      <td>Escola Pública</td>\n",
              "      <td>ALUNO-1</td>\n",
              "      <td>11</td>\n",
              "      <td>2</td>\n",
              "      <td>2H</td>\n",
              "      <td>Não</td>\n",
              "      <td>7.883752</td>\n",
              "      <td>B</td>\n",
              "      <td>Ametista</td>\n",
              "      <td>Seu destaque em 2020: A sua boa entrega das li...</td>\n",
              "      <td>...</td>\n",
              "      <td>NaN</td>\n",
              "      <td>NaN</td>\n",
              "      <td>NaN</td>\n",
              "      <td>NaN</td>\n",
              "      <td>NaN</td>\n",
              "      <td>NaN</td>\n",
              "      <td>NaN</td>\n",
              "      <td>NaN</td>\n",
              "      <td>NaN</td>\n",
              "      <td>NaN</td>\n",
              "    </tr>\n",
              "    <tr>\n",
              "      <th>1</th>\n",
              "      <td>NaN</td>\n",
              "      <td>ALUNO-2</td>\n",
              "      <td>NaN</td>\n",
              "      <td>NaN</td>\n",
              "      <td>NaN</td>\n",
              "      <td>NaN</td>\n",
              "      <td>NaN</td>\n",
              "      <td>NaN</td>\n",
              "      <td>NaN</td>\n",
              "      <td>NaN</td>\n",
              "      <td>...</td>\n",
              "      <td>5.625000</td>\n",
              "      <td>Mantido na Fase + Bolsa</td>\n",
              "      <td>Mantido na Fase atual</td>\n",
              "      <td>NaN</td>\n",
              "      <td>NaN</td>\n",
              "      <td>Sim</td>\n",
              "      <td>Não</td>\n",
              "      <td>7.916665</td>\n",
              "      <td>5.0</td>\n",
              "      <td>Fase 2 (5º e 6º ano)</td>\n",
              "    </tr>\n",
              "    <tr>\n",
              "      <th>2</th>\n",
              "      <td>Escola Pública</td>\n",
              "      <td>ALUNO-3</td>\n",
              "      <td>12</td>\n",
              "      <td>2</td>\n",
              "      <td>3H</td>\n",
              "      <td>Não</td>\n",
              "      <td>7.856389666666666</td>\n",
              "      <td>B</td>\n",
              "      <td>Ametista</td>\n",
              "      <td>Seu destaque em 2020: A sua boa entrega das li...</td>\n",
              "      <td>...</td>\n",
              "      <td>NaN</td>\n",
              "      <td>NaN</td>\n",
              "      <td>NaN</td>\n",
              "      <td>NaN</td>\n",
              "      <td>NaN</td>\n",
              "      <td>NaN</td>\n",
              "      <td>NaN</td>\n",
              "      <td>NaN</td>\n",
              "      <td>NaN</td>\n",
              "      <td>NaN</td>\n",
              "    </tr>\n",
              "    <tr>\n",
              "      <th>3</th>\n",
              "      <td>Escola Pública</td>\n",
              "      <td>ALUNO-4</td>\n",
              "      <td>10</td>\n",
              "      <td>2</td>\n",
              "      <td>1D</td>\n",
              "      <td>Não</td>\n",
              "      <td>5.076252</td>\n",
              "      <td>D</td>\n",
              "      <td>Quartzo</td>\n",
              "      <td>Ponto a melhorar em 2021: Melhorar a sua entre...</td>\n",
              "      <td>...</td>\n",
              "      <td>6.250000</td>\n",
              "      <td>Promovido de Fase</td>\n",
              "      <td>Mantido na Fase atual</td>\n",
              "      <td>Promovido de Fase</td>\n",
              "      <td>NaN</td>\n",
              "      <td>Não</td>\n",
              "      <td>Não</td>\n",
              "      <td>8.055553</td>\n",
              "      <td>5.0</td>\n",
              "      <td>Fase 3 (7º e 8º ano)</td>\n",
              "    </tr>\n",
              "    <tr>\n",
              "      <th>4</th>\n",
              "      <td>Escola Pública</td>\n",
              "      <td>ALUNO-5</td>\n",
              "      <td>10</td>\n",
              "      <td>1</td>\n",
              "      <td>2M</td>\n",
              "      <td>Não</td>\n",
              "      <td>8.077085</td>\n",
              "      <td>B</td>\n",
              "      <td>Ametista</td>\n",
              "      <td>Seu destaque em 2020: A sua boa entrega das li...</td>\n",
              "      <td>...</td>\n",
              "      <td>6.458333</td>\n",
              "      <td>Mantido na Fase atual</td>\n",
              "      <td>Promovido de Fase</td>\n",
              "      <td>Mantido na Fase atual</td>\n",
              "      <td>NaN</td>\n",
              "      <td>Não</td>\n",
              "      <td>Não</td>\n",
              "      <td>7.833337</td>\n",
              "      <td>5.0</td>\n",
              "      <td>Fase 3 (7º e 8º ano)</td>\n",
              "    </tr>\n",
              "  </tbody>\n",
              "</table>\n",
              "<p>5 rows × 69 columns</p>\n",
              "</div>"
            ],
            "text/plain": [
              "  INSTITUICAO_ENSINO_ALUNO_2020     NOME IDADE_ALUNO_2020 ANOS_PM_2020  \\\n",
              "0                Escola Pública  ALUNO-1               11            2   \n",
              "1                           NaN  ALUNO-2              NaN          NaN   \n",
              "2                Escola Pública  ALUNO-3               12            2   \n",
              "3                Escola Pública  ALUNO-4               10            2   \n",
              "4                Escola Pública  ALUNO-5               10            1   \n",
              "\n",
              "  FASE_TURMA_2020 PONTO_VIRADA_2020          INDE_2020 INDE_CONCEITO_2020  \\\n",
              "0              2H               Não           7.883752                  B   \n",
              "1             NaN               NaN                NaN                NaN   \n",
              "2              3H               Não  7.856389666666666                  B   \n",
              "3              1D               Não           5.076252                  D   \n",
              "4              2M               Não           8.077085                  B   \n",
              "\n",
              "  PEDRA_2020                                  DESTAQUE_IEG_2020  ...  \\\n",
              "0   Ametista  Seu destaque em 2020: A sua boa entrega das li...  ...   \n",
              "1        NaN                                                NaN  ...   \n",
              "2   Ametista  Seu destaque em 2020: A sua boa entrega das li...  ...   \n",
              "3    Quartzo  Ponto a melhorar em 2021: Melhorar a sua entre...  ...   \n",
              "4   Ametista  Seu destaque em 2020: A sua boa entrega das li...  ...   \n",
              "\n",
              "   IPP_2022           REC_AVA_1_2022         REC_AVA_2_2022  \\\n",
              "0       NaN                      NaN                    NaN   \n",
              "1  5.625000  Mantido na Fase + Bolsa  Mantido na Fase atual   \n",
              "2       NaN                      NaN                    NaN   \n",
              "3  6.250000        Promovido de Fase  Mantido na Fase atual   \n",
              "4  6.458333    Mantido na Fase atual      Promovido de Fase   \n",
              "\n",
              "          REC_AVA_3_2022 REC_AVA_4_2022 INDICADO_BOLSA_2022 PONTO_VIRADA_2022  \\\n",
              "0                    NaN            NaN                 NaN               NaN   \n",
              "1                    NaN            NaN                 Sim               Não   \n",
              "2                    NaN            NaN                 NaN               NaN   \n",
              "3      Promovido de Fase            NaN                 Não               Não   \n",
              "4  Mantido na Fase atual            NaN                 Não               Não   \n",
              "\n",
              "   IPV_2022 IAN_2022      NIVEL_IDEAL_2022  \n",
              "0       NaN      NaN                   NaN  \n",
              "1  7.916665      5.0  Fase 2 (5º e 6º ano)  \n",
              "2       NaN      NaN                   NaN  \n",
              "3  8.055553      5.0  Fase 3 (7º e 8º ano)  \n",
              "4  7.833337      5.0  Fase 3 (7º e 8º ano)  \n",
              "\n",
              "[5 rows x 69 columns]"
            ]
          },
          "execution_count": 4,
          "metadata": {},
          "output_type": "execute_result"
        }
      ],
      "source": [
        "df.head()"
      ]
    },
    {
      "cell_type": "code",
      "execution_count": 5,
      "metadata": {
        "id": "4Q8UeBYzeOZL"
      },
      "outputs": [],
      "source": [
        "cols_2020 = [col for col in df.columns.to_list() if col.endswith('_2020') or col == 'NOME']\n",
        "cols_2021 = [col for col in df.columns.to_list() if col.endswith('_2021') or col == 'NOME']\n",
        "cols_2022 = [col for col in df.columns.to_list() if col.endswith('_2022') or col == 'NOME']"
      ]
    },
    {
      "cell_type": "code",
      "execution_count": 6,
      "metadata": {
        "id": "QRtnGo-DpSrM"
      },
      "outputs": [],
      "source": [
        "df2020 = df[cols_2020]\n",
        "df2021 = df[cols_2021]\n",
        "df2022 = df[cols_2022]"
      ]
    },
    {
      "cell_type": "code",
      "execution_count": 7,
      "metadata": {
        "colab": {
          "base_uri": "https://localhost:8080/"
        },
        "id": "_QOZWzULpnzm",
        "outputId": "d3b92ac3-8cdb-45da-c149-cd76fb08665a"
      },
      "outputs": [
        {
          "name": "stdout",
          "output_type": "stream",
          "text": [
            "<class 'pandas.core.frame.DataFrame'>\n",
            "RangeIndex: 1349 entries, 0 to 1348\n",
            "Data columns (total 19 columns):\n",
            " #   Column                         Non-Null Count  Dtype \n",
            "---  ------                         --------------  ----- \n",
            " 0   INSTITUICAO_ENSINO_ALUNO_2020  728 non-null    object\n",
            " 1   NOME                           1349 non-null   object\n",
            " 2   IDADE_ALUNO_2020               728 non-null    object\n",
            " 3   ANOS_PM_2020                   728 non-null    object\n",
            " 4   FASE_TURMA_2020                728 non-null    object\n",
            " 5   PONTO_VIRADA_2020              702 non-null    object\n",
            " 6   INDE_2020                      728 non-null    object\n",
            " 7   INDE_CONCEITO_2020             728 non-null    object\n",
            " 8   PEDRA_2020                     728 non-null    object\n",
            " 9   DESTAQUE_IEG_2020              728 non-null    object\n",
            " 10  DESTAQUE_IDA_2020              728 non-null    object\n",
            " 11  DESTAQUE_IPV_2020              703 non-null    object\n",
            " 12  IAA_2020                       728 non-null    object\n",
            " 13  IEG_2020                       728 non-null    object\n",
            " 14  IPS_2020                       728 non-null    object\n",
            " 15  IDA_2020                       728 non-null    object\n",
            " 16  IPP_2020                       728 non-null    object\n",
            " 17  IPV_2020                       728 non-null    object\n",
            " 18  IAN_2020                       728 non-null    object\n",
            "dtypes: object(19)\n",
            "memory usage: 200.4+ KB\n"
          ]
        }
      ],
      "source": [
        "df2020.info()"
      ]
    },
    {
      "cell_type": "code",
      "execution_count": 8,
      "metadata": {
        "colab": {
          "base_uri": "https://localhost:8080/"
        },
        "id": "TBHQ-MsTpwlx",
        "outputId": "7233fa54-f6c4-4841-ecc3-72f265a02fa3"
      },
      "outputs": [
        {
          "name": "stdout",
          "output_type": "stream",
          "text": [
            "<class 'pandas.core.frame.DataFrame'>\n",
            "RangeIndex: 1349 entries, 0 to 1348\n",
            "Data columns (total 21 columns):\n",
            " #   Column                         Non-Null Count  Dtype  \n",
            "---  ------                         --------------  -----  \n",
            " 0   NOME                           1349 non-null   object \n",
            " 1   FASE_2021                      686 non-null    float64\n",
            " 2   TURMA_2021                     686 non-null    object \n",
            " 3   INSTITUICAO_ENSINO_ALUNO_2021  686 non-null    object \n",
            " 4   SINALIZADOR_INGRESSANTE_2021   686 non-null    object \n",
            " 5   PEDRA_2021                     686 non-null    object \n",
            " 6   INDE_2021                      686 non-null    object \n",
            " 7   IAA_2021                       686 non-null    float64\n",
            " 8   IEG_2021                       686 non-null    float64\n",
            " 9   IPS_2021                       686 non-null    float64\n",
            " 10  IDA_2021                       686 non-null    float64\n",
            " 11  IPP_2021                       686 non-null    float64\n",
            " 12  REC_EQUIPE_1_2021              686 non-null    object \n",
            " 13  REC_EQUIPE_2_2021              686 non-null    object \n",
            " 14  REC_EQUIPE_3_2021              686 non-null    object \n",
            " 15  REC_EQUIPE_4_2021              686 non-null    object \n",
            " 16  PONTO_VIRADA_2021              686 non-null    object \n",
            " 17  IPV_2021                       686 non-null    float64\n",
            " 18  IAN_2021                       686 non-null    float64\n",
            " 19  NIVEL_IDEAL_2021               686 non-null    object \n",
            " 20  DEFASAGEM_2021                 686 non-null    float64\n",
            "dtypes: float64(9), object(12)\n",
            "memory usage: 221.4+ KB\n"
          ]
        }
      ],
      "source": [
        "df2021.info()"
      ]
    },
    {
      "cell_type": "code",
      "execution_count": null,
      "metadata": {},
      "outputs": [],
      "source": []
    }
  ],
  "metadata": {
    "colab": {
      "provenance": []
    },
    "kernelspec": {
      "display_name": "Python 3",
      "name": "python3"
    },
    "language_info": {
      "codemirror_mode": {
        "name": "ipython",
        "version": 3
      },
      "file_extension": ".py",
      "mimetype": "text/x-python",
      "name": "python",
      "nbconvert_exporter": "python",
      "pygments_lexer": "ipython3",
      "version": "3.10.12"
    }
  },
  "nbformat": 4,
  "nbformat_minor": 0
}
