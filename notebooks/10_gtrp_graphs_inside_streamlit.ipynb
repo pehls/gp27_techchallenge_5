{
  "cells": [
    {
      "cell_type": "markdown",
      "metadata": {
        "id": "VW7xr-Zt9ezu"
      },
      "source": [
        "# **Simulações**\n"
      ]
    },
    {
      "cell_type": "code",
      "execution_count": 1,
      "metadata": {
        "id": "CBeeKHWH10HB"
      },
      "outputs": [],
      "source": [
        "# Bibliotecas\n",
        "import pandas as pd\n",
        "import matplotlib.pyplot as plt\n",
        "import numpy as np\n",
        "import joblib\n",
        "\n",
        "# Verificando quais alunos evadiram\n",
        "def verifica_evadidos(row):\n",
        "    if pd.isna(row['PONTO_VIRADA_2022']):  # Se PONTO_VIRADA_2022 for NaN\n",
        "        return True  # O aluno evadiu\n",
        "    elif pd.isna(row['PONTO_VIRADA_2020']):  # Se PONTO_VIRADA_2020 for NaN\n",
        "        return False  # O aluno não evadiu\n",
        "    elif pd.isna(row['PONTO_VIRADA_2021']):  # Se PONTO_VIRADA_2021 for NaN\n",
        "        return True  # O aluno evadiu\n",
        "    else:\n",
        "        return False  # O aluno não evadiu\n",
        "\n",
        "# Função para identificar o último ano de ponto de virada antes de NaN\n",
        "def ultimo_ano(row):\n",
        "    if row['EVADIU']:  # Verifica se EVADIU é verdadeiro\n",
        "        if row['PONTO_VIRADA_2020'] in ['Sim', 'Não'] and pd.isna(row['PONTO_VIRADA_2021']):\n",
        "            return 2020\n",
        "        elif row['PONTO_VIRADA_2021'] in ['Sim', 'Não'] and pd.isna(row['PONTO_VIRADA_2022']):\n",
        "            return 2021\n",
        "        elif row['PONTO_VIRADA_2022'] in ['Sim', 'Não']:\n",
        "            return 2022\n",
        "    return pd.NA\n",
        "\n",
        "def _generate_df_evasao(df):\n",
        "    indicacao_evasao = ['NOME', 'PONTO_VIRADA_2020', 'PONTO_VIRADA_2021', 'PONTO_VIRADA_2022']\n",
        "    df_evasao = df[indicacao_evasao]\n",
        "    df_evasao['EVADIU'] = df_evasao.apply(verifica_evadidos, axis=1)\n",
        "    # Aplicar a função para cada linha do DataFrame\n",
        "    df_evasao['ULTIMO_ANO'] = df_evasao.apply(ultimo_ano, axis=1)\n",
        "    return df_evasao\n",
        "\n",
        "def _df_passos_magicos():\n",
        "    df = pd.read_csv('data/raw/PEDE_PASSOS_DATASET_FIAP.csv', sep=';')\n",
        "    df_evasao = _generate_df_evasao(df)\n",
        "    # Mesclar os DataFrames com base na coluna 'NOME'\n",
        "    df = df.merge(df_evasao[['NOME', 'EVADIU', 'ULTIMO_ANO']], on='NOME', how='left')\n",
        "    # removendo linha problematica\n",
        "    df = df.loc[~(df['INDE_2020'] == 'D980')]\n",
        "    # substituindo null estranho\n",
        "    df.loc[(df['INDE_2021'] == '#NULO!'),['INDE_2021']] = np.nan\n",
        "\n",
        "    return df\n",
        "\n",
        "def _get_saresp():\n",
        "    return pd.read_csv('../data/processed/saresp.csv')\n",
        "\n",
        "def _rename(df, cols_not_rename=['YEAR'], posfixo='_Y-1'):\n",
        "    for col in cols_not_rename:\n",
        "        df[col] = df[col].astype(str)\n",
        "    for col in list(set(df.columns) - set(cols_not_rename)):\n",
        "        df = df.rename(columns={col:col+posfixo})\n",
        "    return df\n",
        "\n",
        "def _get_xgb_model(path='models/xgb_model.pkl'):\n",
        "    return joblib.load(path)\n"
      ]
    },
    {
      "cell_type": "code",
      "execution_count": 2,
      "metadata": {},
      "outputs": [],
      "source": [
        "model = _get_xgb_model(path='../models/xgb_model.pkl')"
      ]
    },
    {
      "cell_type": "code",
      "execution_count": 3,
      "metadata": {},
      "outputs": [],
      "source": [
        "def _test_df_cols(df):\n",
        "    cols_in_last_year =  ['IDADE_Y-1', 'IAA_Y-1', 'IAN_Y-1', 'IDA_Y-1', 'IEG_Y-1', 'INDE_Y-1', 'IPP_Y-1', 'IPS_Y-1', 'IPV_Y-1']\n",
        "    cols_in_current_year =  ['IDADE_Y', 'IAA_Y', 'IAN_Y', 'IDA_Y', 'IEG_Y', 'INDE_Y', 'IPP_Y', 'IPS_Y', 'IPV_Y']\n",
        "    cols_identity = ['YEAR','NOME']\n",
        "    cols_diff = set(cols_in_current_year + cols_in_last_year + cols_identity).difference(df.columns)\n",
        "    return {\n",
        "          'cols_diff':cols_diff\n",
        "        , 'status_ok':True if len(cols_diff)<1 else False\n",
        "        , 'df':df\n",
        "    }"
      ]
    },
    {
      "cell_type": "code",
      "execution_count": 4,
      "metadata": {},
      "outputs": [],
      "source": [
        "def _load_new_data(file_path):\n",
        "    df = pd.read_excel(file_path)\n",
        "    cols_in =  ['IDADE', 'IAA', 'IAN', 'IDA', 'IEG', 'INDE', 'IPP', 'IPS', 'IPV']\n",
        "    if not(_test_df_cols(df)['status_ok']):\n",
        "        return _test_df_cols(df)\n",
        "    \n",
        "    # add dados da saresp em Y-1\n",
        "    df_saresp = _get_saresp()\n",
        "    df_saresp_m1 = _rename(df_saresp, posfixo='_Y-1')\n",
        "    for col in ['YEAR','IDADE_Y-1']:\n",
        "        df_saresp_m1[col] = df_saresp_m1[col].astype(int)\n",
        "        df[col] = df[col].astype(int)\n",
        "    df = df.merge(\n",
        "        df_saresp_m1\n",
        "        , on=['YEAR','IDADE_Y-1']\n",
        "        )\n",
        "    \n",
        "    # saresp no ano corrente\n",
        "    df_saresp_m = _rename(df_saresp, posfixo='_Y')\n",
        "    for col in ['YEAR','IDADE_Y']:\n",
        "        df_saresp_m[col] = df_saresp_m[col].astype(int)\n",
        "        df[col] = df[col].astype(int)\n",
        "    df = df.merge(\n",
        "        df_saresp_m\n",
        "        , on=['YEAR','IDADE_Y']\n",
        "        )\n",
        "    return {\n",
        "          'cols_diff':[]\n",
        "        , 'status_ok':True\n",
        "        , 'df':df\n",
        "    }\n"
      ]
    },
    {
      "cell_type": "code",
      "execution_count": 5,
      "metadata": {},
      "outputs": [],
      "source": [
        "response_new_data = _load_new_data('../data/processed/dado_simulacao.xlsx')\n",
        "if (response_new_data['status_ok']):\n",
        "    df_new_data = response_new_data['df']\n",
        "else:\n",
        "    print(response_new_data)"
      ]
    },
    {
      "cell_type": "markdown",
      "metadata": {},
      "source": [
        "explainer dashboard"
      ]
    },
    {
      "cell_type": "code",
      "execution_count": 6,
      "metadata": {},
      "outputs": [],
      "source": [
        "df_new_data.index = df_new_data['NOME']\n",
        "df_new_data = df_new_data.drop(columns={'NOME'})"
      ]
    },
    {
      "cell_type": "code",
      "execution_count": 21,
      "metadata": {},
      "outputs": [
        {
          "name": "stdout",
          "output_type": "stream",
          "text": [
            "splitting pipeline...\n",
            "Detected sklearn/imblearn Pipeline and succesfully extracted final output dataframe with column names and final model...\n",
            "Note: model_output=='probability'. For GradientBoostingClassifier shap values normally get calculated against X_background, but paramater X_background=None, so using X instead\n",
            "Generating self.shap_explainer = shap.TreeExplainer(model, X, model_output='probability', feature_perturbation='interventional')...\n",
            "Note: Shap interaction values will not be available. If shap values in probability space are not necessary you can pass model_output='logodds' to get shap values in logodds without the need for a background dataset and also working shap interaction values...\n"
          ]
        }
      ],
      "source": [
        "from explainerdashboard import ClassifierExplainer\n",
        "explainer = ClassifierExplainer(model, \n",
        "                                df_new_data, model.predict(df_new_data))\n",
        "explainer.pos_label = 1"
      ]
    },
    {
      "cell_type": "code",
      "execution_count": 8,
      "metadata": {},
      "outputs": [],
      "source": [
        "_aluno = 'ALUNO-1'"
      ]
    },
    {
      "cell_type": "code",
      "execution_count": 25,
      "metadata": {},
      "outputs": [
        {
          "name": "stdout",
          "output_type": "stream",
          "text": [
            "Calculating roc auc curves...\n",
            "Calculating prediction probabilities...\n"
          ]
        },
        {
          "data": {
            "application/vnd.plotly.v1+json": {
              "config": {
                "plotlyServerURL": "https://plot.ly"
              },
              "data": [
                {
                  "hoverinfo": "text",
                  "mode": "lines",
                  "name": "ROC AUC CURVE",
                  "text": [
                    "threshold: inf <br> FP: 0.00 <br> TP: 0.00",
                    "threshold: 0.96 <br> FP: 0.00 <br> TP: 0.05",
                    "threshold: 0.55 <br> FP: 0.00 <br> TP: 1.00",
                    "threshold: 0.03 <br> FP: 1.00 <br> TP: 1.00"
                  ],
                  "type": "scatter",
                  "x": [
                    0,
                    0,
                    0,
                    1
                  ],
                  "y": [
                    0,
                    0.047619047619047616,
                    1,
                    1
                  ]
                }
              ],
              "layout": {
                "annotations": [
                  {
                    "align": "right",
                    "showarrow": false,
                    "text": "roc-auc-score: 1.00",
                    "x": 0.6,
                    "xanchor": "left",
                    "y": 0.4,
                    "yanchor": "top"
                  },
                  {
                    "align": "right",
                    "showarrow": false,
                    "text": "cutoff: 0.50",
                    "x": 0.6,
                    "xanchor": "left",
                    "y": 0.35,
                    "yanchor": "top"
                  },
                  {
                    "align": "right",
                    "showarrow": false,
                    "text": "TPR: 1.00",
                    "x": 0.6,
                    "xanchor": "left",
                    "y": 0.3,
                    "yanchor": "top"
                  },
                  {
                    "align": "right",
                    "showarrow": false,
                    "text": "FPR: 0.00",
                    "x": 0.6,
                    "xanchor": "left",
                    "y": 0.24,
                    "yanchor": "top"
                  }
                ],
                "hovermode": "closest",
                "margin": {
                  "b": 40,
                  "l": 40,
                  "r": 40,
                  "t": 40
                },
                "plot_bgcolor": "#fff",
                "shapes": [
                  {
                    "line": {
                      "color": "darkslategray",
                      "dash": "dot",
                      "width": 4
                    },
                    "type": "line",
                    "x0": 0,
                    "x1": 1,
                    "xref": "x",
                    "y0": 0,
                    "y1": 1,
                    "yref": "y"
                  },
                  {
                    "line": {
                      "color": "lightslategray",
                      "width": 1
                    },
                    "type": "line",
                    "x0": 0,
                    "x1": 1,
                    "xref": "x",
                    "y0": 1,
                    "y1": 1,
                    "yref": "y"
                  },
                  {
                    "line": {
                      "color": "lightslategray",
                      "width": 1
                    },
                    "type": "line",
                    "x0": 0,
                    "x1": 0,
                    "xref": "x",
                    "y0": 0,
                    "y1": 1,
                    "yref": "y"
                  }
                ],
                "template": {
                  "data": {
                    "scatter": [
                      {
                        "type": "scatter"
                      }
                    ]
                  }
                },
                "title": {
                  "text": "ROC AUC CURVE"
                },
                "xaxis": {
                  "constrain": "domain",
                  "range": [
                    0,
                    1
                  ],
                  "title": {
                    "text": "False Positive Rate"
                  }
                },
                "yaxis": {
                  "constrain": "domain",
                  "range": [
                    0,
                    1
                  ],
                  "scaleanchor": "x",
                  "scaleratio": 1,
                  "title": {
                    "text": "True Positive Rate"
                  }
                }
              }
            }
          },
          "metadata": {},
          "output_type": "display_data"
        }
      ],
      "source": [
        "explainer.plot_roc_auc()"
      ]
    },
    {
      "cell_type": "code",
      "execution_count": 9,
      "metadata": {},
      "outputs": [
        {
          "data": {
            "application/vnd.plotly.v1+json": {
              "config": {
                "plotlyServerURL": "https://plot.ly"
              },
              "data": [
                {
                  "hole": 0.3,
                  "labels": [
                    "False",
                    "True*"
                  ],
                  "sort": false,
                  "type": "pie",
                  "values": [
                    0.081,
                    0.919
                  ]
                }
              ],
              "layout": {
                "autosize": false,
                "height": 250,
                "margin": {
                  "b": 20,
                  "l": 20,
                  "pad": 4,
                  "r": 20,
                  "t": 30
                },
                "showlegend": true,
                "template": {
                  "data": {
                    "scatter": [
                      {
                        "type": "scatter"
                      }
                    ]
                  }
                },
                "width": 250
              }
            }
          },
          "metadata": {},
          "output_type": "display_data"
        }
      ],
      "source": [
        "explainer.plot_prediction_result(_aluno)"
      ]
    },
    {
      "cell_type": "code",
      "execution_count": 10,
      "metadata": {},
      "outputs": [
        {
          "name": "stdout",
          "output_type": "stream",
          "text": [
            "Calculating shap values...\n",
            "Empty DataFrame\n",
            "Columns: [col, contribution, value]\n",
            "Index: []\n"
          ]
        },
        {
          "data": {
            "application/vnd.plotly.v1+json": {
              "config": {
                "plotlyServerURL": "https://plot.ly"
              },
              "data": [
                {
                  "hoverinfo": "skip",
                  "marker": {
                    "color": "rgba(1,1,1, 0.0)"
                  },
                  "name": "",
                  "type": "bar",
                  "x": [
                    "Population<br>average",
                    "num__IEG_Y",
                    "num__IPV_Y-1",
                    "num__PORC_PONTOS_LP_MEAN_Y-1",
                    "num__IAA_Y",
                    "num__INDE_Y-1",
                    "num__TOTAL_PONTOS_LP_STD_Y-1",
                    "num__IPP_Y-1",
                    "num__IDA_Y",
                    "num__IDA_Y-1",
                    "num__PORC_PONTOS_LP_STD_Y-1",
                    "num__INDE_Y",
                    "num__TOTAL_PONTO_MAT_MEAN_Y-1",
                    "num__IAA_Y-1",
                    "num__PORC_PONTOS_MAT_MEDIAN_Y-1",
                    "num__PORC_PONTOS_LP_MEDIAN_Y-1",
                    "num__PORC_PONTOS_LP_MEAN_Y",
                    "num__TOTAL_PONTO_MAT_STD_Y",
                    "num__PORC_PONTOS_LP_STD_Y",
                    "num__TOTAL_PONTOS_LP_MAX_Y-1",
                    "num__PORC_PONTOS_LP_MIN_Y",
                    "num__PORC_PONTOS_MAT_STD_Y",
                    "num__PORC_PONTOS_MAT_MIN_Y",
                    "num__TOTAL_PONTO_MAT_MIN_Y",
                    "num__TOTAL_PONTOS_LP_MIN_Y-1",
                    "num__TOTAL_PONTO_MAT_MEAN_Y",
                    "num__IPS_Y-1",
                    "num__TOTAL_PONTO_MAT_MEDIAN_Y-1",
                    "num__IEG_Y-1",
                    "num__TOTAL_PONTOS_LP_MIN_Y",
                    "num__TOTAL_PONTO_MAT_MIN_Y-1",
                    "num__PORC_PONTOS_MAT_STD_Y-1",
                    "num__IDADE_Y",
                    "num__TOTAL_PONTOS_LP_MEAN_Y-1",
                    "num__PORC_PONTOS_MAT_MEAN_Y",
                    "num__TOTAL_PONTO_MAT_STD_Y-1",
                    "num__PORC_PONTOS_MAT_MAX_Y-1",
                    "num__PORC_PONTOS_MAT_MIN_Y-1",
                    "num__PORC_PONTOS_LP_MIN_Y-1",
                    "num__IPS_Y",
                    "num__TOTAL_PONTOS_LP_STD_Y",
                    "num__TOTAL_PONTO_MAT_MAX_Y",
                    "num__TOTAL_PONTOS_LP_MEAN_Y",
                    "num__PORC_PONTOS_LP_MAX_Y-1",
                    "num__TOTAL_PONTOS_LP_MAX_Y",
                    "num__PORC_PONTOS_LP_MEDIAN_Y",
                    "num__TOTAL_PONTOS_LP_MEDIAN_Y-1",
                    "num__IPP_Y",
                    "num__PORC_PONTOS_MAT_MEDIAN_Y",
                    "num__IPV_Y",
                    "num__TOTAL_PONTOS_LP_MEDIAN_Y",
                    "num__PORC_PONTOS_MAT_MEAN_Y-1",
                    "num__PORC_PONTOS_LP_MAX_Y",
                    "num__PORC_PONTOS_MAT_MAX_Y",
                    "num__IAN_Y",
                    "num__TOTAL_PONTO_MAT_MEDIAN_Y",
                    "num__TOTAL_PONTO_MAT_MAX_Y-1",
                    "num__IAN_Y-1",
                    "num__IDADE_Y-1",
                    "Other features combined",
                    "Final Prediction"
                  ],
                  "y": [
                    0,
                    71.31,
                    80.65,
                    88.21,
                    83.42,
                    87.9,
                    90.87,
                    93.23,
                    91.86,
                    90.53,
                    89.21,
                    90.52,
                    91.79,
                    93.04,
                    94.09,
                    93.06,
                    92.03,
                    93.02,
                    92.1,
                    92.56,
                    93,
                    92.59,
                    92.19,
                    91.83,
                    92.19,
                    92.51,
                    92.26,
                    92.03,
                    91.81,
                    92.02,
                    91.82,
                    91.67,
                    91.82,
                    91.95,
                    91.83,
                    91.95,
                    91.84,
                    91.94,
                    91.85,
                    91.75,
                    91.66,
                    91.75,
                    91.81,
                    91.87,
                    91.92,
                    91.88,
                    91.92,
                    91.89,
                    91.91,
                    91.9,
                    91.89,
                    91.89,
                    91.89,
                    91.89,
                    91.89,
                    91.89,
                    91.89,
                    91.89,
                    91.89,
                    91.89,
                    0
                  ]
                },
                {
                  "hoverinfo": "text",
                  "marker": {
                    "color": [
                      "rgba(230, 230, 30, 1.0)",
                      "rgba(50, 200, 50, 1.0)",
                      "rgba(50, 200, 50, 1.0)",
                      "rgba(219, 64, 82, 0.7)",
                      "rgba(50, 200, 50, 1.0)",
                      "rgba(50, 200, 50, 1.0)",
                      "rgba(50, 200, 50, 1.0)",
                      "rgba(219, 64, 82, 0.7)",
                      "rgba(219, 64, 82, 0.7)",
                      "rgba(219, 64, 82, 0.7)",
                      "rgba(50, 200, 50, 1.0)",
                      "rgba(50, 200, 50, 1.0)",
                      "rgba(50, 200, 50, 1.0)",
                      "rgba(50, 200, 50, 1.0)",
                      "rgba(219, 64, 82, 0.7)",
                      "rgba(219, 64, 82, 0.7)",
                      "rgba(50, 200, 50, 1.0)",
                      "rgba(219, 64, 82, 0.7)",
                      "rgba(50, 200, 50, 1.0)",
                      "rgba(50, 200, 50, 1.0)",
                      "rgba(219, 64, 82, 0.7)",
                      "rgba(219, 64, 82, 0.7)",
                      "rgba(219, 64, 82, 0.7)",
                      "rgba(50, 200, 50, 1.0)",
                      "rgba(50, 200, 50, 1.0)",
                      "rgba(219, 64, 82, 0.7)",
                      "rgba(219, 64, 82, 0.7)",
                      "rgba(219, 64, 82, 0.7)",
                      "rgba(50, 200, 50, 1.0)",
                      "rgba(219, 64, 82, 0.7)",
                      "rgba(219, 64, 82, 0.7)",
                      "rgba(50, 200, 50, 1.0)",
                      "rgba(50, 200, 50, 1.0)",
                      "rgba(219, 64, 82, 0.7)",
                      "rgba(50, 200, 50, 1.0)",
                      "rgba(219, 64, 82, 0.7)",
                      "rgba(50, 200, 50, 1.0)",
                      "rgba(219, 64, 82, 0.7)",
                      "rgba(219, 64, 82, 0.7)",
                      "rgba(219, 64, 82, 0.7)",
                      "rgba(50, 200, 50, 1.0)",
                      "rgba(50, 200, 50, 1.0)",
                      "rgba(50, 200, 50, 1.0)",
                      "rgba(50, 200, 50, 1.0)",
                      "rgba(219, 64, 82, 0.7)",
                      "rgba(50, 200, 50, 1.0)",
                      "rgba(219, 64, 82, 0.7)",
                      "rgba(50, 200, 50, 1.0)",
                      "rgba(219, 64, 82, 0.7)",
                      "rgba(219, 64, 82, 0.7)",
                      "rgba(219, 64, 82, 0.7)",
                      "rgba(219, 64, 82, 0.7)",
                      "rgba(219, 64, 82, 0.7)",
                      "rgba(219, 64, 82, 0.7)",
                      "rgba(219, 64, 82, 0.7)",
                      "rgba(219, 64, 82, 0.7)",
                      "rgba(219, 64, 82, 0.7)",
                      "rgba(219, 64, 82, 0.7)",
                      "rgba(219, 64, 82, 0.7)",
                      "rgba(219, 64, 82, 0.7)",
                      "rgba(55, 128, 191, 0.7)"
                    ],
                    "line": {
                      "color": [
                        "rgba(190, 190, 30, 1.0)",
                        "rgba(40, 160, 50, 1.0)",
                        "rgba(40, 160, 50, 1.0)",
                        "rgba(219, 64, 82, 1.0)",
                        "rgba(40, 160, 50, 1.0)",
                        "rgba(40, 160, 50, 1.0)",
                        "rgba(40, 160, 50, 1.0)",
                        "rgba(219, 64, 82, 1.0)",
                        "rgba(219, 64, 82, 1.0)",
                        "rgba(219, 64, 82, 1.0)",
                        "rgba(40, 160, 50, 1.0)",
                        "rgba(40, 160, 50, 1.0)",
                        "rgba(40, 160, 50, 1.0)",
                        "rgba(40, 160, 50, 1.0)",
                        "rgba(219, 64, 82, 1.0)",
                        "rgba(219, 64, 82, 1.0)",
                        "rgba(40, 160, 50, 1.0)",
                        "rgba(219, 64, 82, 1.0)",
                        "rgba(40, 160, 50, 1.0)",
                        "rgba(40, 160, 50, 1.0)",
                        "rgba(219, 64, 82, 1.0)",
                        "rgba(219, 64, 82, 1.0)",
                        "rgba(219, 64, 82, 1.0)",
                        "rgba(40, 160, 50, 1.0)",
                        "rgba(40, 160, 50, 1.0)",
                        "rgba(219, 64, 82, 1.0)",
                        "rgba(219, 64, 82, 1.0)",
                        "rgba(219, 64, 82, 1.0)",
                        "rgba(40, 160, 50, 1.0)",
                        "rgba(219, 64, 82, 1.0)",
                        "rgba(219, 64, 82, 1.0)",
                        "rgba(40, 160, 50, 1.0)",
                        "rgba(40, 160, 50, 1.0)",
                        "rgba(219, 64, 82, 1.0)",
                        "rgba(40, 160, 50, 1.0)",
                        "rgba(219, 64, 82, 1.0)",
                        "rgba(40, 160, 50, 1.0)",
                        "rgba(219, 64, 82, 1.0)",
                        "rgba(219, 64, 82, 1.0)",
                        "rgba(219, 64, 82, 1.0)",
                        "rgba(40, 160, 50, 1.0)",
                        "rgba(40, 160, 50, 1.0)",
                        "rgba(40, 160, 50, 1.0)",
                        "rgba(40, 160, 50, 1.0)",
                        "rgba(219, 64, 82, 1.0)",
                        "rgba(40, 160, 50, 1.0)",
                        "rgba(219, 64, 82, 1.0)",
                        "rgba(40, 160, 50, 1.0)",
                        "rgba(219, 64, 82, 1.0)",
                        "rgba(219, 64, 82, 1.0)",
                        "rgba(219, 64, 82, 1.0)",
                        "rgba(219, 64, 82, 1.0)",
                        "rgba(219, 64, 82, 1.0)",
                        "rgba(219, 64, 82, 1.0)",
                        "rgba(219, 64, 82, 1.0)",
                        "rgba(219, 64, 82, 1.0)",
                        "rgba(219, 64, 82, 1.0)",
                        "rgba(219, 64, 82, 1.0)",
                        "rgba(219, 64, 82, 1.0)",
                        "rgba(219, 64, 82, 1.0)",
                        "rgba(55, 128, 191, 1.0)"
                      ],
                      "width": 2
                    }
                  },
                  "name": "contribution",
                  "text": [
                    "Population<br>average=<BR>+71.31 ",
                    "num__IEG_Y=0.63<BR>+9.34 ",
                    "num__IPV_Y-1=0.6538451479305416<BR>+7.56 ",
                    "num__PORC_PONTOS_LP_MEAN_Y-1=0.7458218125960061<BR>-4.79 ",
                    "num__IAA_Y=0.7499985000030001<BR>+4.49 ",
                    "num__INDE_Y-1=0.7348927305657574<BR>+2.96 ",
                    "num__TOTAL_PONTOS_LP_STD_Y-1=0.6126794243291591<BR>+2.36 ",
                    "num__IPP_Y-1=0.4583333333333333<BR>-1.37 ",
                    "num__IDA_Y=0.8949152542372882<BR>-1.33 ",
                    "num__IDA_Y-1=0.7000000000000001<BR>-1.32 ",
                    "num__PORC_PONTOS_LP_STD_Y-1=0.5040765991961073<BR>+1.31 ",
                    "num__INDE_Y=0.7106651040140638<BR>+1.27 ",
                    "num__TOTAL_PONTO_MAT_MEAN_Y-1=0.9349811615672643<BR>+1.25 ",
                    "num__IAA_Y-1=0.8500002999993999<BR>+1.05 ",
                    "num__PORC_PONTOS_MAT_MEDIAN_Y-1=0.7197696737044148<BR>-1.03 ",
                    "num__PORC_PONTOS_LP_MEDIAN_Y-1=0.7894736842105263<BR>-1.03 ",
                    "num__PORC_PONTOS_LP_MEAN_Y=0.3091397849462365<BR>+0.98 ",
                    "num__TOTAL_PONTO_MAT_STD_Y=0.497294659901734<BR>-0.92 ",
                    "num__PORC_PONTOS_LP_STD_Y=1.0<BR>+0.46 ",
                    "num__TOTAL_PONTOS_LP_MAX_Y-1=1.0<BR>+0.44 ",
                    "num__PORC_PONTOS_LP_MIN_Y=0.18122270742358082<BR>-0.41 ",
                    "num__PORC_PONTOS_MAT_STD_Y=0.4074007271026219<BR>-0.4 ",
                    "num__PORC_PONTOS_MAT_MIN_Y=0.5458515283842795<BR>-0.36 ",
                    "num__TOTAL_PONTO_MAT_MIN_Y=0.5454545454545454<BR>+0.36 ",
                    "num__TOTAL_PONTOS_LP_MIN_Y-1=0.09090909090909091<BR>+0.32 ",
                    "num__TOTAL_PONTO_MAT_MEAN_Y=0.606234040679757<BR>-0.26 ",
                    "num__IPS_Y-1=0.75<BR>-0.23 ",
                    "num__TOTAL_PONTO_MAT_MEDIAN_Y-1=0.9<BR>-0.22 ",
                    "num__IEG_Y-1=0.8571428571428571<BR>+0.21 ",
                    "num__TOTAL_PONTOS_LP_MIN_Y=0.18181818181818182<BR>-0.2 ",
                    "num__TOTAL_PONTO_MAT_MIN_Y-1=0.18181818181818182<BR>-0.15 ",
                    "num__PORC_PONTOS_MAT_STD_Y-1=0.306213977989377<BR>+0.15 ",
                    "num__IDADE_Y=0.36363636363636354<BR>+0.13 ",
                    "num__TOTAL_PONTOS_LP_MEAN_Y-1=1.0000000000000002<BR>-0.12 ",
                    "num__PORC_PONTOS_MAT_MEAN_Y=0.48360065233607197<BR>+0.12 ",
                    "num__TOTAL_PONTO_MAT_STD_Y-1=0.4135228372783121<BR>-0.1 ",
                    "num__PORC_PONTOS_MAT_MAX_Y-1=0.9999999999999999<BR>+0.1 ",
                    "num__PORC_PONTOS_MAT_MIN_Y-1=0.18122270742358082<BR>-0.09 ",
                    "num__PORC_PONTOS_LP_MIN_Y-1=0.09170305676855897<BR>-0.09 ",
                    "num__IPS_Y=0.7840909090909091<BR>-0.09 ",
                    "num__TOTAL_PONTOS_LP_STD_Y=1.0<BR>+0.08 ",
                    "num__TOTAL_PONTO_MAT_MAX_Y=0.8461538461538463<BR>+0.07 ",
                    "num__TOTAL_PONTOS_LP_MEAN_Y=0.4152859433458045<BR>+0.05 ",
                    "num__PORC_PONTOS_LP_MAX_Y-1=1.0<BR>+0.05 ",
                    "num__TOTAL_PONTOS_LP_MAX_Y=1.0<BR>-0.04 ",
                    "num__PORC_PONTOS_LP_MEDIAN_Y=0.33602421796165494<BR>+0.03 ",
                    "num__TOTAL_PONTOS_LP_MEDIAN_Y-1=1.0<BR>-0.03 ",
                    "num__IPP_Y=0.8191489361702128<BR>+0.03 ",
                    "num__PORC_PONTOS_MAT_MEDIAN_Y=0.33303730017761995<BR>-0.01 ",
                    "num__IPV_Y=0.81<BR>-0.01 ",
                    "num__TOTAL_PONTOS_LP_MEDIAN_Y=0.42105263157894735<BR>-0.0 ",
                    "num__PORC_PONTOS_MAT_MEAN_Y-1=0.7293724566788552<BR>0.0 ",
                    "num__PORC_PONTOS_LP_MAX_Y=1.0<BR>0.0 ",
                    "num__PORC_PONTOS_MAT_MAX_Y=0.8468634686346864<BR>0.0 ",
                    "num__IAN_Y=0.3333333333333333<BR>0.0 ",
                    "num__TOTAL_PONTO_MAT_MEDIAN_Y=0.40909090909090917<BR>0.0 ",
                    "num__TOTAL_PONTO_MAT_MAX_Y-1=1.0<BR>0.0 ",
                    "num__IAN_Y-1=1.0<BR>0.0 ",
                    "num__IDADE_Y-1=0.36363636363636365<BR>0.0 ",
                    "Other features combined=<BR>0.0 ",
                    "Final Prediction=<BR>+91.89 "
                  ],
                  "type": "bar",
                  "x": [
                    "Population<br>average",
                    "num__IEG_Y",
                    "num__IPV_Y-1",
                    "num__PORC_PONTOS_LP_MEAN_Y-1",
                    "num__IAA_Y",
                    "num__INDE_Y-1",
                    "num__TOTAL_PONTOS_LP_STD_Y-1",
                    "num__IPP_Y-1",
                    "num__IDA_Y",
                    "num__IDA_Y-1",
                    "num__PORC_PONTOS_LP_STD_Y-1",
                    "num__INDE_Y",
                    "num__TOTAL_PONTO_MAT_MEAN_Y-1",
                    "num__IAA_Y-1",
                    "num__PORC_PONTOS_MAT_MEDIAN_Y-1",
                    "num__PORC_PONTOS_LP_MEDIAN_Y-1",
                    "num__PORC_PONTOS_LP_MEAN_Y",
                    "num__TOTAL_PONTO_MAT_STD_Y",
                    "num__PORC_PONTOS_LP_STD_Y",
                    "num__TOTAL_PONTOS_LP_MAX_Y-1",
                    "num__PORC_PONTOS_LP_MIN_Y",
                    "num__PORC_PONTOS_MAT_STD_Y",
                    "num__PORC_PONTOS_MAT_MIN_Y",
                    "num__TOTAL_PONTO_MAT_MIN_Y",
                    "num__TOTAL_PONTOS_LP_MIN_Y-1",
                    "num__TOTAL_PONTO_MAT_MEAN_Y",
                    "num__IPS_Y-1",
                    "num__TOTAL_PONTO_MAT_MEDIAN_Y-1",
                    "num__IEG_Y-1",
                    "num__TOTAL_PONTOS_LP_MIN_Y",
                    "num__TOTAL_PONTO_MAT_MIN_Y-1",
                    "num__PORC_PONTOS_MAT_STD_Y-1",
                    "num__IDADE_Y",
                    "num__TOTAL_PONTOS_LP_MEAN_Y-1",
                    "num__PORC_PONTOS_MAT_MEAN_Y",
                    "num__TOTAL_PONTO_MAT_STD_Y-1",
                    "num__PORC_PONTOS_MAT_MAX_Y-1",
                    "num__PORC_PONTOS_MAT_MIN_Y-1",
                    "num__PORC_PONTOS_LP_MIN_Y-1",
                    "num__IPS_Y",
                    "num__TOTAL_PONTOS_LP_STD_Y",
                    "num__TOTAL_PONTO_MAT_MAX_Y",
                    "num__TOTAL_PONTOS_LP_MEAN_Y",
                    "num__PORC_PONTOS_LP_MAX_Y-1",
                    "num__TOTAL_PONTOS_LP_MAX_Y",
                    "num__PORC_PONTOS_LP_MEDIAN_Y",
                    "num__TOTAL_PONTOS_LP_MEDIAN_Y-1",
                    "num__IPP_Y",
                    "num__PORC_PONTOS_MAT_MEDIAN_Y",
                    "num__IPV_Y",
                    "num__TOTAL_PONTOS_LP_MEDIAN_Y",
                    "num__PORC_PONTOS_MAT_MEAN_Y-1",
                    "num__PORC_PONTOS_LP_MAX_Y",
                    "num__PORC_PONTOS_MAT_MAX_Y",
                    "num__IAN_Y",
                    "num__TOTAL_PONTO_MAT_MEDIAN_Y",
                    "num__TOTAL_PONTO_MAT_MAX_Y-1",
                    "num__IAN_Y-1",
                    "num__IDADE_Y-1",
                    "Other features combined",
                    "Final Prediction"
                  ],
                  "y": [
                    71.31,
                    9.34,
                    7.56,
                    -4.79,
                    4.49,
                    2.96,
                    2.36,
                    -1.37,
                    -1.33,
                    -1.32,
                    1.31,
                    1.27,
                    1.25,
                    1.05,
                    -1.03,
                    -1.03,
                    0.98,
                    -0.92,
                    0.46,
                    0.44,
                    -0.41,
                    -0.4,
                    -0.36,
                    0.36,
                    0.32,
                    -0.26,
                    -0.23,
                    -0.22,
                    0.21,
                    -0.2,
                    -0.15,
                    0.15,
                    0.13,
                    -0.12,
                    0.12,
                    -0.1,
                    0.1,
                    -0.09,
                    -0.09,
                    -0.09,
                    0.08,
                    0.07,
                    0.05,
                    0.05,
                    -0.04,
                    0.03,
                    -0.03,
                    0.03,
                    -0.01,
                    -0.01,
                    0,
                    0,
                    0,
                    0,
                    0,
                    0,
                    0,
                    0,
                    0,
                    0,
                    91.89
                  ]
                }
              ],
              "layout": {
                "barmode": "stack",
                "height": 600,
                "margin": {
                  "b": 186,
                  "l": 40,
                  "pad": 4,
                  "r": 40,
                  "t": 40
                },
                "plot_bgcolor": "#fff",
                "showlegend": false,
                "template": {
                  "data": {
                    "scatter": [
                      {
                        "type": "scatter"
                      }
                    ]
                  }
                },
                "title": {
                  "text": "Contribution to prediction probability = 91.89%",
                  "x": 0.5
                },
                "yaxis": {
                  "title": {
                    "text": "Predicted %"
                  }
                }
              }
            }
          },
          "metadata": {},
          "output_type": "display_data"
        }
      ],
      "source": [
        "explainer.plot_contributions(_aluno)"
      ]
    },
    {
      "cell_type": "code",
      "execution_count": 11,
      "metadata": {},
      "outputs": [
        {
          "data": {
            "text/plain": [
              "Index(['YEAR', 'IDADE_Y-1', 'IAA_Y-1', 'IAN_Y-1', 'IDA_Y-1', 'IEG_Y-1',\n",
              "       'INDE_Y-1', 'IPP_Y-1', 'IPS_Y-1', 'IPV_Y-1', 'IDADE_Y', 'IAA_Y',\n",
              "       'IAN_Y', 'IDA_Y', 'IEG_Y', 'INDE_Y', 'IPP_Y', 'IPS_Y', 'IPV_Y',\n",
              "       'TOTAL_PONTOS_LP_MEAN_Y-1', 'TOTAL_PONTOS_LP_MEDIAN_Y-1',\n",
              "       'TOTAL_PONTOS_LP_STD_Y-1', 'TOTAL_PONTOS_LP_MIN_Y-1',\n",
              "       'TOTAL_PONTOS_LP_MAX_Y-1', 'PORC_PONTOS_LP_MEAN_Y-1',\n",
              "       'PORC_PONTOS_LP_MEDIAN_Y-1', 'PORC_PONTOS_LP_STD_Y-1',\n",
              "       'PORC_PONTOS_LP_MIN_Y-1', 'PORC_PONTOS_LP_MAX_Y-1',\n",
              "       'TOTAL_PONTO_MAT_MEAN_Y-1', 'TOTAL_PONTO_MAT_MEDIAN_Y-1',\n",
              "       'TOTAL_PONTO_MAT_STD_Y-1', 'TOTAL_PONTO_MAT_MIN_Y-1',\n",
              "       'TOTAL_PONTO_MAT_MAX_Y-1', 'PORC_PONTOS_MAT_MEAN_Y-1',\n",
              "       'PORC_PONTOS_MAT_MEDIAN_Y-1', 'PORC_PONTOS_MAT_STD_Y-1',\n",
              "       'PORC_PONTOS_MAT_MIN_Y-1', 'PORC_PONTOS_MAT_MAX_Y-1',\n",
              "       'TOTAL_PONTOS_LP_MEAN_Y', 'TOTAL_PONTOS_LP_MEDIAN_Y',\n",
              "       'TOTAL_PONTOS_LP_STD_Y', 'TOTAL_PONTOS_LP_MIN_Y',\n",
              "       'TOTAL_PONTOS_LP_MAX_Y', 'PORC_PONTOS_LP_MEAN_Y',\n",
              "       'PORC_PONTOS_LP_MEDIAN_Y', 'PORC_PONTOS_LP_STD_Y',\n",
              "       'PORC_PONTOS_LP_MIN_Y', 'PORC_PONTOS_LP_MAX_Y',\n",
              "       'TOTAL_PONTO_MAT_MEAN_Y', 'TOTAL_PONTO_MAT_MEDIAN_Y',\n",
              "       'TOTAL_PONTO_MAT_STD_Y', 'TOTAL_PONTO_MAT_MIN_Y',\n",
              "       'TOTAL_PONTO_MAT_MAX_Y', 'PORC_PONTOS_MAT_MEAN_Y',\n",
              "       'PORC_PONTOS_MAT_MEDIAN_Y', 'PORC_PONTOS_MAT_STD_Y',\n",
              "       'PORC_PONTOS_MAT_MIN_Y', 'PORC_PONTOS_MAT_MAX_Y'],\n",
              "      dtype='object')"
            ]
          },
          "execution_count": 11,
          "metadata": {},
          "output_type": "execute_result"
        }
      ],
      "source": [
        "df_new_data.columns"
      ]
    },
    {
      "cell_type": "code",
      "execution_count": 12,
      "metadata": {},
      "outputs": [
        {
          "data": {
            "application/vnd.plotly.v1+json": {
              "config": {
                "plotlyServerURL": "https://plot.ly"
              },
              "data": [
                {
                  "hoverinfo": "text",
                  "marker": {
                    "color": [
                      0.36363636363636354,
                      0.4545454545454546,
                      0.2727272727272727,
                      0.6363636363636365,
                      0.09090909090909094,
                      0.5454545454545454,
                      0.6363636363636365,
                      0.5454545454545454,
                      0.4545454545454546,
                      1,
                      0.6363636363636365,
                      0.09090909090909094,
                      0.09090909090909094,
                      0.9090909090909092,
                      0.8181818181818181,
                      0.9090909090909092,
                      0.4545454545454546,
                      0.2727272727272727,
                      0.09090909090909094,
                      0.6363636363636365,
                      0.4545454545454546,
                      0.2727272727272727,
                      0.2727272727272727,
                      0.2727272727272727,
                      0.2727272727272727,
                      0.36363636363636354,
                      0.6363636363636365,
                      0.5454545454545454
                    ],
                    "colorbar": {
                      "title": {
                        "text": "num__IDADE_Y"
                      }
                    },
                    "colorscale": [
                      [
                        0,
                        "rgb(0,0,255)"
                      ],
                      [
                        1,
                        "rgb(255,0,0)"
                      ]
                    ],
                    "opacity": 0.6,
                    "showscale": true,
                    "size": 7
                  },
                  "mode": "markers",
                  "text": [
                    "NOME=ALUNO-1<br>num__IAA_Y-1=0.8500002999993999<br>num__IDADE_Y=0.36363636363636354<br>SHAP=0.011",
                    "NOME=ALUNO-3<br>num__IAA_Y-1=0.7916654166691666<br>num__IDADE_Y=0.4545454545454546<br>SHAP=0.007",
                    "NOME=ALUNO-5<br>num__IAA_Y-1=0.7500004999989999<br>num__IDADE_Y=0.2727272727272727<br>SHAP=0.000",
                    "NOME=ALUNO-8<br>num__IAA_Y-1=0.8333323333353332<br>num__IDADE_Y=0.6363636363636365<br>SHAP=-0.002",
                    "NOME=ALUNO-11<br>num__IAA_Y-1=0.9000001999995998<br>num__IDADE_Y=0.09090909090909094<br>SHAP=-0.014",
                    "NOME=ALUNO-17<br>num__IAA_Y-1=0.9500000999997998<br>num__IDADE_Y=0.5454545454545454<br>SHAP=0.011",
                    "NOME=ALUNO-18<br>num__IAA_Y-1=0.9583330833338332<br>num__IDADE_Y=0.6363636363636365<br>SHAP=-0.007",
                    "NOME=ALUNO-28<br>num__IAA_Y-1=0.9583330833338332<br>num__IDADE_Y=0.5454545454545454<br>SHAP=0.021",
                    "NOME=ALUNO-34<br>num__IAA_Y-1=0.8500002999993999<br>num__IDADE_Y=0.4545454545454546<br>SHAP=0.008",
                    "NOME=ALUNO-35<br>num__IAA_Y-1=0.8749992500014998<br>num__IDADE_Y=1.0<br>SHAP=-0.002",
                    "NOME=ALUNO-36<br>num__IAA_Y-1=0.9583330833338332<br>num__IDADE_Y=0.6363636363636365<br>SHAP=-0.000",
                    "NOME=ALUNO-46<br>num__IAA_Y-1=0.9500000999997998<br>num__IDADE_Y=0.09090909090909094<br>SHAP=-0.009",
                    "NOME=ALUNO-51<br>num__IAA_Y-1=0.9500000999997998<br>num__IDADE_Y=0.09090909090909094<br>SHAP=-0.007",
                    "NOME=ALUNO-55<br>num__IAA_Y-1=0.0<br>num__IDADE_Y=0.9090909090909092<br>SHAP=-0.014",
                    "NOME=ALUNO-57<br>num__IAA_Y-1=0.8333323333353332<br>num__IDADE_Y=0.8181818181818181<br>SHAP=-0.003",
                    "NOME=ALUNO-60<br>num__IAA_Y-1=0.7499985000029998<br>num__IDADE_Y=0.9090909090909092<br>SHAP=-0.001",
                    "NOME=ALUNO-62<br>num__IAA_Y-1=0.7916664166671655<br>num__IDADE_Y=0.4545454545454546<br>SHAP=0.011",
                    "NOME=ALUNO-1296<br>num__IAA_Y-1=0.8500002999993999<br>num__IDADE_Y=0.2727272727272727<br>SHAP=0.016",
                    "NOME=ALUNO-1298<br>num__IAA_Y-1=0.9500000999997998<br>num__IDADE_Y=0.09090909090909094<br>SHAP=-0.006",
                    "NOME=ALUNO-1299<br>num__IAA_Y-1=0.7916654166691666<br>num__IDADE_Y=0.6363636363636365<br>SHAP=-0.000",
                    "NOME=ALUNO-1315<br>num__IAA_Y-1=0.8000003999991998<br>num__IDADE_Y=0.4545454545454546<br>SHAP=0.011",
                    "NOME=ALUNO-1319<br>num__IAA_Y-1=0.6416667166665666<br>num__IDADE_Y=0.2727272727272727<br>SHAP=0.015",
                    "NOME=ALUNO-1323<br>num__IAA_Y-1=0.9000001999995998<br>num__IDADE_Y=0.2727272727272727<br>SHAP=-0.012",
                    "NOME=ALUNO-1324<br>num__IAA_Y-1=0.9000001999995998<br>num__IDADE_Y=0.2727272727272727<br>SHAP=-0.023",
                    "NOME=ALUNO-1338<br>num__IAA_Y-1=0.9500000999997998<br>num__IDADE_Y=0.2727272727272727<br>SHAP=0.002",
                    "NOME=ALUNO-1343<br>num__IAA_Y-1=0.8000003999991998<br>num__IDADE_Y=0.36363636363636354<br>SHAP=0.008",
                    "NOME=ALUNO-1344<br>num__IAA_Y-1=0.8000003999991998<br>num__IDADE_Y=0.6363636363636365<br>SHAP=0.004",
                    "NOME=ALUNO-1348<br>num__IAA_Y-1=0.7916654166691666<br>num__IDADE_Y=0.5454545454545454<br>SHAP=-0.024"
                  ],
                  "type": "scattergl",
                  "x": [
                    0.8500002999993999,
                    0.7916654166691666,
                    0.7500004999989999,
                    0.8333323333353332,
                    0.9000001999995998,
                    0.9500000999997998,
                    0.9583330833338332,
                    0.9583330833338332,
                    0.8500002999993999,
                    0.8749992500014998,
                    0.9583330833338332,
                    0.9500000999997998,
                    0.9500000999997998,
                    0,
                    0.8333323333353332,
                    0.7499985000029998,
                    0.7916664166671655,
                    0.8500002999993999,
                    0.9500000999997998,
                    0.7916654166691666,
                    0.8000003999991998,
                    0.6416667166665666,
                    0.9000001999995998,
                    0.9000001999995998,
                    0.9500000999997998,
                    0.8000003999991998,
                    0.8000003999991998,
                    0.7916654166691666
                  ],
                  "y": [
                    0.010530230193894275,
                    0.006617346816712818,
                    0.00023397082206601645,
                    -0.0022586949425913863,
                    -0.01444649930824796,
                    0.010877926318185457,
                    -0.006737623553121006,
                    0.021455708157020952,
                    0.008113463824880984,
                    -0.0018584742080291659,
                    -0.0002831522295760361,
                    -0.008825016340910237,
                    -0.007367043043820688,
                    -0.01375442491225751,
                    -0.0029633785374443325,
                    -0.0007613612427509491,
                    0.011072682633492372,
                    0.016073561640640742,
                    -0.006281574066150694,
                    -0.00006741617766384604,
                    0.010861330073256884,
                    0.015426477971684534,
                    -0.012047146427560216,
                    -0.023479429235834775,
                    0.002021394408851265,
                    0.008310906634825813,
                    0.0037446510994875934,
                    -0.024208416369040912
                  ]
                },
                {
                  "hoverinfo": "text",
                  "marker": {
                    "color": "LightSkyBlue",
                    "line": {
                      "color": "MediumPurple",
                      "width": 4
                    },
                    "opacity": 0.5,
                    "size": 25
                  },
                  "mode": "markers",
                  "name": "NOME ALUNO-1",
                  "showlegend": false,
                  "text": "NOME ALUNO-1",
                  "type": "scattergl",
                  "x": [
                    0.8500002999993999
                  ],
                  "y": [
                    0.010530230193894275
                  ]
                }
              ],
              "layout": {
                "hovermode": "closest",
                "margin": {
                  "b": 40,
                  "l": 40,
                  "r": 40,
                  "t": 40
                },
                "paper_bgcolor": "#fff",
                "plot_bgcolor": "#fff",
                "showlegend": false,
                "template": {
                  "data": {
                    "scatter": [
                      {
                        "type": "scatter"
                      }
                    ]
                  }
                },
                "title": {
                  "text": "Dependence plot for num__IAA_Y-1"
                },
                "xaxis": {
                  "title": {
                    "text": "num__IAA_Y-1"
                  }
                },
                "yaxis": {
                  "title": {
                    "text": "SHAP value"
                  }
                }
              }
            }
          },
          "metadata": {},
          "output_type": "display_data"
        }
      ],
      "source": [
        "explainer.plot_dependence(col='num__IAA_Y-1', color_col='num__IDADE_Y', highlight_index=_aluno)"
      ]
    },
    {
      "cell_type": "code",
      "execution_count": 15,
      "metadata": {},
      "outputs": [
        {
          "name": "stderr",
          "output_type": "stream",
          "text": [
            "d:\\Cursos\\FIAP_pós\\gp27_techchallenge_5\\.venv\\lib\\site-packages\\sklearn\\base.py:486: UserWarning:\n",
            "\n",
            "X has feature names, but GradientBoostingClassifier was fitted without feature names\n",
            "\n",
            "d:\\Cursos\\FIAP_pós\\gp27_techchallenge_5\\.venv\\lib\\site-packages\\sklearn\\base.py:486: UserWarning:\n",
            "\n",
            "X has feature names, but GradientBoostingClassifier was fitted without feature names\n",
            "\n",
            "d:\\Cursos\\FIAP_pós\\gp27_techchallenge_5\\.venv\\lib\\site-packages\\sklearn\\base.py:486: UserWarning:\n",
            "\n",
            "X has feature names, but GradientBoostingClassifier was fitted without feature names\n",
            "\n",
            "d:\\Cursos\\FIAP_pós\\gp27_techchallenge_5\\.venv\\lib\\site-packages\\sklearn\\base.py:486: UserWarning:\n",
            "\n",
            "X has feature names, but GradientBoostingClassifier was fitted without feature names\n",
            "\n",
            "d:\\Cursos\\FIAP_pós\\gp27_techchallenge_5\\.venv\\lib\\site-packages\\sklearn\\base.py:486: UserWarning:\n",
            "\n",
            "X has feature names, but GradientBoostingClassifier was fitted without feature names\n",
            "\n",
            "d:\\Cursos\\FIAP_pós\\gp27_techchallenge_5\\.venv\\lib\\site-packages\\sklearn\\base.py:486: UserWarning:\n",
            "\n",
            "X has feature names, but GradientBoostingClassifier was fitted without feature names\n",
            "\n",
            "d:\\Cursos\\FIAP_pós\\gp27_techchallenge_5\\.venv\\lib\\site-packages\\sklearn\\base.py:486: UserWarning:\n",
            "\n",
            "X has feature names, but GradientBoostingClassifier was fitted without feature names\n",
            "\n",
            "d:\\Cursos\\FIAP_pós\\gp27_techchallenge_5\\.venv\\lib\\site-packages\\sklearn\\base.py:486: UserWarning:\n",
            "\n",
            "X has feature names, but GradientBoostingClassifier was fitted without feature names\n",
            "\n",
            "d:\\Cursos\\FIAP_pós\\gp27_techchallenge_5\\.venv\\lib\\site-packages\\sklearn\\base.py:486: UserWarning:\n",
            "\n",
            "X has feature names, but GradientBoostingClassifier was fitted without feature names\n",
            "\n",
            "d:\\Cursos\\FIAP_pós\\gp27_techchallenge_5\\.venv\\lib\\site-packages\\sklearn\\base.py:486: UserWarning:\n",
            "\n",
            "X has feature names, but GradientBoostingClassifier was fitted without feature names\n",
            "\n",
            "d:\\Cursos\\FIAP_pós\\gp27_techchallenge_5\\.venv\\lib\\site-packages\\sklearn\\base.py:486: UserWarning:\n",
            "\n",
            "X has feature names, but GradientBoostingClassifier was fitted without feature names\n",
            "\n",
            "d:\\Cursos\\FIAP_pós\\gp27_techchallenge_5\\.venv\\lib\\site-packages\\sklearn\\base.py:486: UserWarning:\n",
            "\n",
            "X has feature names, but GradientBoostingClassifier was fitted without feature names\n",
            "\n"
          ]
        },
        {
          "data": {
            "application/vnd.plotly.v1+json": {
              "config": {
                "plotlyServerURL": "https://plot.ly"
              },
              "data": [
                {
                  "line": {
                    "color": "grey",
                    "width": 4
                  },
                  "mode": "lines+markers",
                  "name": "average prediction <br>for different values of <br>num__IAA_Y-1",
                  "type": "scatter",
                  "x": [
                    0,
                    0.7500004999989999,
                    0.7916654166691666,
                    0.8000003999991998,
                    0.8333323333353332,
                    0.8500002999993999,
                    0.9000001999995998,
                    0.9500000999997998,
                    0.9583330833338332
                  ],
                  "y": [
                    70.15,
                    73.28,
                    73.28,
                    73.28,
                    73.28,
                    73.61,
                    71.77,
                    73.08,
                    73.08
                  ]
                },
                {
                  "line": {
                    "color": "blue",
                    "width": 4
                  },
                  "mode": "lines+markers",
                  "name": "prediction for index 0 <br>for different values of <br>num__IAA_Y-1",
                  "type": "scatter",
                  "x": [
                    0,
                    0.7500004999989999,
                    0.7916654166691666,
                    0.8000003999991998,
                    0.8333323333353332,
                    0.8500002999993999,
                    0.9000001999995998,
                    0.9500000999997998,
                    0.9583330833338332
                  ],
                  "y": [
                    85.27,
                    91.89,
                    91.89,
                    91.89,
                    91.89,
                    91.89,
                    89.62,
                    89.62,
                    89.62
                  ]
                },
                {
                  "hoverinfo": "skip",
                  "line": {
                    "color": "grey"
                  },
                  "mode": "lines",
                  "opacity": 0.1,
                  "showlegend": false,
                  "type": "scatter",
                  "x": [
                    0,
                    0.7500004999989999,
                    0.7916654166691666,
                    0.8000003999991998,
                    0.8333323333353332,
                    0.8500002999993999,
                    0.9000001999995998,
                    0.9500000999997998,
                    0.9583330833338332
                  ],
                  "y": [
                    92.39247368368804,
                    94.86841547661105,
                    94.86841547661105,
                    94.86841547661105,
                    94.86841547661105,
                    94.86841547661105,
                    93.18649393394166,
                    95.23203754500081,
                    95.23203754500081
                  ]
                },
                {
                  "hoverinfo": "skip",
                  "line": {
                    "color": "grey"
                  },
                  "mode": "lines",
                  "opacity": 0.1,
                  "showlegend": false,
                  "type": "scatter",
                  "x": [
                    0,
                    0.7500004999989999,
                    0.7916654166691666,
                    0.8000003999991998,
                    0.8333323333353332,
                    0.8500002999993999,
                    0.9000001999995998,
                    0.9500000999997998,
                    0.9583330833338332
                  ],
                  "y": [
                    81.28919918532516,
                    89.26259866035056,
                    89.26259866035056,
                    89.26259866035056,
                    89.26259866035056,
                    89.26259866035056,
                    87.52659271175312,
                    87.52659271175312,
                    87.52659271175312
                  ]
                },
                {
                  "hoverinfo": "skip",
                  "line": {
                    "color": "grey"
                  },
                  "mode": "lines",
                  "opacity": 0.1,
                  "showlegend": false,
                  "type": "scatter",
                  "x": [
                    0,
                    0.7500004999989999,
                    0.7916654166691666,
                    0.8000003999991998,
                    0.8333323333353332,
                    0.8500002999993999,
                    0.9000001999995998,
                    0.9500000999997998,
                    0.9583330833338332
                  ],
                  "y": [
                    77.02170786679567,
                    77.4799537736816,
                    77.4799537736816,
                    77.4799537736816,
                    77.4799537736816,
                    77.4799537736816,
                    71.9029853351585,
                    71.9029853351585,
                    71.9029853351585
                  ]
                },
                {
                  "hoverinfo": "skip",
                  "line": {
                    "color": "grey"
                  },
                  "mode": "lines",
                  "opacity": 0.1,
                  "showlegend": false,
                  "type": "scatter",
                  "x": [
                    0,
                    0.7500004999989999,
                    0.7916654166691666,
                    0.8000003999991998,
                    0.8333323333353332,
                    0.8500002999993999,
                    0.9000001999995998,
                    0.9500000999997998,
                    0.9583330833338332
                  ],
                  "y": [
                    38.242894272307545,
                    38.242894272307545,
                    38.242894272307545,
                    38.242894272307545,
                    38.242894272307545,
                    38.242894272307545,
                    38.5600891962682,
                    38.5600891962682,
                    38.5600891962682
                  ]
                },
                {
                  "hoverinfo": "skip",
                  "line": {
                    "color": "grey"
                  },
                  "mode": "lines",
                  "opacity": 0.1,
                  "showlegend": false,
                  "type": "scatter",
                  "x": [
                    0,
                    0.7500004999989999,
                    0.7916654166691666,
                    0.8000003999991998,
                    0.8333323333353332,
                    0.8500002999993999,
                    0.9000001999995998,
                    0.9500000999997998,
                    0.9583330833338332
                  ],
                  "y": [
                    19.516285277025,
                    25.33591675129187,
                    25.33591675129187,
                    25.33591675129187,
                    25.33591675129187,
                    31.28675332707068,
                    25.19710300850954,
                    41.488981275052225,
                    41.488981275052225
                  ]
                },
                {
                  "hoverinfo": "skip",
                  "line": {
                    "color": "grey"
                  },
                  "mode": "lines",
                  "opacity": 0.1,
                  "showlegend": false,
                  "type": "scatter",
                  "x": [
                    0,
                    0.7500004999989999,
                    0.7916654166691666,
                    0.8000003999991998,
                    0.8333323333353332,
                    0.8500002999993999,
                    0.9000001999995998,
                    0.9500000999997998,
                    0.9583330833338332
                  ],
                  "y": [
                    56.779296784278,
                    57.418048011951186,
                    57.418048011951186,
                    57.418048011951186,
                    57.418048011951186,
                    57.418048011951186,
                    55.27654257156659,
                    55.27654257156659,
                    55.27654257156659
                  ]
                },
                {
                  "hoverinfo": "skip",
                  "line": {
                    "color": "grey"
                  },
                  "mode": "lines",
                  "opacity": 0.1,
                  "showlegend": false,
                  "type": "scatter",
                  "x": [
                    0,
                    0.7500004999989999,
                    0.7916654166691666,
                    0.8000003999991998,
                    0.8333323333353332,
                    0.8500002999993999,
                    0.9000001999995998,
                    0.9500000999997998,
                    0.9583330833338332
                  ],
                  "y": [
                    21.05635993600074,
                    31.006669240550995,
                    31.006669240550995,
                    31.006669240550995,
                    31.006669240550995,
                    31.006669240550995,
                    33.30053598795455,
                    33.30053598795455,
                    33.30053598795455
                  ]
                },
                {
                  "hoverinfo": "skip",
                  "line": {
                    "color": "grey"
                  },
                  "mode": "lines",
                  "opacity": 0.1,
                  "showlegend": false,
                  "type": "scatter",
                  "x": [
                    0,
                    0.7500004999989999,
                    0.7916654166691666,
                    0.8000003999991998,
                    0.8333323333353332,
                    0.8500002999993999,
                    0.9000001999995998,
                    0.9500000999997998,
                    0.9583330833338332
                  ],
                  "y": [
                    44.43600475772777,
                    46.30658285188885,
                    46.30658285188885,
                    46.30658285188885,
                    46.30658285188885,
                    46.30658285188885,
                    45.053967978616406,
                    45.053967978616406,
                    45.053967978616406
                  ]
                },
                {
                  "hoverinfo": "skip",
                  "line": {
                    "color": "grey"
                  },
                  "mode": "lines",
                  "opacity": 0.1,
                  "showlegend": false,
                  "type": "scatter",
                  "x": [
                    0,
                    0.7500004999989999,
                    0.7916654166691666,
                    0.8000003999991998,
                    0.8333323333353332,
                    0.8500002999993999,
                    0.9000001999995998,
                    0.9500000999997998,
                    0.9583330833338332
                  ],
                  "y": [
                    82.91023420476203,
                    83.95330443517616,
                    83.95330443517616,
                    83.95330443517616,
                    83.95330443517616,
                    83.95330443517616,
                    82.52443727762628,
                    82.52443727762628,
                    82.52443727762628
                  ]
                },
                {
                  "hoverinfo": "skip",
                  "line": {
                    "color": "grey"
                  },
                  "mode": "lines",
                  "opacity": 0.1,
                  "showlegend": false,
                  "type": "scatter",
                  "x": [
                    0,
                    0.7500004999989999,
                    0.7916654166691666,
                    0.8000003999991998,
                    0.8333323333353332,
                    0.8500002999993999,
                    0.9000001999995998,
                    0.9500000999997998,
                    0.9583330833338332
                  ],
                  "y": [
                    83.16002623260343,
                    82.08396889666987,
                    82.08396889666987,
                    82.08396889666987,
                    82.08396889666987,
                    82.08396889666987,
                    82.28032258246314,
                    82.28032258246314,
                    82.28032258246314
                  ]
                },
                {
                  "hoverinfo": "skip",
                  "line": {
                    "color": "grey"
                  },
                  "mode": "lines",
                  "opacity": 0.1,
                  "showlegend": false,
                  "type": "scatter",
                  "x": [
                    0,
                    0.7500004999989999,
                    0.7916654166691666,
                    0.8000003999991998,
                    0.8333323333353332,
                    0.8500002999993999,
                    0.9000001999995998,
                    0.9500000999997998,
                    0.9583330833338332
                  ],
                  "y": [
                    85.26519397900856,
                    91.89169243751071,
                    91.89169243751071,
                    91.89169243751071,
                    91.89169243751071,
                    91.89169243751071,
                    89.6204765951209,
                    89.6204765951209,
                    89.6204765951209
                  ]
                },
                {
                  "hoverinfo": "skip",
                  "line": {
                    "color": "grey"
                  },
                  "mode": "lines",
                  "opacity": 0.1,
                  "showlegend": false,
                  "type": "scatter",
                  "x": [
                    0,
                    0.7500004999989999,
                    0.7916654166691666,
                    0.8000003999991998,
                    0.8333323333353332,
                    0.8500002999993999,
                    0.9000001999995998,
                    0.9500000999997998,
                    0.9583330833338332
                  ],
                  "y": [
                    96.41855827288686,
                    96.41855827288686,
                    96.41855827288686,
                    96.41855827288686,
                    96.41855827288686,
                    96.41855827288686,
                    95.65632052768808,
                    96.98437088548297,
                    96.98437088548297
                  ]
                },
                {
                  "hoverinfo": "skip",
                  "line": {
                    "color": "grey"
                  },
                  "mode": "lines",
                  "opacity": 0.1,
                  "showlegend": false,
                  "type": "scatter",
                  "x": [
                    0,
                    0.7500004999989999,
                    0.7916654166691666,
                    0.8000003999991998,
                    0.8333323333353332,
                    0.8500002999993999,
                    0.9000001999995998,
                    0.9500000999997998,
                    0.9583330833338332
                  ],
                  "y": [
                    87.74684387145388,
                    88.0244588061564,
                    88.0244588061564,
                    88.0244588061564,
                    88.0244588061564,
                    89.85286457149739,
                    86.75653672831504,
                    93.72132017978079,
                    93.72132017978079
                  ]
                },
                {
                  "hoverinfo": "skip",
                  "line": {
                    "color": "grey"
                  },
                  "mode": "lines",
                  "opacity": 0.1,
                  "showlegend": false,
                  "type": "scatter",
                  "x": [
                    0,
                    0.7500004999989999,
                    0.7916654166691666,
                    0.8000003999991998,
                    0.8333323333353332,
                    0.8500002999993999,
                    0.9000001999995998,
                    0.9500000999997998,
                    0.9583330833338332
                  ],
                  "y": [
                    89.29458185331072,
                    90.22735900636782,
                    90.22735900636782,
                    90.22735900636782,
                    90.22735900636782,
                    91.75094865713528,
                    87.9925303153288,
                    92.6131913312585,
                    92.6131913312585
                  ]
                },
                {
                  "hoverinfo": "skip",
                  "line": {
                    "color": "grey"
                  },
                  "mode": "lines",
                  "opacity": 0.1,
                  "showlegend": false,
                  "type": "scatter",
                  "x": [
                    0,
                    0.7500004999989999,
                    0.7916654166691666,
                    0.8000003999991998,
                    0.8333323333353332,
                    0.8500002999993999,
                    0.9000001999995998,
                    0.9500000999997998,
                    0.9583330833338332
                  ],
                  "y": [
                    90.97829447307525,
                    94.03205156908521,
                    94.03205156908521,
                    94.03205156908521,
                    94.03205156908521,
                    94.03205156908521,
                    93.00675021285679,
                    93.00675021285679,
                    93.00675021285679
                  ]
                },
                {
                  "hoverinfo": "skip",
                  "line": {
                    "color": "grey"
                  },
                  "mode": "lines",
                  "opacity": 0.1,
                  "showlegend": false,
                  "type": "scatter",
                  "x": [
                    0,
                    0.7500004999989999,
                    0.7916654166691666,
                    0.8000003999991998,
                    0.8333323333353332,
                    0.8500002999993999,
                    0.9000001999995998,
                    0.9500000999997998,
                    0.9583330833338332
                  ],
                  "y": [
                    71.91557354074058,
                    78.18205075355468,
                    78.18205075355468,
                    78.18205075355468,
                    78.18205075355468,
                    78.18205075355468,
                    75.15322996075578,
                    75.15322996075578,
                    75.15322996075578
                  ]
                },
                {
                  "hoverinfo": "skip",
                  "line": {
                    "color": "grey"
                  },
                  "mode": "lines",
                  "opacity": 0.1,
                  "showlegend": false,
                  "type": "scatter",
                  "x": [
                    0,
                    0.7500004999989999,
                    0.7916654166691666,
                    0.8000003999991998,
                    0.8333323333353332,
                    0.8500002999993999,
                    0.9000001999995998,
                    0.9500000999997998,
                    0.9583330833338332
                  ],
                  "y": [
                    88.40014940454853,
                    92.55533389469383,
                    92.55533389469383,
                    92.55533389469383,
                    92.55533389469383,
                    92.55533389469383,
                    89.30119761279276,
                    89.30119761279276,
                    89.30119761279276
                  ]
                },
                {
                  "hoverinfo": "skip",
                  "line": {
                    "color": "grey"
                  },
                  "mode": "lines",
                  "opacity": 0.1,
                  "showlegend": false,
                  "type": "scatter",
                  "x": [
                    0,
                    0.7500004999989999,
                    0.7916654166691666,
                    0.8000003999991998,
                    0.8333323333353332,
                    0.8500002999993999,
                    0.9000001999995998,
                    0.9500000999997998,
                    0.9583330833338332
                  ],
                  "y": [
                    3.2479135672824206,
                    3.330862056724783,
                    3.330862056724783,
                    3.330862056724783,
                    3.330862056724783,
                    3.330862056724783,
                    3.0615920892585464,
                    3.0615920892585464,
                    3.0615920892585464
                  ]
                },
                {
                  "hoverinfo": "skip",
                  "line": {
                    "color": "grey"
                  },
                  "mode": "lines",
                  "opacity": 0.1,
                  "showlegend": false,
                  "type": "scatter",
                  "x": [
                    0,
                    0.7500004999989999,
                    0.7916654166691666,
                    0.8000003999991998,
                    0.8333323333353332,
                    0.8500002999993999,
                    0.9000001999995998,
                    0.9500000999997998,
                    0.9583330833338332
                  ],
                  "y": [
                    89.80044820441944,
                    92.93241295075802,
                    92.93241295075802,
                    92.93241295075802,
                    92.93241295075802,
                    92.93241295075802,
                    89.82498167142651,
                    89.82498167142651,
                    89.82498167142651
                  ]
                },
                {
                  "hoverinfo": "skip",
                  "line": {
                    "color": "grey"
                  },
                  "mode": "lines",
                  "opacity": 0.1,
                  "showlegend": false,
                  "type": "scatter",
                  "x": [
                    0,
                    0.7500004999989999,
                    0.7916654166691666,
                    0.8000003999991998,
                    0.8333323333353332,
                    0.8500002999993999,
                    0.9000001999995998,
                    0.9500000999997998,
                    0.9583330833338332
                  ],
                  "y": [
                    37.233704924190434,
                    41.442937809560995,
                    41.442937809560995,
                    41.442937809560995,
                    41.442937809560995,
                    41.442937809560995,
                    39.34670096649595,
                    39.34670096649595,
                    39.34670096649595
                  ]
                },
                {
                  "hoverinfo": "skip",
                  "line": {
                    "color": "grey"
                  },
                  "mode": "lines",
                  "opacity": 0.1,
                  "showlegend": false,
                  "type": "scatter",
                  "x": [
                    0,
                    0.7500004999989999,
                    0.7916654166691666,
                    0.8000003999991998,
                    0.8333323333353332,
                    0.8500002999993999,
                    0.9000001999995998,
                    0.9500000999997998,
                    0.9583330833338332
                  ],
                  "y": [
                    92.3952976917688,
                    95.19713264742592,
                    95.19713264742592,
                    95.19713264742592,
                    95.19713264742592,
                    95.19713264742592,
                    93.33170139361516,
                    93.33170139361516,
                    93.33170139361516
                  ]
                },
                {
                  "hoverinfo": "skip",
                  "line": {
                    "color": "grey"
                  },
                  "mode": "lines",
                  "opacity": 0.1,
                  "showlegend": false,
                  "type": "scatter",
                  "x": [
                    0,
                    0.7500004999989999,
                    0.7916654166691666,
                    0.8000003999991998,
                    0.8333323333353332,
                    0.8500002999993999,
                    0.9000001999995998,
                    0.9500000999997998,
                    0.9583330833338332
                  ],
                  "y": [
                    77.26426224092691,
                    80.21542291697803,
                    80.21542291697803,
                    80.21542291697803,
                    80.21542291697803,
                    80.21542291697803,
                    73.13312588282032,
                    73.13312588282032,
                    73.13312588282032
                  ]
                },
                {
                  "hoverinfo": "skip",
                  "line": {
                    "color": "grey"
                  },
                  "mode": "lines",
                  "opacity": 0.1,
                  "showlegend": false,
                  "type": "scatter",
                  "x": [
                    0,
                    0.7500004999989999,
                    0.7916654166691666,
                    0.8000003999991998,
                    0.8333323333353332,
                    0.8500002999993999,
                    0.9000001999995998,
                    0.9500000999997998,
                    0.9583330833338332
                  ],
                  "y": [
                    54.22344988720699,
                    68.26614821119406,
                    68.26614821119406,
                    68.26614821119406,
                    68.26614821119406,
                    68.26614821119406,
                    69.4391275137105,
                    69.4391275137105,
                    69.4391275137105
                  ]
                },
                {
                  "hoverinfo": "skip",
                  "line": {
                    "color": "grey"
                  },
                  "mode": "lines",
                  "opacity": 0.1,
                  "showlegend": false,
                  "type": "scatter",
                  "x": [
                    0,
                    0.7500004999989999,
                    0.7916654166691666,
                    0.8000003999991998,
                    0.8333323333353332,
                    0.8500002999993999,
                    0.9000001999995998,
                    0.9500000999997998,
                    0.9583330833338332
                  ],
                  "y": [
                    77.92081092982222,
                    80.54273543602862,
                    80.54273543602862,
                    80.54273543602862,
                    80.54273543602862,
                    80.54273543602862,
                    80.75201963567531,
                    80.75201963567531,
                    80.75201963567531
                  ]
                },
                {
                  "hoverinfo": "skip",
                  "line": {
                    "color": "grey"
                  },
                  "mode": "lines",
                  "opacity": 0.1,
                  "showlegend": false,
                  "type": "scatter",
                  "x": [
                    0,
                    0.7500004999989999,
                    0.7916654166691666,
                    0.8000003999991998,
                    0.8333323333353332,
                    0.8500002999993999,
                    0.9000001999995998,
                    0.9500000999997998,
                    0.9583330833338332
                  ],
                  "y": [
                    94.06853774029805,
                    94.06853774029805,
                    94.06853774029805,
                    94.06853774029805,
                    94.06853774029805,
                    94.06853774029805,
                    92.84326974821046,
                    95.68874806820678,
                    95.68874806820678
                  ]
                },
                {
                  "hoverinfo": "skip",
                  "line": {
                    "color": "grey"
                  },
                  "mode": "lines",
                  "opacity": 0.1,
                  "showlegend": false,
                  "type": "scatter",
                  "x": [
                    0,
                    0.7500004999989999,
                    0.7916654166691666,
                    0.8000003999991998,
                    0.8333323333353332,
                    0.8500002999993999,
                    0.9000001999995998,
                    0.9500000999997998,
                    0.9583330833338332
                  ],
                  "y": [
                    85.26519397900856,
                    91.89169243751071,
                    91.89169243751071,
                    91.89169243751071,
                    91.89169243751071,
                    91.89169243751071,
                    89.6204765951209,
                    89.6204765951209,
                    89.6204765951209
                  ]
                },
                {
                  "hoverinfo": "skip",
                  "line": {
                    "color": "grey"
                  },
                  "mode": "lines",
                  "opacity": 0.1,
                  "showlegend": false,
                  "type": "scatter",
                  "x": [
                    0,
                    0.7500004999989999,
                    0.7916654166691666,
                    0.8000003999991998,
                    0.8333323333353332,
                    0.8500002999993999,
                    0.9000001999995998,
                    0.9500000999997998,
                    0.9583330833338332
                  ],
                  "y": [
                    52.51711245508569,
                    53.16689783802217,
                    53.16689783802217,
                    53.16689783802217,
                    53.16689783802217,
                    53.16689783802217,
                    54.526217509921224,
                    54.526217509921224,
                    54.526217509921224
                  ]
                },
                {
                  "hoverinfo": "skip",
                  "line": {
                    "color": "grey"
                  },
                  "mode": "lines",
                  "opacity": 0.1,
                  "showlegend": false,
                  "type": "scatter",
                  "x": [
                    0,
                    0.7500004999989999,
                    0.7916654166691666,
                    0.8000003999991998,
                    0.8333323333353332,
                    0.8500002999993999,
                    0.9000001999995998,
                    0.9500000999997998,
                    0.9583330833338332
                  ],
                  "y": [
                    93.5303470366785,
                    93.5303470366785,
                    93.5303470366785,
                    93.5303470366785,
                    93.5303470366785,
                    93.5303470366785,
                    91.44939019224417,
                    93.9827702682886,
                    93.9827702682886
                  ]
                }
              ],
              "layout": {
                "annotations": [
                  {
                    "text": "baseline value = 0.85",
                    "x": 0.85,
                    "y": 3.0615920892585464
                  },
                  {
                    "text": "baseline pred = 91.89",
                    "x": 0.8333323333353332,
                    "y": 91.89169243751071
                  }
                ],
                "margin": {
                  "b": 40,
                  "l": 40,
                  "r": 40,
                  "t": 40
                },
                "plot_bgcolor": "#fff",
                "shapes": [
                  {
                    "line": {
                      "color": "MediumPurple",
                      "dash": "dot",
                      "width": 4
                    },
                    "type": "line",
                    "x0": 0.85,
                    "x1": 0.85,
                    "xref": "x",
                    "y0": 3.0615920892585464,
                    "y1": 96.98437088548297,
                    "yref": "y"
                  },
                  {
                    "line": {
                      "color": "MediumPurple",
                      "dash": "dot",
                      "width": 4
                    },
                    "type": "line",
                    "x0": 0,
                    "x1": 0.9583330833338332,
                    "xref": "x",
                    "y0": 91.89169243751071,
                    "y1": 91.89169243751071,
                    "yref": "y"
                  }
                ],
                "showlegend": false,
                "template": {
                  "data": {
                    "scatter": [
                      {
                        "type": "scatter"
                      }
                    ]
                  }
                },
                "title": {
                  "text": "pdp plot for num__IAA_Y-1"
                },
                "xaxis": {
                  "title": {
                    "text": "num__IAA_Y-1"
                  }
                },
                "yaxis": {
                  "title": {
                    "text": "Predicted Target (Predicted %)"
                  }
                }
              }
            }
          },
          "metadata": {},
          "output_type": "display_data"
        }
      ],
      "source": [
        "explainer.plot_pdp(col='num__IAA_Y-1', index=_aluno)"
      ]
    }
  ],
  "metadata": {
    "colab": {
      "provenance": []
    },
    "kernelspec": {
      "display_name": "Python 3",
      "name": "python3"
    },
    "language_info": {
      "codemirror_mode": {
        "name": "ipython",
        "version": 3
      },
      "file_extension": ".py",
      "mimetype": "text/x-python",
      "name": "python",
      "nbconvert_exporter": "python",
      "pygments_lexer": "ipython3",
      "version": "3.10.4"
    }
  },
  "nbformat": 4,
  "nbformat_minor": 0
}
